{
 "cells": [
  {
   "cell_type": "code",
   "execution_count": 1,
   "metadata": {},
   "outputs": [
    {
     "data": {
      "text/plain": [
       "\"This is my 'data acquisition' notebook\""
      ]
     },
     "execution_count": 1,
     "metadata": {},
     "output_type": "execute_result"
    }
   ],
   "source": [
    "\"\"\"This is my 'data acquisition' notebook\"\"\""
   ]
  },
  {
   "cell_type": "code",
   "execution_count": 43,
   "metadata": {},
   "outputs": [],
   "source": [
    "\"\"\"Imports\"\"\"\n",
    "import requests\n",
    "from bs4 import BeautifulSoup\n",
    "import re\n",
    "import json\n",
    "from selenium import webdriver\n",
    "from selenium.webdriver.common.keys import Keys\n",
    "from selenium.webdriver.common.by import By\n",
    "from webdriver_manager.chrome import ChromeDriverManager\n",
    "import csv\n",
    "import pandas as pd\n",
    "import numpy as np"
   ]
  },
  {
   "cell_type": "code",
   "execution_count": 65,
   "metadata": {},
   "outputs": [],
   "source": [
    "def get_property_data(property_url):\n",
    "    \"\"\"This function will receive the url of the property and parse its contents. It will then save the property's data in a dictionary.\"\"\"\n",
    "    property_headers = []   ##list of headers\n",
    "    property_data = []   ##list of data/values\n",
    "    counter = 0\n",
    "    property = requests.get(property_url).text   ##request URL\n",
    "    property_soup = BeautifulSoup(property, \"html.parser\")   ##parse URL to BeautifulSoup\n",
    "    for code in property_soup.find(\"div\", attrs={\"class\": \"classified__header--immoweb-code\"}): ##find unique code\n",
    "        code_string = str(code)   ##convert to string\n",
    "        code_strip = code_string.strip()  \n",
    "        code_split = code_strip.split(\" : \",)   ##split to list\n",
    "        property_headers.append(code_split[0])   ##append first element as header\n",
    "        property_data.append(code_split[1])   ##append second element as data/value\n",
    "    for price in property_soup.find(\"p\", attrs={\"class\": \"classified__price\"}):   ##find property price\n",
    "        raw_price = str(price)   ##convert to string\n",
    "        sub_price = re.sub(r\"<.*?>\", '', raw_price).strip()   ##remove html elements\n",
    "        split_price = sub_price.split()   ##split to list\n",
    "        for list_price in split_price:\n",
    "            if counter == 0 and len(list_price) > 0:\n",
    "                    counter = counter + 1\n",
    "                    property_headers.append(\"Price_1\")   ##append 'Price' header\n",
    "                    property_data.append(list_price)   ##append price as data/value\n",
    "            elif counter > 0 and len(list_price) > 0:\n",
    "                    property_headers.append(\"Price_2\")   ##append 'Price' header\n",
    "                    property_data.append(list_price)   ##append price as data/value\n",
    "    for address in property_soup.find(\"script\", attrs={\"type\": \"text/javascript\"}): ##find property address\n",
    "        string_address = str(address)   ##convert to string\n",
    "        sub_address = re.search(\"\\\"country\\\"(.*?),\\\"distance\\\"\", string_address).group() ##search address fields\n",
    "        split_address = re.split(\":|,\", sub_address)   ##split to list\n",
    "        split_address.remove('\"distance\"')   ##remove unneccessary item\n",
    "        list_address = [item.replace('\"', '') for item in split_address]   ##remove \" and ,\n",
    "        address_headers = list_address[0:len(list_address):2]   ##append even elements as headers\n",
    "        for ah in address_headers:\n",
    "            property_headers.append(ah)\n",
    "        address_data = list_address[1:len(list_address):2]   ##append odd elements as data/values\n",
    "        for ad in address_data:\n",
    "            property_data.append(ad)\n",
    "    for tr in property_soup.find_all(\"tr\"):   ##find table of property characteristics\n",
    "        for th in tr.find_all(\"th\"):\n",
    "            header = str(th.string)\n",
    "            header_strip = header.strip()\n",
    "            if header_strip != 'None':\n",
    "                property_headers.append(header_strip)   ##append 'th' values as headers\n",
    "        for td in tr.find_all(\"td\"):\n",
    "            raw_datum = str(td)\n",
    "            sub_datum_1 = re.sub(r\"<.*?>\", '', raw_datum).strip()\n",
    "            sub_datum_2 = re.sub(r\"\\n\", '', sub_datum_1).strip()\n",
    "            sub_datum_3 = re.sub(r\"\\s{2,}\", '', sub_datum_2).strip()\n",
    "            if sub_datum_3 != '':\n",
    "                property_data.append(sub_datum_3)   ##append 'td' values as data/values\n",
    "    property_dictionary = dict(zip(property_headers, property_data))   ##combine headers (as keys) and data (as values) into dictionary\n",
    "    return (property_dictionary)"
   ]
  },
  {
   "cell_type": "code",
   "execution_count": 66,
   "metadata": {},
   "outputs": [
    {
     "data": {
      "text/plain": [
       "{'Immoweb code': '10154577',\n",
       " 'Price_1': '€670,000',\n",
       " 'Price_2': '675000€',\n",
       " 'country': 'Belgium',\n",
       " 'region': 'null',\n",
       " 'province': 'Brussels',\n",
       " 'district': 'Brussels',\n",
       " 'locality': 'Woluwe-St-Lambert',\n",
       " 'postalCode': '1200',\n",
       " 'street': 'Boulevard de la Woluwe 62 bo\\\\u00eete 3',\n",
       " 'number': 'null',\n",
       " 'box': 'null',\n",
       " 'propertyName': 'null',\n",
       " 'floor': 'null',\n",
       " 'latitude': '50.84',\n",
       " 'longitude': '4.44',\n",
       " 'Available as of': 'At delivery',\n",
       " 'Available date': 'June 30 2024 - 12:00 AM',\n",
       " 'Neighbourhood or locality': 'Brabant Flamand',\n",
       " 'Covered parking spaces': '1',\n",
       " 'Outdoor parking spaces': '1',\n",
       " 'Primary energy consumption': '115kWh/m²kilowatt hour per square meters',\n",
       " 'Energy class': 'B',\n",
       " 'Reference number of the EPC report': 'Not specified',\n",
       " 'CO₂ emission': '45 kg CO₂/m²',\n",
       " 'Yearly theoretical total energy consumption': 'Not specified',\n",
       " 'Flood zone type': 'Non flood zone',\n",
       " 'Tenement building': 'No',\n",
       " 'Address': 'Boulevard de la Woluwe 62 boîte 31200- Woluwe-St-Lambert',\n",
       " 'Website': 'http://www.latouretpetit.be',\n",
       " 'External reference': '4930894'}"
      ]
     },
     "execution_count": 66,
     "metadata": {},
     "output_type": "execute_result"
    }
   ],
   "source": [
    "##Check\n",
    "get_property_data(\"https://www.immoweb.be/en/classified/new-real-estate-project-houses/for-sale/wezembeek-oppem/1970/10154577\")"
   ]
  },
  {
   "cell_type": "code",
   "execution_count": 89,
   "metadata": {},
   "outputs": [],
   "source": [
    "def get_property_links(page_url):\n",
    "    \"\"\"This function will get and save all the url links of properties in a page given the url of the page\"\"\"\n",
    "    property_links = []   ##list of url links of properties \n",
    "    driver = webdriver.Chrome(ChromeDriverManager().install())   ##use selenium to open Chrome browser\n",
    "    driver.get(page_url)   ##open url of page with properties\n",
    "    driver.implicitly_wait(5)\n",
    "    keep_browsing = driver.find_element(\"id\", \"uc-btn-accept-banner\")   ##find 'Keep browsing' button\n",
    "    driver.implicitly_wait(5)\n",
    "    keep_browsing.click()   ##click on 'Keep browsing' button\n",
    "    page_soup = BeautifulSoup(driver.page_source, \"html.parser\")   ##parse URL to BeautifulSoup\n",
    "    for property_link in page_soup.find_all(\"a\", attrs={\"class\": \"card__title-link\"}):   ##find all property links in page\n",
    "        property_links.append(property_link.get(\"href\"))\n",
    "    driver.close()   ##close browser\n",
    "    return property_links"
   ]
  },
  {
   "cell_type": "code",
   "execution_count": 67,
   "metadata": {},
   "outputs": [
    {
     "name": "stderr",
     "output_type": "stream",
     "text": [
      "C:\\Users\\ARCH GLOBAL\\AppData\\Local\\Temp\\ipykernel_9680\\3192565382.py:4: DeprecationWarning: executable_path has been deprecated, please pass in a Service object\n",
      "  driver = webdriver.Chrome(ChromeDriverManager().install())\n"
     ]
    },
    {
     "data": {
      "text/plain": [
       "['https://www.immoweb.be/en/classified/apartment/for-sale/gavere/9890/10146915',\n",
       " 'https://www.immoweb.be/en/classified/apartment/for-sale/evere/1140/10156372',\n",
       " 'https://www.immoweb.be/en/classified/apartment/for-sale/woluwe-saint-pierre/1150/10154682',\n",
       " 'https://www.immoweb.be/en/classified/apartment/for-sale/vilvoorde/1800/10157770',\n",
       " 'https://www.immoweb.be/en/classified/apartment/for-sale/brugge-zeebrugge/8380/10157545',\n",
       " 'https://www.immoweb.be/en/classified/duplex/for-sale/gent/9000/10157660',\n",
       " 'https://www.immoweb.be/en/classified/new-real-estate-project-apartments/for-sale/ixelles/1050/10157528',\n",
       " 'https://www.immoweb.be/en/classified/penthouse/for-sale/etterbeek/1040/10157565',\n",
       " 'https://www.immoweb.be/en/classified/duplex/for-sale/etterbeek/1040/10157563',\n",
       " 'https://www.immoweb.be/en/classified/new-real-estate-project-apartments/for-sale/ixelles/1050/10157831',\n",
       " 'https://www.immoweb.be/en/classified/new-real-estate-project-apartments/for-sale/saint-gilles/1060/10157787',\n",
       " 'https://www.immoweb.be/en/classified/apartment/for-sale/tournai/7500/10156769',\n",
       " 'https://www.immoweb.be/en/classified/apartment/for-sale/schaerbeek/1030/10155618',\n",
       " 'https://www.immoweb.be/en/classified/apartment/for-sale/wanze/4520/10156202',\n",
       " 'https://www.immoweb.be/en/classified/apartment/for-sale/huy/4500/10155476',\n",
       " 'https://www.immoweb.be/en/classified/new-real-estate-project-apartments/for-sale/brussels-city/1000/9881253',\n",
       " 'https://www.immoweb.be/en/classified/apartment/for-sale/brussels-city/1000/10155629',\n",
       " 'https://www.immoweb.be/en/classified/new-real-estate-project-apartments/for-sale/westende/8434/10156573',\n",
       " 'https://www.immoweb.be/en/classified/apartment/for-sale/brussels-city/1000/10155621',\n",
       " 'https://www.immoweb.be/en/classified/new-real-estate-project-apartments/for-sale/westerlo/2260/10156246',\n",
       " 'https://www.immoweb.be/en/classified/apartment/for-sale/auderghem/1160/10155633',\n",
       " 'https://www.immoweb.be/en/classified/apartment/for-sale/liege/4000/10154548',\n",
       " 'https://www.immoweb.be/en/classified/new-real-estate-project-apartments/for-sale/tielt/8700/10154735',\n",
       " 'https://www.immoweb.be/en/classified/apartment/for-sale/gent/9000/10154732',\n",
       " 'https://www.immoweb.be/en/classified/new-real-estate-project-apartments/for-sale/bruxelles/1000/10092917',\n",
       " 'https://www.immoweb.be/en/classified/new-real-estate-project-apartments/for-sale/ixelles/1050/10154635',\n",
       " 'https://www.immoweb.be/en/classified/new-real-estate-project-apartments/for-sale/evere/1140/10156559',\n",
       " 'https://www.immoweb.be/en/classified/apartment/for-sale/sint-niklaas/9100/10152126',\n",
       " 'https://www.immoweb.be/en/classified/new-real-estate-project-apartments/for-sale/court-st.-etienne/1490/10151772',\n",
       " 'https://www.immoweb.be/en/classified/duplex/for-sale/roosdaal/1760/10152027',\n",
       " 'https://www.immoweb.be/en/classified/house/for-sale/houthulst/8650/10158596',\n",
       " 'https://www.immoweb.be/en/classified/new-real-estate-project-houses/for-sale/waterloo/1410/10158591',\n",
       " 'https://www.immoweb.be/en/classified/new-real-estate-project-apartments/for-sale/waterloo/1410/10158588',\n",
       " 'https://www.immoweb.be/en/classified/apartment/for-sale/diksmuide/8600/10158584',\n",
       " 'https://www.immoweb.be/en/classified/house/for-sale/beerse/2340/10158582',\n",
       " 'https://www.immoweb.be/en/classified/house/for-sale/couillet/6010/10158581',\n",
       " 'https://www.immoweb.be/en/classified/house/for-sale/lembeek/1502/10158578',\n",
       " 'https://www.immoweb.be/en/classified/house/for-sale/hasselt/3500/10158572']"
      ]
     },
     "execution_count": 67,
     "metadata": {},
     "output_type": "execute_result"
    }
   ],
   "source": [
    "#Check\n",
    "get_property_links(\"https://www.immoweb.be/en/search/apartment/for-sale?countries=BE\")"
   ]
  },
  {
   "cell_type": "code",
   "execution_count": 79,
   "metadata": {},
   "outputs": [],
   "source": [
    "def get_property_dataFrame(list_prop_dict):\n",
    "    df = pd.DataFrame.from_dict(list_prop_dict)\n",
    "    df.to_csv(r\"properties.csv\", index = False, header = True)"
   ]
  },
  {
   "cell_type": "code",
   "execution_count": 87,
   "metadata": {},
   "outputs": [],
   "source": [
    "def get_page_links(root_url):\n",
    "    page_links = []\n",
    "    driver = webdriver.Chrome(ChromeDriverManager().install())   ##use selenium to open Chrome browser\n",
    "    driver.get(root_url)   ##open url of site\n",
    "    driver.implicitly_wait(5)\n",
    "    keep_browsing = driver.find_element(\"id\", \"uc-btn-accept-banner\")   ##find 'Keep browsing' button\n",
    "    driver.implicitly_wait(5)\n",
    "    keep_browsing.click()   ##click on 'Keep browsing' button\n",
    "    root_soup = BeautifulSoup(driver.page_source, \"html.parser\")   ##parse URL to BeautifulSoup\n",
    "    for page_link in root_soup.find_all(\"a\", attrs={\"class\": \"top-navigation__link first-letter-uc\"}):   ##find starting page links in site\n",
    "        page_links.append(page_link.get(\"href\"))\n",
    "    sub_page_links = page_links[0:3]\n",
    "    driver.close()   ##close browser\n",
    "    return sub_page_links"
   ]
  },
  {
   "cell_type": "code",
   "execution_count": 88,
   "metadata": {},
   "outputs": [
    {
     "name": "stderr",
     "output_type": "stream",
     "text": [
      "C:\\Users\\ARCH GLOBAL\\AppData\\Local\\Temp\\ipykernel_9680\\4098161615.py:3: DeprecationWarning: executable_path has been deprecated, please pass in a Service object\n",
      "  driver = webdriver.Chrome(ChromeDriverManager().install())   ##use selenium to open Chrome browser\n"
     ]
    },
    {
     "data": {
      "text/plain": [
       "['https://www.immoweb.be/en/search/apartment/for-sale?countries=BE',\n",
       " 'https://www.immoweb.be/en/search/house/for-sale?countries=BE',\n",
       " 'https://www.immoweb.be/en/search/house-and-apartment/for-sale?countries=BE']"
      ]
     },
     "execution_count": 88,
     "metadata": {},
     "output_type": "execute_result"
    }
   ],
   "source": [
    "#Check\n",
    "get_page_links(\"https://www.immoweb.be/en\")"
   ]
  },
  {
   "cell_type": "code",
   "execution_count": 90,
   "metadata": {},
   "outputs": [
    {
     "name": "stderr",
     "output_type": "stream",
     "text": [
      "C:\\Users\\ARCH GLOBAL\\AppData\\Local\\Temp\\ipykernel_9680\\4098161615.py:3: DeprecationWarning: executable_path has been deprecated, please pass in a Service object\n",
      "  driver = webdriver.Chrome(ChromeDriverManager().install())   ##use selenium to open Chrome browser\n",
      "C:\\Users\\ARCH GLOBAL\\AppData\\Local\\Temp\\ipykernel_9680\\1579522535.py:4: DeprecationWarning: executable_path has been deprecated, please pass in a Service object\n",
      "  driver = webdriver.Chrome(ChromeDriverManager().install())   ##use selenium to open Chrome browser\n",
      "C:\\Users\\ARCH GLOBAL\\AppData\\Local\\Temp\\ipykernel_9680\\1579522535.py:4: DeprecationWarning: executable_path has been deprecated, please pass in a Service object\n",
      "  driver = webdriver.Chrome(ChromeDriverManager().install())   ##use selenium to open Chrome browser\n",
      "C:\\Users\\ARCH GLOBAL\\AppData\\Local\\Temp\\ipykernel_9680\\1579522535.py:4: DeprecationWarning: executable_path has been deprecated, please pass in a Service object\n",
      "  driver = webdriver.Chrome(ChromeDriverManager().install())   ##use selenium to open Chrome browser\n"
     ]
    }
   ],
   "source": [
    "\"\"\"This is the process to get dictionaries of property characteristics given a page url\"\"\"\n",
    "\n",
    "list_page_links = get_page_links(\"https://www.immoweb.be/en\")\n",
    "for page_url in list_page_links:\n",
    "    property_links = get_property_links(page_url)\n",
    "    list_of_prop_dicts = []\n",
    "    for link in property_links:\n",
    "        list_of_prop_dicts.append(get_property_data(link))\n",
    "        get_property_dataFrame(list_of_prop_dicts)"
   ]
  }
 ],
 "metadata": {
  "kernelspec": {
   "display_name": "Python 3.10.7 ('immo_eliza')",
   "language": "python",
   "name": "python3"
  },
  "language_info": {
   "codemirror_mode": {
    "name": "ipython",
    "version": 3
   },
   "file_extension": ".py",
   "mimetype": "text/x-python",
   "name": "python",
   "nbconvert_exporter": "python",
   "pygments_lexer": "ipython3",
   "version": "3.10.7"
  },
  "orig_nbformat": 4,
  "vscode": {
   "interpreter": {
    "hash": "a33f1ef1e9ec6c31820fe781c5813ed8dc5071af9cb6488d9d33ac3262f9cb66"
   }
  }
 },
 "nbformat": 4,
 "nbformat_minor": 2
}
