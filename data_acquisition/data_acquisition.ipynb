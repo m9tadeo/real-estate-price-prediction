{
 "cells": [
  {
   "cell_type": "code",
   "execution_count": 1,
   "metadata": {},
   "outputs": [
    {
     "data": {
      "text/plain": [
       "\"This is my 'data acquisition' notebook\""
      ]
     },
     "execution_count": 1,
     "metadata": {},
     "output_type": "execute_result"
    }
   ],
   "source": [
    "\"\"\"This is my 'data acquisition' notebook\"\"\""
   ]
  },
  {
   "cell_type": "code",
   "execution_count": 183,
   "metadata": {},
   "outputs": [],
   "source": [
    "\"\"\"Imports\"\"\"\n",
    "import requests\n",
    "from bs4 import BeautifulSoup\n",
    "import re\n",
    "import json\n",
    "from selenium import webdriver\n",
    "from selenium.webdriver.common.keys import Keys\n",
    "from selenium.webdriver.common.by import By\n",
    "from webdriver_manager.chrome import ChromeDriverManager"
   ]
  },
  {
   "cell_type": "code",
   "execution_count": 153,
   "metadata": {},
   "outputs": [],
   "source": [
    "def get_property_data(property_url):\n",
    "    \"\"\"This function will receive the url of the property and parse its contents. It will then save the property's data in a dictionary.\"\"\"\n",
    "    property_headers = []\n",
    "    property_data = []\n",
    "    property = requests.get(property_url).text\n",
    "    property_soup = BeautifulSoup(property, \"html.parser\")\n",
    "    for code in property_soup.find(\"div\", attrs={\"class\": \"classified__header--immoweb-code\"}):\n",
    "        code_string = str(code)\n",
    "        code_strip = code_string.strip()\n",
    "        code_split = code_strip.split(\":\",)\n",
    "        property_headers.append(code_split[0])\n",
    "        property_data.append(code_split[1])\n",
    "    for price in property_soup.find(\"p\", attrs={\"class\": \"classified__price\"}):\n",
    "        raw_price = str(price)\n",
    "        sub_price = re.sub(r\"<.*?>\", '', raw_price).strip()\n",
    "        split_price = sub_price.split()\n",
    "        for list_price in split_price:\n",
    "            if len(list_price) > 0:\n",
    "                property_headers.append(\"Price\")\n",
    "                property_data.append(list_price)\n",
    "    for address in property_soup.find(\"script\", attrs={\"type\": \"text/javascript\"}):\n",
    "        string_address = str(address)\n",
    "        sub_address = re.search(\"\\\"country\\\"(.*?),\\\"distance\\\"\", string_address).group()\n",
    "        split_address = re.split(\":|,\", sub_address)\n",
    "        split_address.remove('\"distance\"')\n",
    "        list_address = [item.replace('\"', '') for item in split_address]\n",
    "        address_headers = list_address[0:len(list_address):2]\n",
    "        for ah in address_headers:\n",
    "            property_headers.append(ah)\n",
    "        address_data = list_address[1:len(list_address):2]\n",
    "        for ad in address_data:\n",
    "            property_data.append(ad)\n",
    "    for tr in property_soup.find_all(\"tr\"):\n",
    "        for th in tr.find_all(\"th\"):\n",
    "            header = str(th.string)\n",
    "            header_strip = header.strip()\n",
    "            if header_strip != 'None':\n",
    "                property_headers.append(header_strip)\n",
    "        for td in tr.find_all(\"td\"):\n",
    "            raw_datum = str(td)\n",
    "            sub_datum_1 = re.sub(r\"<.*?>\", '', raw_datum).strip()\n",
    "            sub_datum_2 = re.sub(r\"\\n\", '', sub_datum_1).strip()\n",
    "            sub_datum_3 = re.sub(r\"\\s{2,}\", '', sub_datum_2).strip()\n",
    "            if sub_datum_3 != '':\n",
    "                property_data.append(sub_datum_3)\n",
    "    property_dictionary = dict(zip(property_headers, property_data))\n",
    "    return (property_dictionary)"
   ]
  },
  {
   "cell_type": "code",
   "execution_count": 163,
   "metadata": {},
   "outputs": [
    {
     "data": {
      "text/plain": [
       "{'Immoweb code ': ' 10153840',\n",
       " 'Price': '417000€',\n",
       " 'country': 'Belgium',\n",
       " 'region': 'null',\n",
       " 'province': 'Hainaut',\n",
       " 'district': 'Soignies',\n",
       " 'locality': 'Lessines',\n",
       " 'postalCode': '7860',\n",
       " 'street': \"Porte d'Ogy 78\",\n",
       " 'number': 'null',\n",
       " 'box': 'null',\n",
       " 'propertyName': 'null',\n",
       " 'floor': 'null',\n",
       " 'latitude': '50.71',\n",
       " 'longitude': '3.83',\n",
       " 'Primary energy consumption': 'Not specified',\n",
       " 'Energy class': 'Not specified',\n",
       " 'Reference number of the EPC report': 'Not specified',\n",
       " 'CO₂ emission': 'Not specified',\n",
       " 'Yearly theoretical total energy consumption': 'Not specified',\n",
       " 'Tenement building': 'No',\n",
       " 'Address': \"Porte d'Ogy 787860- Lessines\",\n",
       " 'Website': 'http://www.immobeguin.be'}"
      ]
     },
     "execution_count": 163,
     "metadata": {},
     "output_type": "execute_result"
    }
   ],
   "source": [
    "##Check\n",
    "get_property_data(\"https://www.immoweb.be/en/classified/new-real-estate-project-houses/for-sale/saint-sauveur/7912/10153840\")"
   ]
  },
  {
   "cell_type": "code",
   "execution_count": 205,
   "metadata": {},
   "outputs": [],
   "source": [
    "def get_property_links(page_url):\n",
    "    \"\"\"This function will get and save all the url links of properties in a page given the url of the page\"\"\"\n",
    "    driver = webdriver.Chrome(ChromeDriverManager().install())\n",
    "    driver.get(page_url)\n",
    "    driver.find_element(\"id\", \"uc-btn-accept-banner\").click()\n",
    "    page_soup = BeautifulSoup(driver.page_source, \"html.parser\")\n",
    "    ##driver.close()"
   ]
  },
  {
   "cell_type": "code",
   "execution_count": 204,
   "metadata": {},
   "outputs": [
    {
     "name": "stderr",
     "output_type": "stream",
     "text": [
      "C:\\Users\\ARCH GLOBAL\\AppData\\Local\\Temp\\ipykernel_14764\\111090840.py:3: DeprecationWarning: executable_path has been deprecated, please pass in a Service object\n",
      "  driver = webdriver.Chrome(ChromeDriverManager().install())\n"
     ]
    }
   ],
   "source": [
    "get_property_links(\"https://www.immoweb.be/en/search/apartment/for-sale?countries=BE\")"
   ]
  }
 ],
 "metadata": {
  "kernelspec": {
   "display_name": "Python 3.10.7 ('immo_eliza')",
   "language": "python",
   "name": "python3"
  },
  "language_info": {
   "codemirror_mode": {
    "name": "ipython",
    "version": 3
   },
   "file_extension": ".py",
   "mimetype": "text/x-python",
   "name": "python",
   "nbconvert_exporter": "python",
   "pygments_lexer": "ipython3",
   "version": "3.10.7"
  },
  "orig_nbformat": 4,
  "vscode": {
   "interpreter": {
    "hash": "a33f1ef1e9ec6c31820fe781c5813ed8dc5071af9cb6488d9d33ac3262f9cb66"
   }
  }
 },
 "nbformat": 4,
 "nbformat_minor": 2
}
