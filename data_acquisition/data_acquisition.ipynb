{
 "cells": [
  {
   "cell_type": "code",
   "execution_count": 35,
   "metadata": {},
   "outputs": [
    {
     "data": {
      "text/plain": [
       "\"This is my 'data acquisition' notebook\""
      ]
     },
     "execution_count": 35,
     "metadata": {},
     "output_type": "execute_result"
    }
   ],
   "source": [
    "\"\"\"This is my 'data acquisition' notebook\"\"\""
   ]
  },
  {
   "cell_type": "code",
   "execution_count": 5,
   "metadata": {},
   "outputs": [],
   "source": [
    "\"\"\"Imports\"\"\"\n",
    "import requests\n",
    "from bs4 import BeautifulSoup\n",
    "import re\n",
    "import json\n",
    "from selenium import webdriver\n",
    "from selenium.webdriver.common.keys import Keys\n",
    "from selenium.webdriver.common.by import By\n",
    "from webdriver_manager.chrome import ChromeDriverManager\n",
    "import csv\n",
    "import pandas as pd\n",
    "import numpy as np"
   ]
  },
  {
   "cell_type": "code",
   "execution_count": 6,
   "metadata": {},
   "outputs": [],
   "source": [
    "def get_property_data(property_url):\n",
    "    \"\"\"This function will receive the url of the property and parse its contents. It will then save the property's data in a dictionary.\"\"\"\n",
    "    property_headers = []   ##list of headers\n",
    "    property_data = []   ##list of data/values\n",
    "    counter = 0\n",
    "    property = requests.get(property_url).text   ##request URL\n",
    "    property_soup = BeautifulSoup(property, \"html.parser\")   ##parse URL to BeautifulSoup\n",
    "    for code in property_soup.find(\"div\", attrs={\"class\": \"classified__header--immoweb-code\"}): ##find unique code\n",
    "        code_string = str(code)   ##convert to string\n",
    "        code_strip = code_string.strip()  \n",
    "        code_split = code_strip.split(\" : \",)   ##split to list\n",
    "        property_headers.append(code_split[0])   ##append first element as header\n",
    "        property_data.append(code_split[1])   ##append second element as data/value\n",
    "    for price in property_soup.find(\"p\", attrs={\"class\": \"classified__price\"}):   ##find property price\n",
    "        raw_price = str(price)   ##convert to string\n",
    "        sub_price = re.sub(r\"<.*?>\", '', raw_price).strip()   ##remove html elements\n",
    "        split_price = sub_price.split()   ##split to list\n",
    "        for list_price in split_price:\n",
    "            if counter == 0 and len(list_price) > 0:  ##find price values\n",
    "                    counter = counter + 1\n",
    "                    property_headers.append(\"Price_1\")   ##append 'Price' header\n",
    "                    property_data.append(list_price)   ##append price as data/value\n",
    "            elif counter > 0 and len(list_price) > 0:\n",
    "                    property_headers.append(\"Price_2\")   ##append 'Price' header\n",
    "                    property_data.append(list_price)   ##append price as data/value\n",
    "    for address in property_soup.find(\"script\", attrs={\"type\": \"text/javascript\"}): ##find property address\n",
    "        string_address = str(address)   ##convert to string\n",
    "        sub_address = re.search(\"\\\"country\\\"(.*?),\\\"distance\\\"\", string_address).group() ##search address fields\n",
    "        split_address = re.split(\":|,\", sub_address)   ##split to list\n",
    "        split_address.remove('\"distance\"')   ##remove unneccessary item\n",
    "        list_address = [item.replace('\"', '') for item in split_address]   ##remove \" and ,\n",
    "        address_headers = list_address[0:len(list_address):2]   ##append even elements as headers\n",
    "        for ah in address_headers:\n",
    "            property_headers.append(ah)\n",
    "        address_data = list_address[1:len(list_address):2]   ##append odd elements as data/values\n",
    "        for ad in address_data:\n",
    "            property_data.append(ad)\n",
    "    for tr in property_soup.find_all(\"tr\"):   ##find table of property characteristics\n",
    "        for th in tr.find_all(\"th\"):\n",
    "            header = str(th.string)\n",
    "            header_strip = header.strip()\n",
    "            if header_strip != 'None':\n",
    "                property_headers.append(header_strip)   ##append 'th' values as headers\n",
    "        for td in tr.find_all(\"td\"):\n",
    "            raw_datum = str(td)\n",
    "            sub_datum_1 = re.sub(r\"<.*?>\", '', raw_datum).strip()\n",
    "            sub_datum_2 = re.sub(r\"\\n\", '', sub_datum_1).strip()\n",
    "            sub_datum_3 = re.sub(r\"\\s{2,}\", '', sub_datum_2).strip()\n",
    "            if sub_datum_3 != '':\n",
    "                property_data.append(sub_datum_3)   ##append 'td' values as data/values\n",
    "    property_dictionary = dict(zip(property_headers, property_data))   ##combine headers (as keys) and data (as values) into dictionary\n",
    "    return (property_dictionary)"
   ]
  },
  {
   "cell_type": "code",
   "execution_count": 38,
   "metadata": {},
   "outputs": [
    {
     "data": {
      "text/plain": [
       "{'Immoweb code': '10155618',\n",
       " 'Price_1': '€137,500',\n",
       " 'Price_2': '137500€',\n",
       " 'country': 'Belgium',\n",
       " 'region': 'null',\n",
       " 'province': 'Flemish Brabant',\n",
       " 'district': 'Leuven',\n",
       " 'locality': 'Leuven',\n",
       " 'postalCode': '3000',\n",
       " 'street': 'Vismarkt 10 c',\n",
       " 'number': 'null',\n",
       " 'box': 'null',\n",
       " 'propertyName': 'null',\n",
       " 'floor': 'null',\n",
       " 'latitude': '50.88',\n",
       " 'longitude': '4.7',\n",
       " 'Property name': 'Josephine',\n",
       " 'Construction year': '2004',\n",
       " 'Floor': '4',\n",
       " 'Number of floors': '4',\n",
       " 'Building condition': 'Good',\n",
       " 'Number of frontages': '4',\n",
       " 'Living area': '28m²square meters',\n",
       " 'Kitchen type': 'Installed',\n",
       " 'Bedrooms': '1',\n",
       " 'Bedroom 1 surface': '7m²square meters',\n",
       " 'Bathrooms': '1',\n",
       " 'Toilets': '1',\n",
       " 'Furnished': 'No',\n",
       " 'Terrace surface': '2m²square meters',\n",
       " 'Elevator': 'Yes',\n",
       " 'Visio phone': 'Yes',\n",
       " 'Primary energy consumption': '527kWh/m²kilowatt hour per square meters',\n",
       " 'Energy class': 'G',\n",
       " 'Reference number of the EPC report': 'Not specified',\n",
       " 'CO₂ emission': 'Not specified',\n",
       " 'Yearly theoretical total energy consumption': 'Not specified',\n",
       " 'As built plan': 'No',\n",
       " 'Heating type': 'Electric',\n",
       " 'Double glazing': 'Yes',\n",
       " 'Planning permission obtained': 'Yes',\n",
       " 'Flood zone type': 'Non flood zone',\n",
       " 'Price': '€ 137,500137500 €',\n",
       " 'Cadastral income': '€ 705705 €',\n",
       " 'Tenement building': 'No',\n",
       " 'Address': 'Vismarkt 10 c3000- Leuven',\n",
       " 'Website': 'http://www.immo-time.be',\n",
       " 'External reference': '3379 - 2991734'}"
      ]
     },
     "execution_count": 38,
     "metadata": {},
     "output_type": "execute_result"
    }
   ],
   "source": [
    "##Check\n",
    "get_property_data(\"https://www.immoweb.be/en/classified/apartment/for-sale/schaerbeek/1030/10155618\")"
   ]
  },
  {
   "cell_type": "code",
   "execution_count": 7,
   "metadata": {},
   "outputs": [],
   "source": [
    "def get_property_links(page_url):\n",
    "    \"\"\"This function will get and save all the url links of properties in a page given the url of the page\"\"\"\n",
    "    property_links = []   ##list of url links of properties \n",
    "    driver = webdriver.Chrome(ChromeDriverManager().install())   ##use selenium to open Chrome browser\n",
    "    driver.get(page_url)   ##open url of page with properties\n",
    "    driver.implicitly_wait(5)\n",
    "    keep_browsing = driver.find_element(\"id\", \"uc-btn-accept-banner\")   ##find 'Keep browsing' button\n",
    "    driver.implicitly_wait(5)\n",
    "    keep_browsing.click()   ##click on 'Keep browsing' button\n",
    "    page_soup = BeautifulSoup(driver.page_source, \"html.parser\")   ##parse URL to BeautifulSoup\n",
    "    for property_link in page_soup.find_all(\"a\", attrs={\"class\": \"card__title-link\"}):   ##find all property links in page\n",
    "        property_links.append(property_link.get(\"href\"))\n",
    "    driver.close()   ##close browser\n",
    "    return property_links"
   ]
  },
  {
   "cell_type": "code",
   "execution_count": 40,
   "metadata": {},
   "outputs": [
    {
     "name": "stderr",
     "output_type": "stream",
     "text": [
      "C:\\Users\\ARCH GLOBAL\\AppData\\Local\\Temp\\ipykernel_5956\\1579522535.py:4: DeprecationWarning: executable_path has been deprecated, please pass in a Service object\n",
      "  driver = webdriver.Chrome(ChromeDriverManager().install())   ##use selenium to open Chrome browser\n"
     ]
    },
    {
     "data": {
      "text/plain": [
       "['https://www.immoweb.be/en/classified/apartment/for-sale/deinze/9800/10160241',\n",
       " 'https://www.immoweb.be/en/classified/apartment/for-sale/gavere/9890/10146915',\n",
       " 'https://www.immoweb.be/en/classified/new-real-estate-project-apartments/for-sale/brussels-city/1000/9881253',\n",
       " 'https://www.immoweb.be/en/classified/apartment/for-sale/oudenaarde/9700/10160259',\n",
       " 'https://www.immoweb.be/en/classified/new-real-estate-project-apartments/for-sale/deinze/9800/10160247',\n",
       " 'https://www.immoweb.be/en/classified/apartment/for-sale/woluwe-saint-pierre/1150/10154682',\n",
       " 'https://www.immoweb.be/en/classified/apartment/for-sale/deinze/9800/10160243',\n",
       " 'https://www.immoweb.be/en/classified/apartment/for-sale/deinze/9800/10160244',\n",
       " 'https://www.immoweb.be/en/classified/apartment/for-sale/deinze/9800/10160246',\n",
       " 'https://www.immoweb.be/en/classified/apartment/for-sale/deinze/9800/10160242',\n",
       " 'https://www.immoweb.be/en/classified/new-real-estate-project-apartments/for-sale/court-st.-etienne/1490/10157688',\n",
       " 'https://www.immoweb.be/en/classified/apartment/for-sale/vilvoorde/1800/10157770',\n",
       " 'https://www.immoweb.be/en/classified/new-real-estate-project-apartments/for-sale/aalst/9300/10159398',\n",
       " 'https://www.immoweb.be/en/classified/apartment/for-sale/brugge-zeebrugge/8380/10157545',\n",
       " 'https://www.immoweb.be/en/classified/apartment/for-sale/schaerbeek/1030/10159481',\n",
       " 'https://www.immoweb.be/en/classified/new-real-estate-project-apartments/for-sale/braine-lalleud/1420/10158500',\n",
       " 'https://www.immoweb.be/en/classified/new-real-estate-project-apartments/for-sale/braine-lalleud/1420/10158413',\n",
       " 'https://www.immoweb.be/en/classified/new-real-estate-project-apartments/for-sale/waterloo/1410/10158588',\n",
       " 'https://www.immoweb.be/en/classified/duplex/for-sale/gent/9000/10157660',\n",
       " 'https://www.immoweb.be/en/classified/new-real-estate-project-apartments/for-sale/braine-lalleud/1420/10158422',\n",
       " 'https://www.immoweb.be/en/classified/new-real-estate-project-apartments/for-sale/ixelles/1050/10157528',\n",
       " 'https://www.immoweb.be/en/classified/new-real-estate-project-apartments/for-sale/braine-lalleud/1420/10158470',\n",
       " 'https://www.immoweb.be/en/classified/apartment/for-sale/woluwe-saint-lambert/1200/10160111',\n",
       " 'https://www.immoweb.be/en/classified/penthouse/for-sale/etterbeek/1040/10157565',\n",
       " 'https://www.immoweb.be/en/classified/duplex/for-sale/etterbeek/1040/10157563',\n",
       " 'https://www.immoweb.be/en/classified/new-real-estate-project-apartments/for-sale/ixelles/1050/10157831',\n",
       " 'https://www.immoweb.be/en/classified/new-real-estate-project-apartments/for-sale/saint-gilles/1060/10157787',\n",
       " 'https://www.immoweb.be/en/classified/apartment/for-sale/evere/1140/10156372',\n",
       " 'https://www.immoweb.be/en/classified/apartment/for-sale/tournai/7500/10156769',\n",
       " 'https://www.immoweb.be/en/classified/apartment/for-sale/schaerbeek/1030/10155618',\n",
       " 'https://www.immoweb.be/en/classified/apartment-block/for-sale/ieper/8900/10161962',\n",
       " 'https://www.immoweb.be/en/classified/house/for-sale/breux/55600/10031674',\n",
       " 'https://www.immoweb.be/en/classified/apartment/for-sale/molenbeek-saint-jean/1080/10161960',\n",
       " 'https://www.immoweb.be/en/classified/house/for-sale/oostduinkerke/8670/10161954',\n",
       " 'https://www.immoweb.be/en/classified/exceptional-property/for-sale/sint-agatha-berchem/1082/10161948',\n",
       " 'https://www.immoweb.be/en/classified/country-cottage/for-sale/montignies-saint-christophe/6560/10161943',\n",
       " 'https://www.immoweb.be/en/classified/mansion/for-sale/liege/4000/10161941',\n",
       " 'https://www.immoweb.be/en/classified/house/for-sale/flemalle/4400/10161940']"
      ]
     },
     "execution_count": 40,
     "metadata": {},
     "output_type": "execute_result"
    }
   ],
   "source": [
    "#Check\n",
    "get_property_links(\"https://www.immoweb.be/en/search/apartment/for-sale?countries=BE\")"
   ]
  },
  {
   "cell_type": "code",
   "execution_count": 8,
   "metadata": {},
   "outputs": [],
   "source": [
    "def get_property_dataFrame(list_prop_dict):\n",
    "    \"\"\"This function will save all the properties and their respective data into a pandas data frame then write it to a csv file\"\"\"\n",
    "    df = pd.DataFrame.from_dict(list_prop_dict)\n",
    "    df.to_csv(r\"properties.csv\", index = False, header = True, escapechar = \"\\\\\")"
   ]
  },
  {
   "cell_type": "code",
   "execution_count": 12,
   "metadata": {},
   "outputs": [],
   "source": [
    "def get_page_links(root_url):\n",
    "    raw_links = []\n",
    "    page_links = []\n",
    "    driver = webdriver.Chrome(ChromeDriverManager().install())   ##use selenium to open Chrome browser\n",
    "    driver.get(root_url)   ##open url of site\n",
    "    driver.implicitly_wait(5)\n",
    "    keep_browsing = driver.find_element(\"id\", \"uc-btn-accept-banner\")   ##find 'Keep browsing' button\n",
    "    driver.implicitly_wait(5)\n",
    "    keep_browsing.click()   ##click on 'Keep browsing' button\n",
    "    root_soup = BeautifulSoup(driver.page_source, \"html.parser\")   ##parse URL to BeautifulSoup\n",
    "    for page_link in root_soup.find_all(\"a\", attrs={\"class\": \"top-navigation__link first-letter-uc\"}):   ##find starting page links in site\n",
    "        raw_links.append(page_link.get(\"href\"))\n",
    "    page_one_links = raw_links[0:2]  ##links to page one of \"Apartment\" and \"House\"\n",
    "    for curr_page in page_one_links:\n",
    "        page_links.append(curr_page)  ##add page one to page links\n",
    "        curr_page_plus = f\"{curr_page}&page=\"   ##format to locate next pages incrementally\n",
    "        page_counter = 2\n",
    "        while page_counter < 16:\n",
    "            next_page = f\"{curr_page_plus}{page_counter}\"  ##locate next pages incrementally\n",
    "            page_links.append(next_page)  ##add next pages to page links\n",
    "            page_counter = page_counter + 1\n",
    "    driver.close()   ##close browser\n",
    "    return page_links"
   ]
  },
  {
   "cell_type": "code",
   "execution_count": 11,
   "metadata": {},
   "outputs": [
    {
     "name": "stderr",
     "output_type": "stream",
     "text": [
      "C:\\Users\\ARCH GLOBAL\\AppData\\Local\\Temp\\ipykernel_6828\\123518360.py:4: DeprecationWarning: executable_path has been deprecated, please pass in a Service object\n",
      "  driver = webdriver.Chrome(ChromeDriverManager().install())   ##use selenium to open Chrome browser\n"
     ]
    },
    {
     "data": {
      "text/plain": [
       "['https://www.immoweb.be/en/search/apartment/for-sale?countries=BE',\n",
       " 'https://www.immoweb.be/en/search/apartment/for-sale?countries=BE&page=2',\n",
       " 'https://www.immoweb.be/en/search/apartment/for-sale?countries=BE&page=3',\n",
       " 'https://www.immoweb.be/en/search/apartment/for-sale?countries=BE&page=4',\n",
       " 'https://www.immoweb.be/en/search/apartment/for-sale?countries=BE&page=5',\n",
       " 'https://www.immoweb.be/en/search/apartment/for-sale?countries=BE&page=6',\n",
       " 'https://www.immoweb.be/en/search/apartment/for-sale?countries=BE&page=7',\n",
       " 'https://www.immoweb.be/en/search/apartment/for-sale?countries=BE&page=8',\n",
       " 'https://www.immoweb.be/en/search/apartment/for-sale?countries=BE&page=9',\n",
       " 'https://www.immoweb.be/en/search/apartment/for-sale?countries=BE&page=10',\n",
       " 'https://www.immoweb.be/en/search/apartment/for-sale?countries=BE&page=11',\n",
       " 'https://www.immoweb.be/en/search/apartment/for-sale?countries=BE&page=12',\n",
       " 'https://www.immoweb.be/en/search/apartment/for-sale?countries=BE&page=13',\n",
       " 'https://www.immoweb.be/en/search/apartment/for-sale?countries=BE&page=14',\n",
       " 'https://www.immoweb.be/en/search/apartment/for-sale?countries=BE&page=15',\n",
       " 'https://www.immoweb.be/en/search/house/for-sale?countries=BE',\n",
       " 'https://www.immoweb.be/en/search/house/for-sale?countries=BE&page=2',\n",
       " 'https://www.immoweb.be/en/search/house/for-sale?countries=BE&page=3',\n",
       " 'https://www.immoweb.be/en/search/house/for-sale?countries=BE&page=4',\n",
       " 'https://www.immoweb.be/en/search/house/for-sale?countries=BE&page=5',\n",
       " 'https://www.immoweb.be/en/search/house/for-sale?countries=BE&page=6',\n",
       " 'https://www.immoweb.be/en/search/house/for-sale?countries=BE&page=7',\n",
       " 'https://www.immoweb.be/en/search/house/for-sale?countries=BE&page=8',\n",
       " 'https://www.immoweb.be/en/search/house/for-sale?countries=BE&page=9',\n",
       " 'https://www.immoweb.be/en/search/house/for-sale?countries=BE&page=10',\n",
       " 'https://www.immoweb.be/en/search/house/for-sale?countries=BE&page=11',\n",
       " 'https://www.immoweb.be/en/search/house/for-sale?countries=BE&page=12',\n",
       " 'https://www.immoweb.be/en/search/house/for-sale?countries=BE&page=13',\n",
       " 'https://www.immoweb.be/en/search/house/for-sale?countries=BE&page=14',\n",
       " 'https://www.immoweb.be/en/search/house/for-sale?countries=BE&page=15']"
      ]
     },
     "execution_count": 11,
     "metadata": {},
     "output_type": "execute_result"
    }
   ],
   "source": [
    "#Check\n",
    "get_page_links(\"https://www.immoweb.be/en\")"
   ]
  },
  {
   "cell_type": "code",
   "execution_count": 13,
   "metadata": {},
   "outputs": [
    {
     "name": "stderr",
     "output_type": "stream",
     "text": [
      "C:\\Users\\ARCH GLOBAL\\AppData\\Local\\Temp\\ipykernel_6828\\2806666524.py:4: DeprecationWarning: executable_path has been deprecated, please pass in a Service object\n",
      "  driver = webdriver.Chrome(ChromeDriverManager().install())   ##use selenium to open Chrome browser\n"
     ]
    }
   ],
   "source": [
    "\"\"\"This is the process to get dictionaries of property characteristics given the root url\"\"\"\n",
    "\n",
    "list_of_prop_dicts = []\n",
    "list_page_links = get_page_links(\"https://www.immoweb.be/en\")\n",
    "for page_url in list_page_links:\n",
    "    property_links = get_property_links(page_url)\n",
    "    for link in property_links:\n",
    "        list_of_prop_dicts.append(get_property_data(link))"
   ]
  },
  {
   "cell_type": "code",
   "execution_count": null,
   "metadata": {},
   "outputs": [],
   "source": [
    "\"\"\"This is the process to save dictionaries of property characteristics into a pandas data frame then write it to csv\"\"\"\n",
    "\n",
    "get_property_dataFrame(list_of_prop_dicts)"
   ]
  }
 ],
 "metadata": {
  "kernelspec": {
   "display_name": "Python 3.10.7 ('immo_eliza')",
   "language": "python",
   "name": "python3"
  },
  "language_info": {
   "codemirror_mode": {
    "name": "ipython",
    "version": 3
   },
   "file_extension": ".py",
   "mimetype": "text/x-python",
   "name": "python",
   "nbconvert_exporter": "python",
   "pygments_lexer": "ipython3",
   "version": "3.10.7"
  },
  "orig_nbformat": 4,
  "vscode": {
   "interpreter": {
    "hash": "a33f1ef1e9ec6c31820fe781c5813ed8dc5071af9cb6488d9d33ac3262f9cb66"
   }
  }
 },
 "nbformat": 4,
 "nbformat_minor": 2
}
