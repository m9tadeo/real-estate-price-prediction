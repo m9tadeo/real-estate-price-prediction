{
 "cells": [
  {
   "cell_type": "code",
   "execution_count": 1,
   "metadata": {},
   "outputs": [
    {
     "data": {
      "text/plain": [
       "\"This is my 'data acquisition' notebook\""
      ]
     },
     "execution_count": 1,
     "metadata": {},
     "output_type": "execute_result"
    }
   ],
   "source": [
    "\"\"\"This is my 'data acquisition' notebook\"\"\""
   ]
  },
  {
   "cell_type": "code",
   "execution_count": 95,
   "metadata": {},
   "outputs": [],
   "source": [
    "\"\"\"Imports\"\"\"\n",
    "import requests\n",
    "from bs4 import BeautifulSoup\n",
    "import re"
   ]
  },
  {
   "cell_type": "code",
   "execution_count": 200,
   "metadata": {},
   "outputs": [],
   "source": [
    "def get_property_data(property_url):\n",
    "    \"\"\"This function will receive the url of the property and parse its contents. It will then save the property's data in a dictionary.\"\"\"\n",
    "    property_headers = []\n",
    "    property_data = []\n",
    "    property = requests.get(property_url).text\n",
    "    property_soup = BeautifulSoup(property, \"html.parser\")\n",
    "    for tr in property_soup.find_all(\"tr\"):\n",
    "        for th in tr.find_all(\"th\"):\n",
    "            header = str(th.string)\n",
    "            header_strip = header.strip()\n",
    "            property_headers.append(header_strip)\n",
    "        for td in tr.find_all(\"td\"):\n",
    "            raw_datum = str(td)\n",
    "            sub_datum_1 = re.sub(r\"<.*?>\", '', raw_datum).strip()\n",
    "            sub_datum_2 = re.sub(r\"\\n\" , '', sub_datum_1).strip()\n",
    "            sub_datum_3 = re.sub(r\"\\s{2,}\", '', sub_datum_2).strip()\n",
    "            property_data.append(sub_datum_3)\n",
    "    property_dictionary = dict(zip(property_headers, property_data))\n",
    "    print(property_dictionary)\n",
    "    return (property_dictionary)"
   ]
  },
  {
   "cell_type": "code",
   "execution_count": 204,
   "metadata": {},
   "outputs": [
    {
     "name": "stdout",
     "output_type": "stream",
     "text": [
      "{'Available as of': 'After signing the deed', 'Construction year': '2019', 'Floor': '1', 'Number of floors': '1', 'Building condition': 'As new', 'Street frontage width': '4 m', 'Number of frontages': '2', 'Covered parking spaces': '1', 'Surroundings type': 'Living area (residential, urban or rural)', 'Living area': '50m²square meters', 'Living room surface': '9m²square meters', 'Kitchen type': 'USA hyper equipped', 'Kitchen surface': '6m²square meters', 'Bedrooms': '1', 'Bedroom 1 surface': '10m²square meters', 'Dressing room': 'No', 'Bathrooms': '1', 'Toilets': '1', 'Office': 'No', 'Professional space': 'No', 'Basement surface': '2m²square meters', 'Armored door': 'No', 'Terrace surface': '4m²square meters', 'Terrace orientation': 'South', 'Caretaker': 'No', 'Elevator': 'Yes', 'Accessible for disabled people': 'Yes', 'Intercom': 'Yes', 'Secure access / alarm': 'No', 'Air conditioning': 'No', 'TV cable': 'Yes', 'Visio phone': 'Yes', 'Jacuzzi': 'No', 'Sauna': 'No', 'Swimming pool': 'No', 'Internet': 'Yes', 'Primary energy consumption': '113kWh/m²kilowatt hour per square meters', 'Energy class': 'B', 'None': '46021-G-2013_194/EP13566/A001/D01/SD002', 'Reference number of the EPC report': 'Not specified', 'CO₂ emission': 'Not specified', 'Yearly theoretical total energy consumption': 'Yes, conform', 'As built plan': '57', 'E-level (overall energy performance)': 'Gas', 'Heating type': 'No', 'Heat pump': 'No', 'Photovoltaic solar panels': 'No', 'Thermic solar panels': 'No', 'Common water heater': 'Yes', 'Double glazing': 'Yes', 'Planning permission obtained': 'Apartment building', 'Type of building': 'Yes', 'Subdivision permit': 'No', 'Possible priority purchase right': 'No', 'Proceedings for breach of planning regulations': 'Non flood zone', 'Flood zone type': '€ 189,000189000 €', 'Price': '€ 4545 €', 'Monthly charges': '€ 612612 €', 'Cadastral income': 'No', 'Tenement building': ''}\n"
     ]
    },
    {
     "data": {
      "text/plain": [
       "{'Available as of': 'After signing the deed',\n",
       " 'Construction year': '2019',\n",
       " 'Floor': '1',\n",
       " 'Number of floors': '1',\n",
       " 'Building condition': 'As new',\n",
       " 'Street frontage width': '4 m',\n",
       " 'Number of frontages': '2',\n",
       " 'Covered parking spaces': '1',\n",
       " 'Surroundings type': 'Living area (residential, urban or rural)',\n",
       " 'Living area': '50m²square meters',\n",
       " 'Living room surface': '9m²square meters',\n",
       " 'Kitchen type': 'USA hyper equipped',\n",
       " 'Kitchen surface': '6m²square meters',\n",
       " 'Bedrooms': '1',\n",
       " 'Bedroom 1 surface': '10m²square meters',\n",
       " 'Dressing room': 'No',\n",
       " 'Bathrooms': '1',\n",
       " 'Toilets': '1',\n",
       " 'Office': 'No',\n",
       " 'Professional space': 'No',\n",
       " 'Basement surface': '2m²square meters',\n",
       " 'Armored door': 'No',\n",
       " 'Terrace surface': '4m²square meters',\n",
       " 'Terrace orientation': 'South',\n",
       " 'Caretaker': 'No',\n",
       " 'Elevator': 'Yes',\n",
       " 'Accessible for disabled people': 'Yes',\n",
       " 'Intercom': 'Yes',\n",
       " 'Secure access / alarm': 'No',\n",
       " 'Air conditioning': 'No',\n",
       " 'TV cable': 'Yes',\n",
       " 'Visio phone': 'Yes',\n",
       " 'Jacuzzi': 'No',\n",
       " 'Sauna': 'No',\n",
       " 'Swimming pool': 'No',\n",
       " 'Internet': 'Yes',\n",
       " 'Primary energy consumption': '113kWh/m²kilowatt hour per square meters',\n",
       " 'Energy class': 'B',\n",
       " 'None': '46021-G-2013_194/EP13566/A001/D01/SD002',\n",
       " 'Reference number of the EPC report': 'Not specified',\n",
       " 'CO₂ emission': 'Not specified',\n",
       " 'Yearly theoretical total energy consumption': 'Yes, conform',\n",
       " 'As built plan': '57',\n",
       " 'E-level (overall energy performance)': 'Gas',\n",
       " 'Heating type': 'No',\n",
       " 'Heat pump': 'No',\n",
       " 'Photovoltaic solar panels': 'No',\n",
       " 'Thermic solar panels': 'No',\n",
       " 'Common water heater': 'Yes',\n",
       " 'Double glazing': 'Yes',\n",
       " 'Planning permission obtained': 'Apartment building',\n",
       " 'Type of building': 'Yes',\n",
       " 'Subdivision permit': 'No',\n",
       " 'Possible priority purchase right': 'No',\n",
       " 'Proceedings for breach of planning regulations': 'Non flood zone',\n",
       " 'Flood zone type': '€ 189,000189000 €',\n",
       " 'Price': '€ 4545 €',\n",
       " 'Monthly charges': '€ 612612 €',\n",
       " 'Cadastral income': 'No',\n",
       " 'Tenement building': ''}"
      ]
     },
     "execution_count": 204,
     "metadata": {},
     "output_type": "execute_result"
    }
   ],
   "source": [
    "##Check\n",
    "get_property_data(\"https://www.immoweb.be/en/classified/apartment/for-sale/sint-niklaas/9100/10152126?searchId=633d99213408a\")"
   ]
  }
 ],
 "metadata": {
  "kernelspec": {
   "display_name": "Python 3.10.7 ('immo_eliza')",
   "language": "python",
   "name": "python3"
  },
  "language_info": {
   "codemirror_mode": {
    "name": "ipython",
    "version": 3
   },
   "file_extension": ".py",
   "mimetype": "text/x-python",
   "name": "python",
   "nbconvert_exporter": "python",
   "pygments_lexer": "ipython3",
   "version": "3.10.7"
  },
  "orig_nbformat": 4,
  "vscode": {
   "interpreter": {
    "hash": "a33f1ef1e9ec6c31820fe781c5813ed8dc5071af9cb6488d9d33ac3262f9cb66"
   }
  }
 },
 "nbformat": 4,
 "nbformat_minor": 2
}
