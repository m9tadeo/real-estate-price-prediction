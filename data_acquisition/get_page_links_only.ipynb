{
 "cells": [
  {
   "cell_type": "code",
   "execution_count": 1,
   "metadata": {},
   "outputs": [],
   "source": [
    "\"\"\"Imports\"\"\"\n",
    "import requests\n",
    "from bs4 import BeautifulSoup\n",
    "import re\n",
    "import json\n",
    "from selenium import webdriver\n",
    "from selenium.webdriver.common.keys import Keys\n",
    "from selenium.webdriver.common.by import By\n",
    "from webdriver_manager.chrome import ChromeDriverManager\n",
    "import csv\n",
    "import pandas as pd\n",
    "import numpy as np"
   ]
  },
  {
   "cell_type": "code",
   "execution_count": 4,
   "metadata": {},
   "outputs": [],
   "source": [
    "def get_page_links(root_url):\n",
    "    raw_links = []\n",
    "    sub_page_links = []\n",
    "    driver = webdriver.Chrome(ChromeDriverManager().install())   ##use selenium to open Chrome browser\n",
    "    driver.get(root_url)   ##open url of site\n",
    "    driver.implicitly_wait(5)\n",
    "    keep_browsing = driver.find_element(\"id\", \"uc-btn-accept-banner\")   ##find 'Keep browsing' button\n",
    "    driver.implicitly_wait(5)\n",
    "    keep_browsing.click()   ##click on 'Keep browsing' button\n",
    "    root_soup = BeautifulSoup(driver.page_source, \"html.parser\")   ##parse URL to BeautifulSoup\n",
    "    for page_link in root_soup.find_all(\"a\", attrs={\"class\": \"top-navigation__link first-letter-uc\"}):   ##find starting page links in site\n",
    "        raw_links.append(page_link.get(\"href\"))\n",
    "    page_one_links = raw_links[0:2]\n",
    "    for curr_page in page_one_links:\n",
    "        sub_page_links.append(curr_page)\n",
    "        curr_page_plus = f\"{curr_page}&page=\"\n",
    "        page_counter = 2\n",
    "        while page_counter < 11:\n",
    "            next_page = f\"{curr_page_plus}{page_counter}\"\n",
    "            sub_page_links.append(next_page)\n",
    "            page_counter = page_counter + 1\n",
    "    return sub_page_links"
   ]
  },
  {
   "cell_type": "code",
   "execution_count": 5,
   "metadata": {},
   "outputs": [
    {
     "name": "stderr",
     "output_type": "stream",
     "text": [
      "C:\\Users\\ARCH GLOBAL\\AppData\\Local\\Temp\\ipykernel_4420\\2412321384.py:4: DeprecationWarning: executable_path has been deprecated, please pass in a Service object\n",
      "  driver = webdriver.Chrome(ChromeDriverManager().install())   ##use selenium to open Chrome browser\n"
     ]
    },
    {
     "data": {
      "text/plain": [
       "['https://www.immoweb.be/en/search/apartment/for-sale?countries=BE',\n",
       " 'https://www.immoweb.be/en/search/apartment/for-sale?countries=BE&page=2',\n",
       " 'https://www.immoweb.be/en/search/apartment/for-sale?countries=BE&page=3',\n",
       " 'https://www.immoweb.be/en/search/apartment/for-sale?countries=BE&page=4',\n",
       " 'https://www.immoweb.be/en/search/apartment/for-sale?countries=BE&page=5',\n",
       " 'https://www.immoweb.be/en/search/apartment/for-sale?countries=BE&page=6',\n",
       " 'https://www.immoweb.be/en/search/apartment/for-sale?countries=BE&page=7',\n",
       " 'https://www.immoweb.be/en/search/apartment/for-sale?countries=BE&page=8',\n",
       " 'https://www.immoweb.be/en/search/apartment/for-sale?countries=BE&page=9',\n",
       " 'https://www.immoweb.be/en/search/apartment/for-sale?countries=BE&page=10',\n",
       " 'https://www.immoweb.be/en/search/house/for-sale?countries=BE',\n",
       " 'https://www.immoweb.be/en/search/house/for-sale?countries=BE&page=2',\n",
       " 'https://www.immoweb.be/en/search/house/for-sale?countries=BE&page=3',\n",
       " 'https://www.immoweb.be/en/search/house/for-sale?countries=BE&page=4',\n",
       " 'https://www.immoweb.be/en/search/house/for-sale?countries=BE&page=5',\n",
       " 'https://www.immoweb.be/en/search/house/for-sale?countries=BE&page=6',\n",
       " 'https://www.immoweb.be/en/search/house/for-sale?countries=BE&page=7',\n",
       " 'https://www.immoweb.be/en/search/house/for-sale?countries=BE&page=8',\n",
       " 'https://www.immoweb.be/en/search/house/for-sale?countries=BE&page=9',\n",
       " 'https://www.immoweb.be/en/search/house/for-sale?countries=BE&page=10']"
      ]
     },
     "execution_count": 5,
     "metadata": {},
     "output_type": "execute_result"
    }
   ],
   "source": [
    "get_page_links(\"https://www.immoweb.be/en\")"
   ]
  }
 ],
 "metadata": {
  "kernelspec": {
   "display_name": "Python 3.10.7 ('immo_eliza')",
   "language": "python",
   "name": "python3"
  },
  "language_info": {
   "codemirror_mode": {
    "name": "ipython",
    "version": 3
   },
   "file_extension": ".py",
   "mimetype": "text/x-python",
   "name": "python",
   "nbconvert_exporter": "python",
   "pygments_lexer": "ipython3",
   "version": "3.10.7"
  },
  "orig_nbformat": 4,
  "vscode": {
   "interpreter": {
    "hash": "a33f1ef1e9ec6c31820fe781c5813ed8dc5071af9cb6488d9d33ac3262f9cb66"
   }
  }
 },
 "nbformat": 4,
 "nbformat_minor": 2
}
