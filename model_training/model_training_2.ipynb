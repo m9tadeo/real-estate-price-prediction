{
 "cells": [
  {
   "cell_type": "markdown",
   "metadata": {},
   "source": [
    "This is my preprocessing and model training notebook"
   ]
  },
  {
   "cell_type": "code",
   "execution_count": 192,
   "metadata": {},
   "outputs": [],
   "source": [
    "\"\"\"Import Libraries\"\"\"\n",
    "\n",
    "import pandas as pd\n",
    "import numpy as np\n",
    "import matplotlib as mpl\n",
    "import matplotlib.pyplot as plt\n",
    "from math import radians\n",
    "from sklearn.preprocessing import OneHotEncoder\n",
    "from sklearn.preprocessing import StandardScaler\n",
    "from sklearn.preprocessing import MinMaxScaler\n",
    "from sklearn.model_selection import train_test_split\n",
    "from sklearn.linear_model import LinearRegression\n",
    "from sklearn.preprocessing import PolynomialFeatures\n",
    "from sklearn.linear_model import LogisticRegression\n",
    "from sklearn.neighbors import KNeighborsRegressor\n",
    "from sklearn.ensemble import RandomForestRegressor\n",
    "from sklearn.tree import DecisionTreeRegressor\n",
    "from sklearn.metrics import mean_squared_error, mean_absolute_error"
   ]
  },
  {
   "cell_type": "code",
   "execution_count": 193,
   "metadata": {},
   "outputs": [],
   "source": [
    "\"\"\"This is a function to load the dataset\"\"\"\n",
    "\n",
    "def load_dataset():\n",
    "    dataset = '../../data/properties_filtered.csv'\n",
    "    df = pd.read_csv(dataset)\n",
    "    return df"
   ]
  },
  {
   "cell_type": "code",
   "execution_count": 194,
   "metadata": {},
   "outputs": [],
   "source": [
    "\"\"\"This is a function to define the categorical features and run them through OneHotEncoder\"\"\"\n",
    "\n",
    "def ohe_data(df):\n",
    "    ##Declare type feature\n",
    "    column_type = df['type'].values\n",
    "    ##Declare categorical features\n",
    "    columns_ohe = ['province', 'district', 'postalCode', 'heatingType']\n",
    "    ##Run OneHotEncoder\n",
    "    ohe = OneHotEncoder()\n",
    "    cat_ohe = ohe.fit_transform(df[columns_ohe]).toarray()\n",
    "    ##Stack type with other categorical features\n",
    "    cat_data = np.column_stack((column_type, cat_ohe))\n",
    "    return cat_data"
   ]
  },
  {
   "cell_type": "code",
   "execution_count": 195,
   "metadata": {},
   "outputs": [],
   "source": [
    "\"\"\"This is a function to define numerical features only\"\"\"\n",
    "\n",
    "def num_data(df):\n",
    "    ##Declare non-categorical features\n",
    "    columns_non_cat = ['latitude', 'longitude', 'constructionYear', 'buildingCondition', 'numberOfFrontages', 'livingArea', 'kitchenType', 'bedrooms', 'bedroom1Surface',\n",
    "    'bedroom2Surface', 'bathrooms', 'toilets', 'energyConsumption', 'energyClass']\n",
    "    non_cat = df[columns_non_cat].values\n",
    "    return non_cat"
   ]
  },
  {
   "cell_type": "code",
   "execution_count": 196,
   "metadata": {},
   "outputs": [],
   "source": [
    "\"\"\"This is a function to merge categorical data run through OneHotEncoder with the numerical features\"\"\"\n",
    "\n",
    "def merge_data(df, cat_data):\n",
    "    ##Declare non-categorical features\n",
    "    columns_non_cat = ['latitude', 'longitude', 'constructionYear', 'buildingCondition', 'numberOfFrontages', 'livingArea', 'kitchenType', 'bedrooms', 'bedroom1Surface',\n",
    "    'bedroom2Surface', 'bathrooms', 'toilets', 'energyConsumption', 'energyClass']\n",
    "    non_cat = df[columns_non_cat].values\n",
    "    ##Stack categorical and non-categorical features together\n",
    "    X = np.column_stack((cat_data, non_cat))\n",
    "    return X"
   ]
  },
  {
   "cell_type": "code",
   "execution_count": 197,
   "metadata": {},
   "outputs": [],
   "source": [
    "\"\"\"This is a function to split the dataset into train and test sets\"\"\" \n",
    "\n",
    "def split_data(X, y):\n",
    "    ##Split the dataset\n",
    "    X_train, X_test, y_train, y_test = train_test_split(X, y, test_size=0.3, random_state=42)\n",
    "    return X_train, X_test, y_train, y_test"
   ]
  },
  {
   "cell_type": "code",
   "execution_count": 198,
   "metadata": {},
   "outputs": [],
   "source": [
    "\"\"\"This is a function to scale the features\"\"\"\n",
    "\n",
    "def scale_data(X_train, X_test):\n",
    "    ##Declare instance of scaler\n",
    "    sc = MinMaxScaler()\n",
    "    ##Fit and transform data\n",
    "    X_train = sc.fit_transform(X_train)\n",
    "    X_test = sc.fit_transform(X_test)\n",
    "    return X_train, X_test"
   ]
  },
  {
   "cell_type": "code",
   "execution_count": 219,
   "metadata": {},
   "outputs": [],
   "source": [
    "\"\"\"This is a function to declare a linear regression model then fit and evaluate it\"\"\"\n",
    "\n",
    "def model_data_linear(X_train, X_test, y_train, y_test):\n",
    "    ##Declare instance of model\n",
    "    regressor = LinearRegression()\n",
    "    ##Fit the model\n",
    "    regressor.fit(X_train, y_train)\n",
    "    train_score = regressor.score(X_train, y_train)\n",
    "    ##Evaluate the model\n",
    "    y_predict = regressor.predict(X_test)\n",
    "    test_score = regressor.score(X_test, y_test)\n",
    "    mse = mean_squared_error(y_test, y_predict)\n",
    "    mae = mean_absolute_error(y_test, y_predict)\n",
    "    print(f'train score is {train_score:.5f}, test score is {test_score:.5f}')\n",
    "    print(f'mean squared error is {mse:.2f}, mean absolute error is {mae:.2f}')\n",
    "    return y_predict"
   ]
  },
  {
   "cell_type": "code",
   "execution_count": 220,
   "metadata": {},
   "outputs": [],
   "source": [
    "\"\"\"This is a function to declare a linear regression model, fit the polynomial features and evalaute it\"\"\"\n",
    "\n",
    "def model_data_polynomial(X_train, X_test, y_train, y_test):\n",
    "    ##Fit polynomial regression to the dataset\n",
    "    poly = PolynomialFeatures(degree = 2, include_bias=False)\n",
    "    train_poly = poly.fit_transform(X_train)\n",
    "    test_poly = poly.fit_transform(X_test)\n",
    "    poly.fit(train_poly, y_train)\n",
    "    ##Declare instance of model\n",
    "    regressor = LinearRegression()\n",
    "    regressor.fit(train_poly, y_train)\n",
    "    train_score = regressor.score(train_poly, y_train)\n",
    "    ##Evaluate the model\n",
    "    y_predict = regressor.predict(test_poly)\n",
    "    test_score = regressor.score(test_poly, y_test)\n",
    "    mse = mean_squared_error(y_test, y_predict)\n",
    "    mae = mean_absolute_error(y_test, y_predict)\n",
    "    print(f'train score is {train_score:.5f}, test score is {test_score:.5f}')\n",
    "    print(f'mean squared error is {mse:.2f}, mean absolute error is {mae:.2f}')\n",
    "    return y_predict"
   ]
  },
  {
   "cell_type": "code",
   "execution_count": 221,
   "metadata": {},
   "outputs": [],
   "source": [
    "\"\"\"This is a function to declare a logistic regression model then fit and evaluate it\"\"\"\n",
    "\n",
    "def model_data_logistic(X_train, X_test, y_train, y_test):\n",
    "    ##Declare instance of model\n",
    "    regressor = LogisticRegression(solver='liblinear')\n",
    "    ##Fit the model\n",
    "    regressor.fit(X_train, y_train)\n",
    "    train_score = regressor.score(X_train, y_train)\n",
    "    ##Evaluate the model\n",
    "    y_predict = regressor.predict(X_test)\n",
    "    test_score = regressor.score(X_test, y_test)\n",
    "    mse = mean_squared_error(y_test, y_predict)\n",
    "    mae = mean_absolute_error(y_test, y_predict)\n",
    "    print(f'train score is {train_score:.5f}, test score is {test_score:.5f}')\n",
    "    print(f'mean squared error is {mse:.2f}, mean absolute error is {mae:.2f}')\n",
    "    return y_predict"
   ]
  },
  {
   "cell_type": "code",
   "execution_count": 222,
   "metadata": {},
   "outputs": [],
   "source": [
    "\"\"\"This is a function to declare a KNN regression model then fit and evaluate it\"\"\"\n",
    "\n",
    "def model_data_knn(X_train, X_test, y_train, y_test):\n",
    "    ##Declare instance of model\n",
    "    regressor = KNeighborsRegressor()\n",
    "    ##Fit the model\n",
    "    regressor.fit(X_train, y_train)\n",
    "    train_score = regressor.score(X_train, y_train)\n",
    "    ##Evaluate the model\n",
    "    y_predict = regressor.predict(X_test)\n",
    "    test_score = regressor.score(X_test, y_test)\n",
    "    mse = mean_squared_error(y_test, y_predict)\n",
    "    mae = mean_absolute_error(y_test, y_predict)\n",
    "    print(f'train score is {train_score:.5f}, test score is {test_score:.5f}')\n",
    "    print(f'mean squared error is {mse:.2f}, mean absolute error is {mae:.2f}')\n",
    "    return y_predict"
   ]
  },
  {
   "cell_type": "code",
   "execution_count": 223,
   "metadata": {},
   "outputs": [],
   "source": [
    "\"\"\"This is a function to declare a random forest regression model then fit and evaluate it\"\"\"\n",
    "\n",
    "def model_data_random_forest(X_train, X_test, y_train, y_test):\n",
    "    ##Declare instance of model\n",
    "    regressor = RandomForestRegressor(n_estimators= 100, random_state= 0)\n",
    "    ##Fit the model\n",
    "    regressor.fit(X_train, y_train)\n",
    "    train_score = regressor.score(X_train, y_train)\n",
    "    ##Evaluate the model\n",
    "    y_predict = regressor.predict(X_test)\n",
    "    test_score = regressor.score(X_test, y_test)\n",
    "    mse = mean_squared_error(y_test, y_predict)\n",
    "    mae = mean_absolute_error(y_test, y_predict)\n",
    "    print(f'train score is {train_score:.5f}, test score is {test_score:.5f}')\n",
    "    print(f'mean squared error is {mse:.2f}, mean absolute error is {mae:.2f}')\n",
    "    return y_predict"
   ]
  },
  {
   "cell_type": "code",
   "execution_count": 224,
   "metadata": {},
   "outputs": [],
   "source": [
    "\"\"\"This is a function to declare a decision tree regression model then fit and evaluate it\"\"\"\n",
    "\n",
    "def model_data_decision_tree(X_train, X_test, y_train, y_test):\n",
    "    ##Declare instance of model\n",
    "    regressor = DecisionTreeRegressor(random_state= 0)\n",
    "    ##Fit the model\n",
    "    regressor.fit(X_train, y_train)\n",
    "    train_score = regressor.score(X_train, y_train)\n",
    "    ##Evaluate the model\n",
    "    y_predict = regressor.predict(X_test)\n",
    "    test_score = regressor.score(X_test, y_test)\n",
    "    mse = mean_squared_error(y_test, y_predict)\n",
    "    mae = mean_absolute_error(y_test, y_predict)\n",
    "    print(f'train score is {train_score:.5f}, test score is {test_score:.5f}')\n",
    "    print(f'mean squared error is {mse:.2f}, mean absolute error is {mae:.2f}')\n",
    "    return y_predict"
   ]
  },
  {
   "cell_type": "code",
   "execution_count": 205,
   "metadata": {},
   "outputs": [],
   "source": [
    "\"\"\"This is a function to scatter plot the model prediction\"\"\"\n",
    "\n",
    "def model_plot(y_predict, y_test):\n",
    "    plt.scatter(y_predict, y_test, color='red')\n",
    "    plt.xlabel('y_predict')\n",
    "    plt.ylabel('y_test')\n",
    "    plt.show()"
   ]
  },
  {
   "cell_type": "code",
   "execution_count": 206,
   "metadata": {},
   "outputs": [],
   "source": [
    "\"\"\"This is a function to run everything on categorical data only\"\"\"\n",
    "\n",
    "def run_model_cat(model_data_name):\n",
    "    df = load_dataset()\n",
    "    X = ohe_data(df)\n",
    "    y = df['price'].values\n",
    "    X_train, X_test, y_train, y_test = split_data(X,y)\n",
    "    X_train, X_test = scale_data(X_train, X_test)\n",
    "    y_predict = model_data_name(X_train, X_test, y_train, y_test)\n",
    "    model_plot(y_predict, y_test)\n",
    "    return y_predict"
   ]
  },
  {
   "cell_type": "code",
   "execution_count": 207,
   "metadata": {},
   "outputs": [],
   "source": [
    "\"\"\"This is a function to run everything on non-categorical data only\"\"\"\n",
    "\n",
    "def run_model_non_cat(model_data_name):\n",
    "    df = load_dataset()\n",
    "    X = num_data(df)\n",
    "    y = df['price'].values\n",
    "    X_train, X_test, y_train, y_test = split_data(X,y)\n",
    "    X_train, X_test = scale_data(X_train, X_test)\n",
    "    y_predict = model_data_name(X_train, X_test, y_train, y_test)\n",
    "    model_plot(y_predict, y_test)\n",
    "    return y_predict"
   ]
  },
  {
   "cell_type": "code",
   "execution_count": 208,
   "metadata": {},
   "outputs": [],
   "source": [
    "\"\"\"This is a function to run everything on specific non-categorical feature\"\"\"\n",
    "\n",
    "def run_model_feature(model_data_name, column):\n",
    "    df = load_dataset()\n",
    "    array = df[column].values\n",
    "    y = df['price'].values\n",
    "    X = array.reshape(-1, 1)\n",
    "    X_train, X_test, y_train, y_test = split_data(X,y)\n",
    "    X_train, X_test = scale_data(X_train, X_test)\n",
    "    y_predict = model_data_name(X_train, X_test, y_train, y_test)\n",
    "    model_plot(y_predict, y_test)\n",
    "    return y_predict"
   ]
  },
  {
   "cell_type": "code",
   "execution_count": 209,
   "metadata": {},
   "outputs": [],
   "source": [
    "\"\"\"This is a function to run everything on all data\"\"\"\n",
    "\n",
    "def run_model(model_data_name):\n",
    "    df = load_dataset()\n",
    "    cat_data = ohe_data(df)\n",
    "    non_cat_data = num_data(df)\n",
    "    X = merge_data(df, cat_data)\n",
    "    y = df['price'].values\n",
    "    X_train, X_test, y_train, y_test = split_data(X,y)\n",
    "    X_train, X_test = scale_data(X_train, X_test)\n",
    "    y_predict = model_data_name(X_train, X_test, y_train, y_test)\n",
    "    model_plot(y_predict, y_test)\n",
    "    return y_predict"
   ]
  },
  {
   "cell_type": "code",
   "execution_count": 236,
   "metadata": {},
   "outputs": [
    {
     "name": "stdout",
     "output_type": "stream",
     "text": [
      "train score is 0.04082, test score is 0.06266\n",
      "mean squared error is 245964591220.40, mean absolute error is 275164.33\n"
     ]
    },
    {
     "data": {
      "image/png": "[encoded data removed]",
      "text/plain": [
       "<Figure size 640x480 with 1 Axes>"
      ]
     },
     "metadata": {},
     "output_type": "display_data"
    },
    {
     "data": {
      "text/plain": [
       "array([515856.35552847, 515856.35552847, 515856.35552847, 670824.72410218,\n",
       "       670824.72410218, 593340.53981532, 670824.72410218, 438372.17124161,\n",
       "       593340.53981532, 515856.35552847, 670824.72410218, 360887.98695476,\n",
       "       515856.35552847, 438372.17124161, 283403.8026679 , 593340.53981532,\n",
       "       515856.35552847, 515856.35552847, 670824.72410218, 515856.35552847,\n",
       "       670824.72410218, 515856.35552847, 515856.35552847, 593340.53981532,\n",
       "       515856.35552847, 515856.35552847, 438372.17124161, 593340.53981532,\n",
       "       670824.72410218, 438372.17124161, 515856.35552847, 515856.35552847,\n",
       "       360887.98695476, 438372.17124161, 438372.17124161, 515856.35552847,\n",
       "       670824.72410218, 515856.35552847, 515856.35552847, 515856.35552847,\n",
       "       360887.98695476, 670824.72410218, 593340.53981532, 670824.72410218,\n",
       "       515856.35552847, 593340.53981532, 515856.35552847, 670824.72410218,\n",
       "       515856.35552847, 670824.72410218, 670824.72410218, 670824.72410218,\n",
       "       515856.35552847, 438372.17124161, 360887.98695476, 670824.72410218,\n",
       "       515856.35552847, 670824.72410218, 670824.72410218, 360887.98695476,\n",
       "       515856.35552847, 670824.72410218, 515856.35552847, 515856.35552847,\n",
       "       670824.72410218, 670824.72410218, 593340.53981532, 515856.35552847,\n",
       "       360887.98695476, 438372.17124161, 438372.17124161, 438372.17124161,\n",
       "       670824.72410218, 515856.35552847, 670824.72410218, 670824.72410218,\n",
       "       360887.98695476, 515856.35552847, 670824.72410218, 670824.72410218,\n",
       "       670824.72410218, 515856.35552847, 515856.35552847, 438372.17124161,\n",
       "       670824.72410218, 360887.98695476, 438372.17124161, 515856.35552847,\n",
       "       670824.72410218, 515856.35552847, 670824.72410218, 670824.72410218,\n",
       "       515856.35552847, 438372.17124161, 670824.72410218, 670824.72410218,\n",
       "       670824.72410218, 670824.72410218, 515856.35552847, 593340.53981532,\n",
       "       670824.72410218, 670824.72410218, 515856.35552847, 515856.35552847,\n",
       "       515856.35552847, 670824.72410218, 515856.35552847, 670824.72410218,\n",
       "       515856.35552847, 360887.98695476, 438372.17124161, 515856.35552847,\n",
       "       670824.72410218, 438372.17124161, 593340.53981532, 360887.98695476,\n",
       "       593340.53981532, 515856.35552847, 515856.35552847, 515856.35552847,\n",
       "       360887.98695476, 515856.35552847, 670824.72410218, 515856.35552847,\n",
       "       670824.72410218, 670824.72410218, 670824.72410218, 438372.17124161,\n",
       "       515856.35552847, 515856.35552847, 593340.53981532, 670824.72410218,\n",
       "       515856.35552847, 438372.17124161, 593340.53981532, 515856.35552847,\n",
       "       670824.72410218, 438372.17124161, 515856.35552847, 670824.72410218,\n",
       "       515856.35552847, 515856.35552847, 438372.17124161, 438372.17124161,\n",
       "       360887.98695476, 515856.35552847, 360887.98695476, 670824.72410218,\n",
       "       593340.53981532, 670824.72410218, 670824.72410218, 670824.72410218,\n",
       "       515856.35552847, 670824.72410218, 670824.72410218, 515856.35552847,\n",
       "       515856.35552847, 438372.17124161, 670824.72410218, 360887.98695476,\n",
       "       670824.72410218, 515856.35552847, 360887.98695476, 515856.35552847,\n",
       "       438372.17124161, 670824.72410218, 670824.72410218, 515856.35552847,\n",
       "       670824.72410218, 515856.35552847, 360887.98695476, 515856.35552847,\n",
       "       515856.35552847, 670824.72410218, 515856.35552847, 515856.35552847,\n",
       "       515856.35552847, 438372.17124161, 515856.35552847, 670824.72410218,\n",
       "       593340.53981532, 438372.17124161, 515856.35552847, 670824.72410218,\n",
       "       670824.72410218, 515856.35552847, 670824.72410218, 515856.35552847,\n",
       "       593340.53981532, 515856.35552847, 438372.17124161, 670824.72410218,\n",
       "       438372.17124161, 515856.35552847, 515856.35552847, 670824.72410218,\n",
       "       515856.35552847, 670824.72410218, 515856.35552847, 360887.98695476,\n",
       "       670824.72410218, 670824.72410218, 515856.35552847, 438372.17124161,\n",
       "       515856.35552847, 515856.35552847, 515856.35552847, 515856.35552847,\n",
       "       515856.35552847, 593340.53981532, 670824.72410218, 515856.35552847,\n",
       "       670824.72410218, 515856.35552847, 515856.35552847, 593340.53981532,\n",
       "       670824.72410218, 360887.98695476, 515856.35552847, 515856.35552847,\n",
       "       438372.17124161, 670824.72410218, 515856.35552847, 515856.35552847,\n",
       "       670824.72410218, 670824.72410218, 670824.72410218, 670824.72410218,\n",
       "       360887.98695476, 670824.72410218, 670824.72410218, 438372.17124161,\n",
       "       670824.72410218, 515856.35552847, 360887.98695476, 670824.72410218,\n",
       "       438372.17124161, 670824.72410218, 670824.72410218, 360887.98695476,\n",
       "       670824.72410218, 438372.17124161, 515856.35552847, 515856.35552847,\n",
       "       360887.98695476, 670824.72410218, 515856.35552847, 438372.17124161,\n",
       "       360887.98695476, 515856.35552847, 593340.53981532, 360887.98695476,\n",
       "       670824.72410218, 515856.35552847, 438372.17124161, 360887.98695476,\n",
       "       593340.53981532, 515856.35552847, 360887.98695476, 360887.98695476,\n",
       "       670824.72410218, 360887.98695476, 515856.35552847, 593340.53981532,\n",
       "       670824.72410218, 438372.17124161, 670824.72410218, 360887.98695476,\n",
       "       670824.72410218, 438372.17124161, 670824.72410218, 515856.35552847,\n",
       "       360887.98695476, 515856.35552847, 360887.98695476, 670824.72410218,\n",
       "       670824.72410218, 515856.35552847, 670824.72410218, 438372.17124161,\n",
       "       515856.35552847, 360887.98695476, 515856.35552847, 515856.35552847,\n",
       "       515856.35552847, 515856.35552847, 670824.72410218, 515856.35552847,\n",
       "       515856.35552847, 670824.72410218, 515856.35552847, 515856.35552847,\n",
       "       438372.17124161, 438372.17124161, 515856.35552847, 670824.72410218,\n",
       "       515856.35552847, 515856.35552847])"
      ]
     },
     "execution_count": 236,
     "metadata": {},
     "output_type": "execute_result"
    }
   ],
   "source": [
    "run_model_feature(model_data_linear, 'buildingCondition')"
   ]
  },
  {
   "cell_type": "code",
   "execution_count": 237,
   "metadata": {},
   "outputs": [
    {
     "name": "stdout",
     "output_type": "stream",
     "text": [
      "train score is 0.49713, test score is 0.32584\n",
      "mean squared error is 176903768419.87, mean absolute error is 222830.04\n"
     ]
    },
    {
     "data": {
      "image/png": "[encoded data removed]",
      "text/plain": [
       "<Figure size 640x480 with 1 Axes>"
      ]
     },
     "metadata": {},
     "output_type": "display_data"
    },
    {
     "data": {
      "text/plain": [
       "array([ 3.27064205e+05,  4.63600607e+05,  7.68259506e+04,  1.07499911e+06,\n",
       "        5.31364914e+05,  5.16979669e+05,  4.85693721e+05, -1.67185165e+04,\n",
       "        3.43539963e+03,  1.81271992e+05,  4.31292683e+05,  2.01485347e+05,\n",
       "        3.12540377e+05,  4.11320167e+05,  4.56917355e+04,  1.71851334e+05,\n",
       "        3.34730494e+05,  6.66625814e+05,  3.32482263e+05,  5.92469269e+05,\n",
       "        6.78021104e+05,  1.37582342e+05,  6.00225334e+05,  1.94814244e+05,\n",
       "        1.05361663e+05,  8.65206592e+05,  4.13868664e+05,  6.06173385e+05,\n",
       "        5.78209632e+05,  1.07034569e+05,  1.13892345e+06,  8.64216847e+05,\n",
       "       -1.03564743e+05, -2.12662930e+05,  5.45543985e+05,  8.07926241e+05,\n",
       "        4.51921518e+05,  7.76817850e+05,  2.80336261e+04,  8.28663341e+05,\n",
       "        2.72548845e+05,  3.24626355e+05,  4.95734271e+05,  8.69076911e+05,\n",
       "        3.76101851e+05,  3.91523551e+05,  3.64555587e+05,  1.03018837e+06,\n",
       "        9.07134593e+05,  5.55974997e+05,  4.41016315e+05,  7.38389230e+05,\n",
       "        3.27941413e+05,  3.14215318e+04,  8.51409522e+05,  4.91647113e+05,\n",
       "        2.67896027e+06, -5.47357975e+04,  8.63951997e+05,  3.53098463e+05,\n",
       "        3.77615854e+05,  4.23129273e+05,  9.32720859e+05,  3.24507440e+05,\n",
       "        3.13672904e+05,  5.74024890e+05,  3.99551225e+05,  2.11133421e+05,\n",
       "        4.62900434e+05,  1.99815022e+05, -1.09796181e+05, -9.68746019e+02,\n",
       "        6.53284981e+05,  6.09644562e+05,  9.81770407e+04,  3.94278061e+05,\n",
       "       -1.60308844e+05,  5.24306558e+05,  3.58026640e+05, -1.15674797e+05,\n",
       "        8.89211768e+05,  6.09644562e+05,  6.85604720e+04, -9.91385817e+04,\n",
       "        4.69003776e+05,  9.78843988e+04,  7.90130580e+04,  2.11170163e+05,\n",
       "        8.13563383e+05,  3.27658829e+05,  3.48394033e+05,  1.15089679e+06,\n",
       "        5.61034763e+05,  5.85800541e+05,  5.41074682e+05,  6.03637114e+05,\n",
       "        4.99637287e+05,  6.53284981e+05,  3.14329528e+05,  4.08082436e+05,\n",
       "        5.59908078e+05,  3.37342922e+04,  3.09579473e+05,  5.46951032e+05,\n",
       "        3.93537668e+05,  3.57998115e+05,  1.06385039e+06,  6.77811997e+05,\n",
       "        5.91577615e+05,  6.71308366e+04,  4.99174399e+05,  3.67784792e+05,\n",
       "        1.38149654e+06,  4.32041170e+05,  9.33923453e+05,  5.61996152e+05,\n",
       "        1.00665456e+06,  3.77846886e+05,  3.29171040e+05,  3.21159260e+05,\n",
       "        2.32337324e+05,  2.45475707e+05,  4.23120932e+05,  4.22146831e+05,\n",
       "        6.06638928e+05,  1.90610284e+06,  6.30818568e+05,  4.66394380e+05,\n",
       "        7.12260675e+05,  5.26175750e+05,  3.55111210e+05,  3.80811577e+05,\n",
       "        5.25778487e+05,  4.11010561e+05,  2.88242073e+05,  3.19863934e+05,\n",
       "        8.56385187e+05,  3.91433049e+05,  9.96866108e+05,  8.34609286e+05,\n",
       "        3.28035084e+05,  3.27703273e+05,  3.46819719e+05,  3.41291027e+05,\n",
       "       -8.31340109e+04,  2.92051195e+05,  6.08619079e+05,  3.39606995e+05,\n",
       "        3.75773978e+05,  6.45449484e+05,  1.65622893e+05,  5.00757862e+05,\n",
       "        8.13140680e+05,  8.14155132e+05,  3.38621203e+05,  2.38697808e+04,\n",
       "        5.63690577e+05,  1.02709498e+06,  5.02862859e+05,  8.58086250e+04,\n",
       "        1.87289866e+05,  2.00141856e+05,  3.75689375e+04,  7.22620914e+05,\n",
       "        4.08839298e+05,  9.69002773e+05,  5.62844189e+05,  2.09551117e+05,\n",
       "        5.23769925e+05,  2.43463768e+04,  3.99769179e+05,  5.30637831e+05,\n",
       "        5.03056601e+05,  5.48477871e+05,  4.04657011e+05,  2.09966621e+05,\n",
       "       -3.91804737e+04,  5.54745257e+05,  9.34455105e+05,  3.37002243e+05,\n",
       "        4.85023367e+05,  3.58010305e+05,  6.61259419e+05,  5.43540952e+05,\n",
       "        7.67103233e+05,  4.18794708e+05,  1.11178504e+06, -8.12360609e+04,\n",
       "        3.42315616e+05,  4.41347414e+05,  3.62392293e+05,  5.90372736e+05,\n",
       "        2.43464615e+05,  3.51751844e+05,  1.60900699e+04,  7.87377234e+05,\n",
       "        1.04459076e+06,  3.07619271e+05,  5.03056601e+05,  2.78862687e+05,\n",
       "        5.59546201e+05,  7.72363569e+05,  9.07134593e+05,  2.00961942e+05,\n",
       "        9.06407132e+05,  5.67091780e+05,  5.78753985e+05,  5.81399003e+05,\n",
       "        5.55783148e+05,  9.33923453e+05,  3.71156891e+05,  4.21905075e+05,\n",
       "        5.65359819e+05,  4.62483225e+05,  7.62397592e+05,  4.69180724e+05,\n",
       "        5.51556776e+05,  2.55608377e+05,  6.85741556e+05,  2.08145191e+05,\n",
       "        6.32523614e+05,  5.04377073e+05,  3.59312210e+05,  3.99435349e+05,\n",
       "        3.04775083e+05,  4.17274891e+05,  4.19167877e+05,  5.23161749e+05,\n",
       "        1.27643875e+05,  5.28414698e+05,  1.02062208e+06,  3.91433049e+05,\n",
       "        1.13489388e+06,  1.26470436e+06,  3.17104835e+05,  5.74024890e+05,\n",
       "       -1.42373847e+05,  1.43836111e+06,  1.12153385e+06,  2.55608377e+05,\n",
       "        8.95451142e+05,  2.26154145e+05,  2.06944786e+05,  2.76880896e+05,\n",
       "        4.38069316e+05,  9.07682699e+05,  4.20577189e+05,  4.27488065e+05,\n",
       "        8.51409522e+05,  8.65576657e+05,  1.13432732e+05,  4.03675833e+05,\n",
       "        5.23759494e+05,  1.43990360e+05,  1.57289472e+05,  2.47059654e+05,\n",
       "        8.70916228e+05, -4.77433298e+04,  6.53215935e+05,  7.95533702e+05,\n",
       "        6.85448714e+05,  1.86227508e+05, -4.34779983e+04,  3.19206886e+05,\n",
       "        4.64545432e+05,  2.23951470e+05,  3.95474691e+05,  4.79953651e+05,\n",
       "        6.93012343e+05,  1.94323478e+04,  5.97471533e+05, -1.35826585e+05,\n",
       "        2.67105624e+05,  7.47428009e+05,  5.93536836e+04,  5.40155837e+05,\n",
       "        7.96489332e+05,  3.14496301e+05,  4.09705021e+05,  5.59489437e+05,\n",
       "        1.77569901e+05, -6.25688689e+04,  4.22639842e+05,  4.74309651e+05,\n",
       "        3.46894248e+05,  3.99176130e+05,  4.51207024e+04, -8.71555027e+04,\n",
       "        8.12737196e+05,  2.21252664e+05,  5.44092841e+05,  2.84808264e+05,\n",
       "        3.31954426e+05,  1.67577538e+05,  4.94287395e+05,  8.80816037e+05,\n",
       "        5.43770504e+05,  3.83292232e+05])"
      ]
     },
     "execution_count": 237,
     "metadata": {},
     "output_type": "execute_result"
    }
   ],
   "source": [
    "\"\"\"Linear Regression\"\"\"\n",
    "\n",
    "run_model_non_cat(model_data_linear)"
   ]
  },
  {
   "cell_type": "code",
   "execution_count": 238,
   "metadata": {},
   "outputs": [
    {
     "name": "stdout",
     "output_type": "stream",
     "text": [
      "train score is 0.74699, test score is -0.14641\n",
      "mean squared error is 300824853696.23, mean absolute error is 361845.84\n"
     ]
    },
    {
     "data": {
      "image/png": "[encoded data removed]",
      "text/plain": [
       "<Figure size 640x480 with 1 Axes>"
      ]
     },
     "metadata": {},
     "output_type": "display_data"
    },
    {
     "data": {
      "text/plain": [
       "array([ 1.89242850e+05,  1.03084420e+05, -3.81110666e+05,  1.75832111e+06,\n",
       "        3.21858074e+05,  2.04194724e+05,  4.23881698e+05,  2.03931276e+05,\n",
       "        1.77301734e+05, -3.91192162e+05,  4.06532297e+05, -4.90868520e+05,\n",
       "        2.53878171e+05,  1.71497111e+05, -2.32320382e+05,  3.60182866e+05,\n",
       "        1.25265977e+05, -1.17667710e+05,  2.60997851e+05, -9.55541575e+04,\n",
       "        5.87568007e+05, -2.72613205e+05,  2.81155120e+05,  4.28003689e+04,\n",
       "        4.99469496e+05,  7.67354102e+05,  7.13108963e+04,  3.97166882e+04,\n",
       "        6.44722748e+05,  2.29962217e+05,  1.01415715e+06, -2.27449054e+05,\n",
       "        5.55413146e+05,  1.41347128e+05,  9.15126215e+04,  2.62244929e+05,\n",
       "        4.58298310e+05,  1.66621971e+05,  6.92403253e+05,  3.74050879e+05,\n",
       "        7.41823405e+05,  3.51814849e+05,  4.63996252e+05,  9.71192160e+05,\n",
       "        1.16758597e+05,  3.57542146e+05,  1.92719552e+05,  1.18534533e+06,\n",
       "        1.36317945e+05,  2.85991650e+05,  2.38982068e+05,  6.86464891e+05,\n",
       "        4.89758381e+04,  2.08840514e+05,  3.55011872e+05,  3.51651240e+05,\n",
       "        1.34866206e+06,  4.33185028e+05,  8.29867839e+05,  3.94799850e+05,\n",
       "        2.74360964e+05,  3.42680400e+05,  8.29852729e+05,  3.02155248e+05,\n",
       "        3.22636944e+05,  3.18316018e+05, -1.00113767e+05,  3.00217751e+05,\n",
       "        2.87169275e+05,  1.25362147e+05, -6.44278288e+04,  1.48833861e+06,\n",
       "        6.88178952e+05,  4.07209250e+05,  3.39984034e+05,  3.78548772e+05,\n",
       "        1.01279317e+06, -1.42057216e+06,  3.57441925e+05,  1.66199743e+05,\n",
       "        7.80509677e+05,  4.07209250e+05,  3.87857586e+05,  9.94753839e+05,\n",
       "        4.60400502e+05, -3.09399853e+05,  6.39684515e+05,  4.24635945e+04,\n",
       "        1.47235959e+06, -2.21657846e+05,  3.78763225e+05,  9.74863657e+05,\n",
       "        6.23904368e+05, -2.24939966e+05,  2.34984883e+05,  6.05779010e+05,\n",
       "        4.91949223e+05,  6.88178952e+05,  3.50897128e+05,  6.28604631e+03,\n",
       "        4.41301978e+05,  3.35790956e+05,  2.54192517e+05,  2.96009978e+05,\n",
       "       -9.66030926e+04,  3.58298522e+05,  2.07821090e+05,  3.26890893e+05,\n",
       "       -6.24923964e+05, -3.94618256e+05, -6.54175000e+04,  9.39749800e+04,\n",
       "        1.30719851e+06, -4.53352645e+05,  1.08636958e+05, -3.00663174e+05,\n",
       "        1.13209357e+06,  4.90426899e+04,  4.19484408e+05, -3.89972214e+04,\n",
       "       -7.71112018e+02,  1.70941938e+05,  4.02108228e+05, -1.29733716e+05,\n",
       "        3.86473727e+05,  1.72930808e+06,  6.14965513e+05, -8.24505820e+05,\n",
       "        2.84586065e+05,  3.64095094e+05,  7.16511939e+04,  3.93329017e+05,\n",
       "        3.16381432e+05,  1.62755704e+05,  2.88425625e+05,  1.25776632e+05,\n",
       "        1.05601925e+06,  1.29275411e+06,  5.62340231e+05,  9.43680024e+05,\n",
       "        2.86501754e+05,  2.76295611e+05,  7.40537268e+04, -3.05592162e+05,\n",
       "        3.07142799e+05,  1.21451792e+05,  3.05214149e+04,  6.26302928e+05,\n",
       "        3.44347100e+05,  4.71312194e+05,  5.14869025e+05,  4.61137622e+05,\n",
       "        6.48901683e+05,  6.57185030e+05,  2.53595356e+05,  2.36710242e+05,\n",
       "        2.86237619e+05, -2.03454595e+06,  4.09514787e+05, -6.65555247e+05,\n",
       "        3.52885903e+05,  2.26898909e+05, -5.25142854e+05,  2.95898431e+05,\n",
       "       -1.65115032e+05,  1.39285946e+06,  3.75181190e+05,  1.86357895e+05,\n",
       "        4.56202070e+05, -3.52685788e+05, -9.84229419e+05,  1.71221594e+05,\n",
       "       -2.89995021e+05,  9.04627711e+05,  3.88141698e+05,  3.06098783e+05,\n",
       "       -4.87860177e+04,  4.33501938e+04,  7.65760862e+04,  2.69747025e+05,\n",
       "        4.77643178e+05,  2.39143560e+05, -2.97262655e+05,  5.05301206e+05,\n",
       "        6.97875700e+05,  3.39860916e+05,  5.59074820e+05, -5.74304641e+05,\n",
       "        3.64722184e+05,  3.34420007e+05,  2.39291750e+05,  2.07872293e+05,\n",
       "        1.87148615e+05,  3.73006934e+05, -1.15257871e+05,  7.69593008e+05,\n",
       "        9.29249098e+05,  2.58542905e+05, -2.89995021e+05, -3.78962732e+05,\n",
       "        5.80869636e+05,  6.46545195e+05,  1.36317945e+05,  1.32251835e+05,\n",
       "        1.43357510e+05,  2.55705928e+05,  1.34919737e+05,  4.18302407e+05,\n",
       "        3.40396782e+05,  1.08636958e+05,  2.49091451e+05,  2.13961124e+05,\n",
       "        3.05243791e+05,  2.94589833e+05,  3.21824599e+04,  3.74219697e+05,\n",
       "        5.35883960e+05, -9.47788417e+04, -1.03408109e+05,  1.83295100e+05,\n",
       "       -3.40351070e+02,  3.60468905e+05, -8.61550834e+04,  2.67867141e+05,\n",
       "        2.15833061e+05,  3.67557863e+05,  3.45795690e+05,  4.36668175e+05,\n",
       "       -5.02052479e+05,  5.34628539e+05,  9.69168470e+05,  1.29275411e+06,\n",
       "        1.90973070e+06,  7.79683579e+05,  1.50492699e+05,  3.18316018e+05,\n",
       "        2.22959626e+04,  2.19862412e+06,  1.86184912e+06, -9.47788417e+04,\n",
       "        8.72824646e+05, -2.86071449e+05,  1.59342599e+05,  2.76771928e+05,\n",
       "       -9.65985751e+05,  1.51781160e+06, -1.20081784e+05,  1.18824705e+05,\n",
       "        3.55011872e+05,  1.25458571e+06,  7.63419269e+04,  1.59626354e+05,\n",
       "        6.65628058e+05,  4.43564380e+05,  7.73568097e+04, -2.54931658e+05,\n",
       "        1.41312156e+06,  4.44429182e+05, -1.54028304e+06, -1.86893841e+05,\n",
       "        4.31280892e+05,  3.20824838e+03, -2.90431840e+05,  3.35313462e+05,\n",
       "        1.84104662e+05,  1.83828562e+05,  7.47004276e+04, -9.94332558e+04,\n",
       "        7.12958106e+05,  7.58563808e+03,  6.41125575e+05,  3.55635033e+05,\n",
       "       -7.67886562e+05, -1.07856886e+05,  1.74090803e+04,  2.57725794e+05,\n",
       "        6.75219053e+05, -3.74715351e+05,  2.88876264e+04,  3.66371228e+05,\n",
       "        4.12059560e+05, -3.67174566e+05,  8.93652218e+04,  4.41362832e+05,\n",
       "        3.10687952e+03,  1.03790504e+05,  3.31252668e+05,  5.48006471e+05,\n",
       "        1.03885347e+06,  1.53809027e+05,  6.31038929e+05,  1.13368324e+05,\n",
       "        2.52664784e+05, -1.58918097e+05,  5.36628263e+04,  1.15646386e+06,\n",
       "        4.56778827e+05,  2.61183938e+05])"
      ]
     },
     "execution_count": 238,
     "metadata": {},
     "output_type": "execute_result"
    }
   ],
   "source": [
    "\"\"\"Polynomial Regression\"\"\"\n",
    "\n",
    "run_model_non_cat(model_data_polynomial)"
   ]
  },
  {
   "cell_type": "code",
   "execution_count": 239,
   "metadata": {},
   "outputs": [
    {
     "name": "stdout",
     "output_type": "stream",
     "text": [
      "train score is 0.34343, test score is 0.05705\n",
      "mean squared error is 242275616262.17, mean absolute error is 248400.79\n"
     ]
    },
    {
     "data": {
      "image/png": "[encoded data removed]",
      "text/plain": [
       "<Figure size 640x480 with 1 Axes>"
      ]
     },
     "metadata": {},
     "output_type": "display_data"
    },
    {
     "data": {
      "text/plain": [
       "array([ 265000.,  265000.,  120000.,  795000.,  299000.,  245000.,\n",
       "        299000.,  300000.,  180000.,  199000.,  695000.,  245000.,\n",
       "        450000.,  169000.,  335000.,  180000.,  359000.,  690000.,\n",
       "        299000.,  695000.,  375000.,  249000.,  450000., 2250000.,\n",
       "        189000.,  585000.,  690000.,  245000.,  450000.,  230000.,\n",
       "        995000.,  245000.,  189000.,  259000.,  299000.,  695000.,\n",
       "        975000.,  650000.,  425000.,  299000.,  550000.,  265000.,\n",
       "        450000.,  345000.,  225000.,  458150.,  375000.,  450000.,\n",
       "        299000.,  345000.,  520000.,  735000.,  295000.,  225000.,\n",
       "        349500.,  495000., 1960000.,  249000.,  975000.,  690000.,\n",
       "        690000.,  299000.,  690000.,  650000.,  299000.,  345000.,\n",
       "        129000.,  180000.,  495000.,  299000.,  259000.,  259000.,\n",
       "        690000.,  435000.,  129000.,  325000.,  319000.,  525000.,\n",
       "        299000.,  299000.,  735000.,  435000.,  388000.,  425000.,\n",
       "        299000.,  259000.,  425000.,  300000., 1995000.,  595000.,\n",
       "        299000.,  129000.,  975000.,  690000.,  520000.,  450000.,\n",
       "        450000.,  690000.,  265000.,  345000.,  450000.,  129000.,\n",
       "        230000.,  359000.,  245000.,  299000.,  695000.,  345000.,\n",
       "        375000.,  189000.,  339000.,  265000.,  995000.,  245000.,\n",
       "        525000.,  275000.,  399000.,  245000.,  240000.,  999000.,\n",
       "        225000.,  299000.,  299000.,  180000.,  345000.,  690000.,\n",
       "        450000.,  750000.,  230000.,  495000.,  349000.,  299000.,\n",
       "        345000.,  375000.,  169000.,  550000.,  375000.,  690000.,\n",
       "        695000.,  450000.,  229000.,  265000.,  225000.,  690000.,\n",
       "        259000.,  425000.,  399000.,  490000.,  458150.,  399000.,\n",
       "        450000.,  299000.,  345000.,  450000.,  695000.,  199000.,\n",
       "        375000.,  425000.,  375000.,  299000.,  690000.,  299000.,\n",
       "        230000.,  520000.,  690000., 1995000.,  450000.,  275000.,\n",
       "        299000.,  199000.,  375000.,  359000.,  450000.,  550000.,\n",
       "        550000.,  550000.,  249000.,  254000.,  485000.,  695000.,\n",
       "        450000.,  545000.,  499000.,  495000.,  345000.,  975000.,\n",
       "        249000.,  199000.,  375000.,  224000.,  720000.,  325000.,\n",
       "        265000.,  550000.,  259000.,  975000., 1995000.,  299000.,\n",
       "        450000.,  275000.,  265000.,  345000.,  299000.,  169000.,\n",
       "       1095000.,  450000.,  230000.,  299000.,  975000.,  525000.,\n",
       "        299000.,  375000.,  345000.,  265000.,  585000.,  975000.,\n",
       "        349000.,  999000.,  545000.,  458150.,  585000.,  265000.,\n",
       "        225000.,  329000.,  545000.,  695000.,  375000.,  450000.,\n",
       "        375000.,  695000.,  695000.,  690000., 1995000.,  850000.,\n",
       "        299000.,  345000.,  199000., 1995000., 1995000.,  999000.,\n",
       "        975000.,  399000.,  690000.,  450000.,  225000., 1995000.,\n",
       "        325000.,  299000.,  349500., 1995000.,  375000.,  345000.,\n",
       "       2250000.,  249000.,  999000.,  595000., 1995000.,  199000.,\n",
       "        269000.,  525000.,  495000.,  399000.,  249000.,  299000.,\n",
       "        299000.,  275000.,  245000.,  375000.,  265000.,  249000.,\n",
       "        450000.,  179000.,  525000.,  595000.,  275000.,  450000.,\n",
       "        975000.,  345000.,  595000.,  525000.,  365000.,  129000.,\n",
       "        375000.,  345000.,  345000.,  245000.,  129000.,  129000.,\n",
       "        975000.,  375000.,  345000.,  229000.,  199000.,  249000.,\n",
       "        225000.,  450000.,  495000.,  695000.])"
      ]
     },
     "execution_count": 239,
     "metadata": {},
     "output_type": "execute_result"
    }
   ],
   "source": [
    "\"\"\"Logistic Regression\"\"\"\n",
    "\n",
    "run_model(model_data_logistic)"
   ]
  },
  {
   "cell_type": "code",
   "execution_count": 240,
   "metadata": {},
   "outputs": [
    {
     "name": "stdout",
     "output_type": "stream",
     "text": [
      "train score is 0.63291, test score is 0.41241\n",
      "mean squared error is 154188078923.79, mean absolute error is 215843.78\n"
     ]
    },
    {
     "data": {
      "image/png": "[encoded data removed]",
      "text/plain": [
       "<Figure size 640x480 with 1 Axes>"
      ]
     },
     "metadata": {},
     "output_type": "display_data"
    },
    {
     "data": {
      "text/plain": [
       "array([ 424800.,  294700.,  271600., 2390000.,  542200.,  350000.,\n",
       "        349800.,  274000.,  184400.,  190000.,  640200.,  237800.,\n",
       "        481700.,  247800.,  307400.,  213800.,  361400.,  489600.,\n",
       "        464200.,  412800.,  469000.,  210000.,  877800., 1322000.,\n",
       "        274200.,  632000.,  610800.,  227800.,  728590.,  465600.,\n",
       "        992000.,  220600.,  227400.,  181800.,  357198.,  840800.,\n",
       "        800200.,  649800.,  377800.,  764400.,  619000.,  544200.,\n",
       "        481700.,  352800.,  433840.,  458150.,  479600.,  607400.,\n",
       "        357198.,  308000.,  468800.,  616000.,  377000.,  377800.,\n",
       "        411600.,  659600.,  617200.,  222400.,  799980.,  564600.,\n",
       "        602600.,  383800.,  672000.,  506600.,  363800.,  308000.,\n",
       "        205200.,  181400.,  492000.,  394200.,  181800.,  175600.,\n",
       "        395000.,  355300.,  223000.,  376400.,  313600.,  505400.,\n",
       "        285198.,  358800.,  695000.,  355300.,  333600.,  443400.,\n",
       "        484800.,  181800.,  377800.,  287000., 2450000.,  465000.,\n",
       "        313400.,  220640.,  634980.,  593000.,  468800.,  545000.,\n",
       "        501600.,  395000.,  648000.,  486400.,  873000.,  223000.,\n",
       "        532600.,  394200.,  227800.,  285198.,  873000.,  364000.,\n",
       "        531800.,  227400.,  591800.,  284800.,  800800.,  237800.,\n",
       "        870000.,  338800.,  555400.,  224600.,  301000.,  785400.,\n",
       "        459440.,  443780.,  542200.,  188600.,  308000., 1318000.,\n",
       "       1059000.,  420600.,  404600.,  479800.,  215800.,  342000.,\n",
       "        653000.,  497000.,  234400.,  628400.,  451000.,  669600.,\n",
       "        840800.,  859000.,  428200.,  418800.,  425800.,  594000.,\n",
       "        205400.,  386000.,  712800.,  323400.,  419095.,  397800.,\n",
       "        314700.,  465800.,  566000., 1033200.,  526800.,  214200.,\n",
       "        586800.,  377800.,  451000.,  257198.,  385600.,  452400.,\n",
       "        365600.,  583800.,  795800., 2560000.,  395600.,  304000.,\n",
       "        465800.,  217600.,  368800.,  376600.,  388400.,  807000.,\n",
       "        683800.,  364000.,  259400.,  327200.,  404600.,  684200.,\n",
       "        482600.,  457000.,  566180.,  418400.,  339000.,  654780.,\n",
       "        274200.,  190000.,  802800.,  292200.,  548600.,  418400.,\n",
       "        232700.,  461600.,  194600.,  742200., 2003000.,  285198.,\n",
       "        388400.,  521780.,  544200.,  364000.,  357198.,  247800.,\n",
       "       1173180., 1066000.,  327200.,  269600.,  523780.,  870000.,\n",
       "        435798.,  371000.,  308000.,  901800.,  632000.,  799980.,\n",
       "        728000.,  785400.,  449000.,  381000.,  632000.,  350000.,\n",
       "        425800.,  381800.,  430600.,  640200.,  662800., 1033200.,\n",
       "        566800.,  852200.,  862800.,  669600., 2560000., 1293600.,\n",
       "        308800.,  308000.,  237000., 2763000., 2222000.,  785400.,\n",
       "        799980.,  342400.,  352000.,  481700.,  283200., 2560000.,\n",
       "        375600.,  484300.,  411600., 1666000.,  267000.,  488000.,\n",
       "       1322000.,  279400.,  785400.,  376800., 2237000.,  301000.,\n",
       "        541800.,  578000.,  413600.,  430600.,  242000.,  313400.,\n",
       "        542200.,  350000.,  286400.,  524000.,  618400.,  215800.,\n",
       "       1033200.,  252000.,  578000.,  474000.,  354580.,  587800.,\n",
       "        742200.,  784000.,  415200.,  509000.,  314800.,  183400.,\n",
       "        487800.,  488800.,  546800.,  224600.,  223000.,  183400.,\n",
       "       1666000.,  437000.,  609000.,  410200.,  257800.,  273600.,\n",
       "        459440., 1059000.,  614790.,  795800.])"
      ]
     },
     "execution_count": 240,
     "metadata": {},
     "output_type": "execute_result"
    }
   ],
   "source": [
    "\"\"\"KNN Regression\"\"\"\n",
    "\n",
    "run_model(model_data_knn)"
   ]
  },
  {
   "cell_type": "code",
   "execution_count": 241,
   "metadata": {},
   "outputs": [
    {
     "name": "stdout",
     "output_type": "stream",
     "text": [
      "train score is 0.94838, test score is 0.46582\n",
      "mean squared error is 140172590258.34, mean absolute error is 200686.25\n"
     ]
    },
    {
     "data": {
      "image/png": "[encoded data removed]",
      "text/plain": [
       "<Figure size 640x480 with 1 Axes>"
      ]
     },
     "metadata": {},
     "output_type": "display_data"
    },
    {
     "data": {
      "text/plain": [
       "array([ 345995.65      ,  439984.5       ,  191070.        ,\n",
       "       2265340.        ,  574575.        ,  424695.        ,\n",
       "        497529.        ,  273295.        ,  277860.        ,\n",
       "        280350.        ,  380864.        ,  278290.        ,\n",
       "        338045.        ,  457060.        ,  250800.        ,\n",
       "        251735.        ,  339707.        ,  757844.        ,\n",
       "        364059.9       ,  603940.        ,  629237.        ,\n",
       "        206620.        ,  481210.        ,  280960.        ,\n",
       "        316340.        ,  576590.        ,  465840.        ,\n",
       "        407020.        ,  484273.5       ,  287560.        ,\n",
       "       1430760.        , 1020920.        ,  281910.        ,\n",
       "        180120.        ,  574700.        ,  768012.        ,\n",
       "        322771.71666667,  841460.        ,  367825.        ,\n",
       "        585470.        ,  393234.8       ,  333260.        ,\n",
       "        286268.        ,  461639.        ,  260597.9       ,\n",
       "        402756.5       ,  347725.        ,  714360.        ,\n",
       "        829040.        ,  292785.        ,  389857.        ,\n",
       "        663750.        ,  332130.        ,  406912.        ,\n",
       "        860915.        ,  549500.        , 1691476.        ,\n",
       "        235080.        ,  739675.        ,  497090.        ,\n",
       "        412145.        ,  363777.1       ,  896758.        ,\n",
       "        341992.        ,  355798.45      ,  288990.        ,\n",
       "        329392.        ,  344630.        ,  488348.        ,\n",
       "        315139.9       ,  180340.        ,  224730.        ,\n",
       "        592150.5       ,  449005.        ,  285350.        ,\n",
       "        342319.        ,  333425.        ,  330012.        ,\n",
       "        332749.9       ,  332131.5       ,  904130.        ,\n",
       "        449005.        ,  287835.        ,  360350.        ,\n",
       "        361650.        ,  225920.        ,  378754.        ,\n",
       "        254630.        , 1480750.        ,  474880.        ,\n",
       "        321940.        , 1197778.        ,  481355.        ,\n",
       "        718847.        ,  504631.        ,  395596.5       ,\n",
       "        298137.65      ,  592150.5       ,  282650.        ,\n",
       "        398405.        ,  396245.        ,  221460.        ,\n",
       "        412145.        ,  453929.        ,  290410.        ,\n",
       "        332749.9       ,  637477.        ,  351425.        ,\n",
       "        737500.        ,  291767.        ,  415265.        ,\n",
       "        363384.5       , 1608150.        ,  305135.        ,\n",
       "       1144458.        ,  526540.        ,  825920.        ,\n",
       "        338865.        ,  393807.        ,  342290.        ,\n",
       "        267430.        ,  300950.        ,  345375.        ,\n",
       "        354429.        ,  361964.8       , 1520540.        ,\n",
       "        640310.        ,  470319.5       , 1331018.        ,\n",
       "        531449.        ,  387857.        ,  354999.        ,\n",
       "        400170.        ,  321400.        ,  309350.        ,\n",
       "        400490.        ,  801390.        ,  504125.        ,\n",
       "       1398262.        ,  813019.        ,  305924.        ,\n",
       "        391745.        ,  248004.        ,  494730.        ,\n",
       "        252840.        ,  373335.        ,  619532.        ,\n",
       "        425257.        ,  390095.        ,  484440.        ,\n",
       "        191790.        ,  348360.        ,  872279.        ,\n",
       "        951200.        ,  429247.1       ,  262125.        ,\n",
       "        662350.        , 1240182.        ,  359578.        ,\n",
       "        308879.8       ,  554020.        ,  308082.        ,\n",
       "        272540.        ,  504213.        ,  463405.        ,\n",
       "       2220550.        ,  318800.        ,  350919.9       ,\n",
       "        353186.5       ,  182840.        ,  528804.        ,\n",
       "        427349.5       ,  444350.        ,  522720.        ,\n",
       "        510134.        ,  282464.9       ,  200830.        ,\n",
       "        380530.        ,  811229.        ,  335740.        ,\n",
       "        293919.1       ,  319500.        ,  472649.5       ,\n",
       "        515320.        ,  428188.        ,  324689.26666667,\n",
       "       1317104.        ,  205400.        ,  335855.        ,\n",
       "        317862.9       ,  359519.2       ,  541206.        ,\n",
       "        273229.9       ,  539469.        ,  173535.        ,\n",
       "        738355.        , 2056290.        ,  287084.9       ,\n",
       "        444350.        ,  273775.        ,  627870.        ,\n",
       "        429689.9       ,  829040.        ,  296334.9       ,\n",
       "        735071.        ,  482974.        ,  557935.        ,\n",
       "        452320.        ,  701985.        , 1144458.        ,\n",
       "        370170.        ,  500765.        ,  294665.        ,\n",
       "        358360.        ,  802117.        ,  317862.16666667,\n",
       "        444700.        ,  298020.        ,  593906.        ,\n",
       "        283900.        ,  701915.        ,  427630.        ,\n",
       "        269279.9       ,  490010.        ,  406571.5       ,\n",
       "        362934.        ,  367380.        ,  384619.5       ,\n",
       "        312050.        ,  494575.        , 1407030.        ,\n",
       "        504125.        , 2276250.        , 1666306.        ,\n",
       "        382565.        ,  288990.        ,  197690.        ,\n",
       "       2256840.        , 2423290.        ,  298020.        ,\n",
       "        776305.        ,  310269.9       ,  322569.9       ,\n",
       "        319237.        ,  334920.        , 1899880.        ,\n",
       "        442770.        ,  466299.        ,  860915.        ,\n",
       "       1598860.        ,  340012.        ,  399443.        ,\n",
       "        352572.1       ,  365750.        ,  281439.9       ,\n",
       "        404469.9       , 1842030.        ,  289330.        ,\n",
       "       1191779.        , 1248234.        ,  579060.        ,\n",
       "        339913.9       ,  177070.        ,  305600.        ,\n",
       "        345900.        ,  283705.        ,  303969.9       ,\n",
       "        498675.        ,  710440.        ,  189248.33333333,\n",
       "        736871.5       ,  269920.        ,  553595.        ,\n",
       "        818865.        ,  314354.8       ,  478685.        ,\n",
       "        769905.        ,  389140.        ,  446429.        ,\n",
       "        602535.        ,  308150.        ,  198270.        ,\n",
       "        449460.        ,  511637.        ,  349376.8       ,\n",
       "        261371.66666667,  230030.        ,  253030.        ,\n",
       "       1531170.        ,  287550.        ,  405370.        ,\n",
       "        317320.        ,  529404.        ,  184750.        ,\n",
       "        474478.5       ,  838430.        ,  494551.        ,\n",
       "        317650.        ])"
      ]
     },
     "execution_count": 241,
     "metadata": {},
     "output_type": "execute_result"
    }
   ],
   "source": [
    "\"\"\"Random Forest Regression\"\"\"\n",
    "\n",
    "run_model(model_data_random_forest)"
   ]
  },
  {
   "cell_type": "code",
   "execution_count": 242,
   "metadata": {},
   "outputs": [
    {
     "name": "stdout",
     "output_type": "stream",
     "text": [
      "train score is 0.67014, test score is 0.42390\n",
      "mean squared error is 151171292976.15, mean absolute error is 225236.99\n"
     ]
    },
    {
     "data": {
      "image/png": "[encoded data removed]",
      "text/plain": [
       "<Figure size 640x480 with 1 Axes>"
      ]
     },
     "metadata": {},
     "output_type": "display_data"
    },
    {
     "data": {
      "text/plain": [
       "array([ 450000.        ,  265000.        ,  120000.        ,\n",
       "       4165000.        ,  425653.84615385,  308800.        ,\n",
       "        288100.        ,  285000.        ,  287500.        ,\n",
       "        214500.        ,  675868.75      ,  308800.        ,\n",
       "        431277.77777778,  229000.        ,  335000.        ,\n",
       "        217000.        ,  388333.33333333,  625000.        ,\n",
       "        425653.84615385,  610000.        ,  287500.        ,\n",
       "        214500.        , 1064818.18181818, 1645000.        ,\n",
       "        256000.        ,  585000.        ,  671250.        ,\n",
       "        308800.        ,  755983.33333333,  472666.66666667,\n",
       "        995000.        ,  308800.        ,  256000.        ,\n",
       "        199500.        ,  549000.        ,  844000.        ,\n",
       "        675868.75      , 1062687.5       ,  344000.        ,\n",
       "        761833.33333333,  787500.        ,  499857.14285714,\n",
       "        431277.77777778,  386208.33333333,  224000.        ,\n",
       "        441877.08333333,  401666.66666667,  595000.        ,\n",
       "        549000.        ,  395130.43478261,  198000.        ,\n",
       "        717928.57142857,  375000.        ,  344000.        ,\n",
       "        445750.        ,  472666.66666667,  214500.        ,\n",
       "        307000.        ,  675868.75      ,  595000.        ,\n",
       "        715857.14285714,  425653.84615385,  610000.        ,\n",
       "        398000.        ,  425653.84615385,  395130.43478261,\n",
       "        205018.18181818,  217000.        ,  451666.66666667,\n",
       "        425653.84615385,  199500.        ,  199666.66666667,\n",
       "        348333.33333333,  480000.        ,  215000.        ,\n",
       "        355666.66666667,  376333.33333333,  449000.        ,\n",
       "        270996.66666667,  299000.        ,  717928.57142857,\n",
       "        480000.        ,  287500.        ,  350000.        ,\n",
       "        425653.84615385,  199500.        ,  344000.        ,\n",
       "        300000.        , 2045625.        ,  486666.66666667,\n",
       "        288100.        ,  205018.18181818,  675868.75      ,\n",
       "        671250.        ,  185000.        ,  556666.66666667,\n",
       "        431277.77777778,  348333.33333333,  499857.14285714,\n",
       "        425000.        , 1062687.5       ,  215000.        ,\n",
       "        472666.66666667,  388333.33333333,  308800.        ,\n",
       "        270996.66666667,  844000.        ,  395130.43478261,\n",
       "        909750.        ,  256000.        ,  187000.        ,\n",
       "        499857.14285714,  909750.        ,  308800.        ,\n",
       "        533333.33333333,  308800.        ,  499857.14285714,\n",
       "        308800.        ,  262666.66666667,  715857.14285714,\n",
       "        254100.        ,  350000.        ,  425653.84615385,\n",
       "        217000.        ,  395130.43478261,  787500.        ,\n",
       "       1062687.5       ,  750000.        ,  472666.66666667,\n",
       "        451666.66666667,  262666.66666667,  290000.        ,\n",
       "        425000.        ,  460714.28571429,  229000.        ,\n",
       "        701888.88888889,  460714.28571429,  690000.        ,\n",
       "        844000.        , 1062687.5       ,  399000.        ,\n",
       "        450000.        ,  225000.        ,  671250.        ,\n",
       "        199500.        ,  449000.        ,  712800.        ,\n",
       "        490000.        ,  441877.08333333,  399000.        ,\n",
       "        323166.66666667,  425653.84615385,  717928.57142857,\n",
       "        717928.57142857,  675868.75      ,  169000.        ,\n",
       "        582333.33333333,  344000.        ,  460714.28571429,\n",
       "        270996.66666667,  297500.        ,  425653.84615385,\n",
       "        472666.66666667,  185000.        , 1064818.18181818,\n",
       "       2045625.        ,  445750.        ,  250000.        ,\n",
       "        425653.84615385,  416000.        ,  582333.33333333,\n",
       "        388333.33333333,  445750.        ,  787500.        ,\n",
       "        701888.88888889,  455000.        ,  335000.        ,\n",
       "        327200.        ,  185000.        ,  675868.75      ,\n",
       "        431277.77777778,  455000.        ,  499000.        ,\n",
       "        461333.33333333,  386208.33333333,  675868.75      ,\n",
       "        256000.        ,  214500.        ,  909750.        ,\n",
       "        224000.        ,  720000.        ,  461333.33333333,\n",
       "        299000.        ,  175000.        ,  199500.        ,\n",
       "        675868.75      , 2315000.        ,  270996.66666667,\n",
       "        445750.        ,  675868.75      ,  499857.14285714,\n",
       "        395130.43478261,  549000.        ,  229000.        ,\n",
       "        499000.        , 1066000.        ,  327200.        ,\n",
       "        339000.        ,  675868.75      ,  533333.33333333,\n",
       "        399000.        ,  175000.        ,  395130.43478261,\n",
       "        292000.        ,  585000.        ,  675868.75      ,\n",
       "        575000.        ,  715857.14285714,  545000.        ,\n",
       "        441877.08333333,  585000.        ,  499857.14285714,\n",
       "        225000.        ,  275000.        ,  430600.        ,\n",
       "        675868.75      ,  582333.33333333,  717928.57142857,\n",
       "        909750.        ,  844000.        ,  844000.        ,\n",
       "        690000.        , 2045625.        , 1062687.5       ,\n",
       "        290000.        ,  395130.43478261,  215000.        ,\n",
       "       2315000.        , 2315000.        ,  715857.14285714,\n",
       "        675868.75      ,  399000.        ,  275000.        ,\n",
       "        431277.77777778,  519000.        , 2045625.        ,\n",
       "        386333.33333333,  595000.        ,  445750.        ,\n",
       "       2045625.        ,  175000.        ,  717928.57142857,\n",
       "        837500.        ,  256000.        ,  715857.14285714,\n",
       "        595000.        , 2045625.        ,  262666.66666667,\n",
       "       1066000.        ,  556666.66666667,  461333.33333333,\n",
       "        430600.        ,  274000.        ,  288100.        ,\n",
       "        425653.84615385,  275000.        ,  326000.        ,\n",
       "        460714.28571429,  499857.14285714,  274000.        ,\n",
       "        717928.57142857,  499000.        ,  556666.66666667,\n",
       "        486666.66666667,  675868.75      , 1064818.18181818,\n",
       "        675868.75      , 1062687.5       ,  595000.        ,\n",
       "        556666.66666667,  209000.        ,  205018.18181818,\n",
       "        909750.        ,  375000.        ,  995000.        ,\n",
       "        308800.        ,  215000.        ,  205018.18181818,\n",
       "       2045625.        ,  295000.        ,  395130.43478261,\n",
       "        399000.        ,  262666.66666667,  302000.        ,\n",
       "        596333.33333333, 1062687.5       ,  995000.        ,\n",
       "        844000.        ])"
      ]
     },
     "execution_count": 242,
     "metadata": {},
     "output_type": "execute_result"
    }
   ],
   "source": [
    "\"\"\"Decision Tree Regression\"\"\"\n",
    "\n",
    "run_model_cat(model_data_decision_tree)"
   ]
  }
 ],
 "metadata": {
  "kernelspec": {
   "display_name": "Python 3.10.7 ('immo_eliza')",
   "language": "python",
   "name": "python3"
  },
  "language_info": {
   "codemirror_mode": {
    "name": "ipython",
    "version": 3
   },
   "file_extension": ".py",
   "mimetype": "text/x-python",
   "name": "python",
   "nbconvert_exporter": "python",
   "pygments_lexer": "ipython3",
   "version": "3.10.7"
  },
  "orig_nbformat": 4,
  "vscode": {
   "interpreter": {
    "hash": "a33f1ef1e9ec6c31820fe781c5813ed8dc5071af9cb6488d9d33ac3262f9cb66"
   }
  }
 },
 "nbformat": 4,
 "nbformat_minor": 2
}
