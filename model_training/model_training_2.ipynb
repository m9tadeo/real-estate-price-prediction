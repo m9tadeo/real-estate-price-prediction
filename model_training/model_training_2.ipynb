{
 "cells": [
  {
   "cell_type": "markdown",
   "metadata": {},
   "source": [
    "This is my final model training notebook"
   ]
  },
  {
   "cell_type": "code",
   "execution_count": 73,
   "metadata": {},
   "outputs": [],
   "source": [
    "\"\"\"Import Libraries\"\"\"\n",
    "\n",
    "import pandas as pd\n",
    "import numpy as np\n",
    "import matplotlib as mpl\n",
    "import matplotlib.pyplot as plt\n",
    "from math import radians\n",
    "from sklearn.preprocessing import OneHotEncoder\n",
    "from sklearn.preprocessing import StandardScaler\n",
    "from sklearn.model_selection import train_test_split\n",
    "from sklearn.linear_model import LinearRegression\n",
    "from sklearn.linear_model import LogisticRegression\n",
    "from sklearn.neighbors import KNeighborsRegressor"
   ]
  },
  {
   "cell_type": "code",
   "execution_count": 74,
   "metadata": {},
   "outputs": [],
   "source": [
    "\"\"\"This is a function to load the dataset\"\"\"\n",
    "\n",
    "def load_dataset():\n",
    "    dataset = '../../data/properties_filtered.csv'\n",
    "    df = pd.read_csv(dataset)\n",
    "    return df"
   ]
  },
  {
   "cell_type": "code",
   "execution_count": 75,
   "metadata": {},
   "outputs": [],
   "source": [
    "\"\"\"This is a function to define the categorical features and run them through OneHotEncoder\"\"\"\n",
    "\n",
    "def ohe_data(df):\n",
    "    ##Declare type feature\n",
    "    column_type = df['type'].values\n",
    "    ##Declare categorical features\n",
    "    columns_ohe = ['province', 'district', 'postalCode', 'heatingType']\n",
    "    ##Run OneHotEncoder\n",
    "    ohe = OneHotEncoder()\n",
    "    cat_ohe = ohe.fit_transform(df[columns_ohe]).toarray()\n",
    "    ##Stack type with other categorical features\n",
    "    cat_data = np.column_stack((column_type, cat_ohe))\n",
    "    return cat_data"
   ]
  },
  {
   "cell_type": "code",
   "execution_count": 76,
   "metadata": {},
   "outputs": [],
   "source": [
    "\"\"\"This is a function to merge categorical data run through OneHotEncoder with other data features\"\"\"\n",
    "\n",
    "def merge_data(df, cat_data):\n",
    "    columns_non_cat = ['latitude', 'longitude', 'constructionYear', 'buildingCondition', 'numberOfFrontages', 'livingArea', 'kitchenType', 'bedrooms', 'bedroom1Surface',\n",
    "    'bedroom2Surface', 'bathrooms', 'toilets', 'energyConsumption', 'energyClass']\n",
    "    non_cat = df[columns_non_cat].values\n",
    "    X = np.column_stack((cat_data, non_cat))\n",
    "    return X"
   ]
  },
  {
   "cell_type": "code",
   "execution_count": 77,
   "metadata": {},
   "outputs": [],
   "source": [
    "\"\"\"This is a function to split the dataset\"\"\" \n",
    "\n",
    "def split_data(X, y):\n",
    "    ##Split the dataset\n",
    "    X_train, X_test, y_train, y_test = train_test_split(X, y, test_size=0.3, random_state=42)\n",
    "    return X_train, X_test, y_train, y_test"
   ]
  },
  {
   "cell_type": "code",
   "execution_count": 78,
   "metadata": {},
   "outputs": [],
   "source": [
    "\"\"\"This is a function to scale the features using StandardScaler\"\"\"\n",
    "\n",
    "def scale_data(X_train, X_test):\n",
    "    ##Declare instance of scaler\n",
    "    sc = StandardScaler()\n",
    "    ##Fit and transform data\n",
    "    X_train = sc.fit_transform(X_train)\n",
    "    X_test = sc.transform(X_test)\n",
    "    return X_train, X_test"
   ]
  },
  {
   "cell_type": "code",
   "execution_count": 79,
   "metadata": {},
   "outputs": [],
   "source": [
    "\"\"\"This is a function to declare a linear regression model then fit and evaluate it\"\"\"\n",
    "\n",
    "def model_data_linear(X_train, X_test, y_train, y_test):\n",
    "    ##Declare instance of model\n",
    "    regressor = LinearRegression()\n",
    "    ##Fit the model\n",
    "    regressor.fit(X_train, y_train)\n",
    "    train_score = regressor.score(X_train, y_train)\n",
    "    ##Evaluate the model\n",
    "    y_predict = regressor.predict(X_test)\n",
    "    test_score = regressor.score(X_test, y_test)\n",
    "    return test_score"
   ]
  },
  {
   "cell_type": "code",
   "execution_count": 80,
   "metadata": {},
   "outputs": [],
   "source": [
    "\"\"\"This is a function to declare a logistic regression model then fit and evaluate it\"\"\"\n",
    "\n",
    "def model_data_logistic(X_train, X_test, y_train, y_test):\n",
    "    ##Declare instance of model\n",
    "    regressor = LogisticRegression(solver='liblinear')\n",
    "    ##Fit the model\n",
    "    regressor.fit(X_train, y_train)\n",
    "    train_score = regressor.score(X_train, y_train)\n",
    "    ##Evaluate the model\n",
    "    y_predict = regressor.predict(X_test)\n",
    "    test_score = regressor.score(X_test, y_test)\n",
    "    return test_score"
   ]
  },
  {
   "cell_type": "code",
   "execution_count": 81,
   "metadata": {},
   "outputs": [],
   "source": [
    "\"\"\"This is a function to declare a KNN model then fit and evaluate it\"\"\"\n",
    "\n",
    "def model_data_knn(X_train, X_test, y_train, y_test):\n",
    "    ##Declare instance of model\n",
    "    regressor = KNeighborsRegressor()\n",
    "    ##Fit the model\n",
    "    regressor.fit(X_train, y_train)\n",
    "    train_score = regressor.score(X_train, y_train)\n",
    "    ##Evaluate the model\n",
    "    y_predict = regressor.predict(X_test)\n",
    "    test_score = regressor.score(X_test, y_test)\n",
    "    return test_score"
   ]
  },
  {
   "cell_type": "code",
   "execution_count": 82,
   "metadata": {},
   "outputs": [
    {
     "name": "stdout",
     "output_type": "stream",
     "text": [
      "-4.398690082774544e+26\n"
     ]
    }
   ],
   "source": [
    "df = load_dataset()\n",
    "cat_data = ohe_data(df)\n",
    "X = merge_data(df, cat_data)\n",
    "y = df['price'].values\n",
    "X_train, X_test, y_train, y_test = split_data(X,y)\n",
    "X_train, X_test = scale_data(X_train, X_test)\n",
    "test_score = model_data_linear(X_train, X_test, y_train, y_test)\n",
    "\n",
    "print(test_score)"
   ]
  },
  {
   "cell_type": "code",
   "execution_count": 83,
   "metadata": {},
   "outputs": [
    {
     "name": "stdout",
     "output_type": "stream",
     "text": [
      "0.09395973154362416\n"
     ]
    }
   ],
   "source": [
    "df = load_dataset()\n",
    "cat_data = ohe_data(df)\n",
    "X = merge_data(df, cat_data)\n",
    "y = df['price'].values\n",
    "X_train, X_test, y_train, y_test = split_data(X,y)\n",
    "X_train, X_test = scale_data(X_train, X_test)\n",
    "test_score = model_data_logistic(X_train, X_test, y_train, y_test)\n",
    "\n",
    "print(test_score)"
   ]
  },
  {
   "cell_type": "code",
   "execution_count": 85,
   "metadata": {},
   "outputs": [
    {
     "name": "stdout",
     "output_type": "stream",
     "text": [
      "0.420947134665575\n"
     ]
    }
   ],
   "source": [
    "df = load_dataset()\n",
    "cat_data = ohe_data(df)\n",
    "X = merge_data(df, cat_data)\n",
    "y = df['price'].values\n",
    "X_train, X_test, y_train, y_test = split_data(X,y)\n",
    "X_train, X_test = scale_data(X_train, X_test)\n",
    "test_score = model_data_knn(X_train, X_test, y_train, y_test)\n",
    "\n",
    "print(test_score)"
   ]
  }
 ],
 "metadata": {
  "kernelspec": {
   "display_name": "Python 3.10.7 ('immo_eliza')",
   "language": "python",
   "name": "python3"
  },
  "language_info": {
   "codemirror_mode": {
    "name": "ipython",
    "version": 3
   },
   "file_extension": ".py",
   "mimetype": "text/x-python",
   "name": "python",
   "nbconvert_exporter": "python",
   "pygments_lexer": "ipython3",
   "version": "3.10.7"
  },
  "orig_nbformat": 4,
  "vscode": {
   "interpreter": {
    "hash": "a33f1ef1e9ec6c31820fe781c5813ed8dc5071af9cb6488d9d33ac3262f9cb66"
   }
  }
 },
 "nbformat": 4,
 "nbformat_minor": 2
}
