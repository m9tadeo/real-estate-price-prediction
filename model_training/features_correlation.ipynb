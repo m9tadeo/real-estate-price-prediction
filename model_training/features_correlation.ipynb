{
 "cells": [
  {
   "cell_type": "markdown",
   "metadata": {},
   "source": [
    "Notebook to check correlation of features"
   ]
  },
  {
   "cell_type": "code",
   "execution_count": 52,
   "metadata": {},
   "outputs": [],
   "source": [
    "\"\"\"Import libraries\"\"\"\n",
    "import pandas as pd\n",
    "import numpy as np\n",
    "from sklearn.preprocessing import OneHotEncoder\n",
    "import scipy.stats"
   ]
  },
  {
   "cell_type": "code",
   "execution_count": 53,
   "metadata": {},
   "outputs": [
    {
     "name": "stdout",
     "output_type": "stream",
     "text": [
      "Index(['type', 'price', 'province', 'district', 'postalCode', 'latitude',\n",
      "       'longitude', 'constructionYear', 'buildingCondition',\n",
      "       'numberOfFrontages', 'livingArea', 'kitchenType', 'bedrooms',\n",
      "       'bedroom1Surface', 'bedroom2Surface', 'bathrooms', 'toilets',\n",
      "       'energyConsumption', 'energyClass', 'heatingType'],\n",
      "      dtype='object')\n"
     ]
    }
   ],
   "source": [
    "\"\"\"Load data\"\"\"\n",
    "dataset = '../../data/properties_filtered.csv'\n",
    "df = pd.read_csv(dataset)\n",
    "print(df.columns)"
   ]
  },
  {
   "cell_type": "code",
   "execution_count": 54,
   "metadata": {},
   "outputs": [],
   "source": [
    "\"\"\"Define y\"\"\"\n",
    "y = np.array(df['price'])"
   ]
  },
  {
   "cell_type": "code",
   "execution_count": 56,
   "metadata": {},
   "outputs": [],
   "source": [
    "\"\"\"Define X columns\"\"\"\n",
    "X_columns = ['type', 'latitude', 'longitude', 'constructionYear', 'buildingCondition', 'numberOfFrontages', 'livingArea', 'kitchenType', 'bedrooms',\n",
    "'bedroom1Surface', 'bedroom2Surface', 'bathrooms', 'toilets', 'energyConsumption', 'energyClass']"
   ]
  },
  {
   "cell_type": "code",
   "execution_count": 58,
   "metadata": {},
   "outputs": [
    {
     "name": "stdout",
     "output_type": "stream",
     "text": [
      "feature type has pearsonr of 0.05672\n",
      "feature latitude has pearsonr of 0.33570\n",
      "feature longitude has pearsonr of -0.30473\n",
      "feature constructionYear has pearsonr of 0.07841\n",
      "feature buildingCondition has pearsonr of -0.21833\n",
      "feature numberOfFrontages has pearsonr of 0.09015\n",
      "feature livingArea has pearsonr of 0.45220\n",
      "feature kitchenType has pearsonr of 0.29910\n",
      "feature bedrooms has pearsonr of 0.31852\n",
      "feature bedroom1Surface has pearsonr of 0.03642\n",
      "feature bedroom2Surface has pearsonr of 0.00706\n",
      "feature bathrooms has pearsonr of 0.50150\n",
      "feature toilets has pearsonr of 0.49346\n",
      "feature energyConsumption has pearsonr of -0.13506\n",
      "feature energyClass has pearsonr of -0.11960\n"
     ]
    }
   ],
   "source": [
    "\"\"\"Calculate correlation\"\"\"\n",
    "for item in X_columns:\n",
    "    X = np.array(df[item])\n",
    "    coef = scipy.stats.pearsonr(X, y)[0]\n",
    "    print(f'feature {item} has pearsonr of {coef:.5f}')"
   ]
  }
 ],
 "metadata": {
  "kernelspec": {
   "display_name": "Python 3.10.7 ('immo_eliza')",
   "language": "python",
   "name": "python3"
  },
  "language_info": {
   "codemirror_mode": {
    "name": "ipython",
    "version": 3
   },
   "file_extension": ".py",
   "mimetype": "text/x-python",
   "name": "python",
   "nbconvert_exporter": "python",
   "pygments_lexer": "ipython3",
   "version": "3.10.7"
  },
  "orig_nbformat": 4,
  "vscode": {
   "interpreter": {
    "hash": "a33f1ef1e9ec6c31820fe781c5813ed8dc5071af9cb6488d9d33ac3262f9cb66"
   }
  }
 },
 "nbformat": 4,
 "nbformat_minor": 2
}
