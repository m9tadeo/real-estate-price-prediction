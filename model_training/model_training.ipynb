{
 "cells": [
  {
   "cell_type": "code",
   "execution_count": 199,
   "metadata": {},
   "outputs": [
    {
     "data": {
      "text/plain": [
       "'This is my model training notebook'"
      ]
     },
     "execution_count": 199,
     "metadata": {},
     "output_type": "execute_result"
    }
   ],
   "source": [
    "\"\"\"This is my model training notebook\"\"\""
   ]
  },
  {
   "cell_type": "code",
   "execution_count": 200,
   "metadata": {},
   "outputs": [],
   "source": [
    "##Import Libraries\n",
    "import pandas as pd\n",
    "import numpy as np\n",
    "import matplotlib as mpl\n",
    "import matplotlib.pyplot as plt\n",
    "from math import radians\n",
    "from sklearn.preprocessing import OneHotEncoder\n",
    "from sklearn.model_selection import train_test_split\n",
    "from sklearn.linear_model import LinearRegression\n",
    "from sklearn.linear_model import LogisticRegression\n",
    "from sklearn.neighbors import KNeighborsRegressor"
   ]
  },
  {
   "cell_type": "code",
   "execution_count": 313,
   "metadata": {},
   "outputs": [],
   "source": [
    "##Load the dataset\n",
    "dataset = '../../data/properties_working.csv'\n",
    "df = pd.read_csv(dataset)"
   ]
  },
  {
   "cell_type": "code",
   "execution_count": 314,
   "metadata": {},
   "outputs": [],
   "source": [
    "##Drop columns that won't be used for modeling\n",
    "columns_to_drop = ['immowebCode', 'priceString', 'country', 'locality', 'street', 'availableDate', 'neighborhoodOrLocality', 'floor', 'numberOfFloors', 'outdoorParkingSpaces',\n",
    "'surroundingsType', 'livingRoomSurface', 'kitchenSurface', 'bedroom3Surface', 'bedroom4Surface', 'bedroom5Surface', 'basement', 'furnished', 'terraceSurface', 'elevator',\n",
    "'disabilityAccess', 'tvCable', 'visioPhone', 'swimmingPool', 'internet', 'EPCReportReference', 'CO2Emission', 'yearlyEnergyConsumption', 'doubleGlazing', 'thermicSolarPanels',\n",
    "'PVSolarPanels', 'planningPermission', 'subdivisionPermit', 'floodZoneType', 'landUseDesignation', 'cadastralIncome', 'tenementBuilding', 'streetFrontageWidth',\n",
    "'coveredParkingSpaces', 'basementSurface', 'monthlyCharges', 'diningRoom', 'showerRooms', 'intercom', 'armoredDoor', 'propertyName', 'laundryRoom', 'terraceOrientation',\n",
    "'caretaker', 'commonWaterHeater', 'livingRoom', 'terrace', 'attic', 'officeSurface', 'office', 'alarm', 'eLevel', 'heatPump', 'plotSurface', 'lotWidth', 'gasWaterElectric',\n",
    "'gardenSurface', 'gardenOrientation', 'dressingRoom', 'professionalSpace', 'sewerConnection', 'jacuzzi', 'sauna', 'buildingType', 'fireplaces', 'garden', 'airConditioning',\n",
    "'professionalSpaceSurface', 'atticSurface', 'isolated', 'streetFacing', 'woodedLand', 'rearPlot', 'flatLand']\n",
    "df_working = df.drop(columns_to_drop, axis=1)"
   ]
  },
  {
   "cell_type": "code",
   "execution_count": 315,
   "metadata": {},
   "outputs": [],
   "source": [
    "##Transform type column to binary\n",
    "df_working['type'] = df_working['type'].replace(['Apartment'], 0)\n",
    "df_working['type'] = df_working['type'].replace(['House'], 1)\n",
    "##Transform postal code into categorical data\n",
    "df_working['postalCode'] = df_working['postalCode'].astype(int)\n",
    "df_working['postalCode'] = df_working['postalCode'].astype(str)"
   ]
  },
  {
   "cell_type": "code",
   "execution_count": 316,
   "metadata": {},
   "outputs": [],
   "source": [
    "##Filter out all empty values\n",
    "indexEmpty = df_working[(df_working['latitude'] == 99.0)|(df_working['constructionYear'] == 'None')|(df_working['buildingCondition'] == 0)|\n",
    "(df_working['numberOfFrontages'] == 'None')|(df_working['livingArea'] == 'None')|(df_working['kitchenType'] == 0)|(df_working['bedrooms'] == 'None')|\n",
    "(df_working['bedroom1Surface'] == 'None')|(df_working['bedroom2Surface'] == 'None')|(df_working['bathrooms'] == 'None')|(df_working['toilets'] == 'None')|\n",
    "(df_working['energyConsumption'] == 0.0)|(df_working['energyClass'] == 'None')|(df_working['heatingType'] == 'None')].index\n",
    "df_filtered = df_working.drop(indexEmpty)"
   ]
  },
  {
   "cell_type": "code",
   "execution_count": 317,
   "metadata": {},
   "outputs": [],
   "source": [
    "#Transform columns to integer type\n",
    "columns_int = ['constructionYear', 'numberOfFrontages', 'livingArea', 'bedrooms', 'bedroom1Surface', 'bedroom2Surface', 'bathrooms', 'toilets']\n",
    "df_filtered[columns_int] = df_filtered[columns_int].astype(int)"
   ]
  },
  {
   "cell_type": "code",
   "execution_count": 318,
   "metadata": {},
   "outputs": [],
   "source": [
    "##Transform energyClass column to ranked values\n",
    "df_filtered['energyClass'] = df_filtered['energyClass'].replace(['A'], 1)\n",
    "df_filtered['energyClass'] = df_filtered['energyClass'].replace(['B'], 2)\n",
    "df_filtered['energyClass'] = df_filtered['energyClass'].replace(['C'], 3)\n",
    "df_filtered['energyClass'] = df_filtered['energyClass'].replace(['D'], 4)\n",
    "df_filtered['energyClass'] = df_filtered['energyClass'].replace(['E'], 5)\n",
    "df_filtered['energyClass'] = df_filtered['energyClass'].replace(['F'], 6)\n",
    "df_filtered['energyClass'] = df_filtered['energyClass'].replace(['G'], 7)"
   ]
  },
  {
   "cell_type": "code",
   "execution_count": 319,
   "metadata": {},
   "outputs": [],
   "source": [
    "##Set y value\n",
    "y = df_filtered['price'].values"
   ]
  },
  {
   "cell_type": "code",
   "execution_count": 320,
   "metadata": {},
   "outputs": [],
   "source": [
    "##Run One Hot Encoder on categorical data\n",
    "column_type = df_filtered['type'].values\n",
    "columns_ohe = ['province', 'district', 'postalCode', 'heatingType']\n",
    "ohe = OneHotEncoder()\n",
    "cat_ohe = ohe.fit_transform(df_filtered[columns_ohe]).toarray()\n",
    "cat_data = np.column_stack((column_type, cat_ohe))"
   ]
  },
  {
   "cell_type": "code",
   "execution_count": 321,
   "metadata": {},
   "outputs": [
    {
     "name": "stdout",
     "output_type": "stream",
     "text": [
      "Index(['type', 'price', 'province', 'district', 'postalCode', 'latitude',\n",
      "       'longitude', 'constructionYear', 'buildingCondition',\n",
      "       'numberOfFrontages', 'livingArea', 'kitchenType', 'bedrooms',\n",
      "       'bedroom1Surface', 'bedroom2Surface', 'bathrooms', 'toilets',\n",
      "       'energyConsumption', 'energyClass', 'heatingType'],\n",
      "      dtype='object')\n"
     ]
    }
   ],
   "source": [
    "print(df_filtered.columns)"
   ]
  },
  {
   "cell_type": "code",
   "execution_count": 322,
   "metadata": {},
   "outputs": [],
   "source": [
    "X = cat_data"
   ]
  },
  {
   "cell_type": "code",
   "execution_count": 323,
   "metadata": {},
   "outputs": [],
   "source": [
    "##Split the dataset\n",
    "X_train, X_test, y_train, y_test = train_test_split(X, y, test_size=0.3, random_state=42)"
   ]
  },
  {
   "cell_type": "code",
   "execution_count": 324,
   "metadata": {},
   "outputs": [
    {
     "name": "stdout",
     "output_type": "stream",
     "text": [
      "0.5867004218969594\n"
     ]
    }
   ],
   "source": [
    "##Declare instance of model\n",
    "regressor = LinearRegression()\n",
    "##Fit the model\n",
    "regressor.fit(X_train, y_train)\n",
    "print(regressor.score(X_train, y_train))"
   ]
  },
  {
   "cell_type": "code",
   "execution_count": 325,
   "metadata": {},
   "outputs": [
    {
     "name": "stdout",
     "output_type": "stream",
     "text": [
      "-1.416707119590685e+25\n",
      "1.0\n"
     ]
    }
   ],
   "source": [
    "##Evaluate the model\n",
    "y_predict = regressor.predict(X_test)\n",
    "print(regressor.score(X_test, y_test))\n",
    "print(regressor.score(X_test, y_predict))"
   ]
  },
  {
   "cell_type": "markdown",
   "metadata": {},
   "source": [
    "This section is for running a K neighbors regressor using the latitude and longitude data"
   ]
  },
  {
   "cell_type": "code",
   "execution_count": 196,
   "metadata": {},
   "outputs": [],
   "source": [
    "##Run trial model (lat, long)\n",
    "empty_lat_long = df[df['latitude'] == 99.0].index\n",
    "df_lat_long = df_working.drop(empty_lat_long)\n",
    "\n",
    "df_lat_long['latitude'] = df_lat_long['latitude'].apply(radians)\n",
    "df_lat_long['longitude'] = df_lat_long['longitude'].apply(radians)\n",
    "\n",
    "X = df_lat_long[['latitude', 'longitude']].values\n",
    "y = df_lat_long['price'].values"
   ]
  },
  {
   "cell_type": "code",
   "execution_count": 197,
   "metadata": {},
   "outputs": [],
   "source": [
    "##Split the dataset\n",
    "X_train, X_test, y_train, y_test = train_test_split(X, y, test_size=0.3, random_state=42)"
   ]
  },
  {
   "cell_type": "code",
   "execution_count": 198,
   "metadata": {},
   "outputs": [
    {
     "name": "stdout",
     "output_type": "stream",
     "text": [
      "0.3506687097317104\n",
      "0.2700067249120899\n",
      "1.0\n"
     ]
    }
   ],
   "source": [
    "##Declare instance of model\n",
    "nbrs = KNeighborsRegressor(weights='distance', metric='haversine')\n",
    "##Fit the model\n",
    "nbrs.fit(X_train, y_train)\n",
    "print(nbrs.score(X_train, y_train))\n",
    "##Evaluate the model\n",
    "y_pred = nbrs.predict(X_test)\n",
    "print(nbrs.score(X_test, y_test))\n",
    "print(nbrs.score(X_test, y_pred))"
   ]
  }
 ],
 "metadata": {
  "kernelspec": {
   "display_name": "Python 3.10.7 ('immo_eliza')",
   "language": "python",
   "name": "python3"
  },
  "language_info": {
   "codemirror_mode": {
    "name": "ipython",
    "version": 3
   },
   "file_extension": ".py",
   "mimetype": "text/x-python",
   "name": "python",
   "nbconvert_exporter": "python",
   "pygments_lexer": "ipython3",
   "version": "3.10.7"
  },
  "orig_nbformat": 4,
  "vscode": {
   "interpreter": {
    "hash": "a33f1ef1e9ec6c31820fe781c5813ed8dc5071af9cb6488d9d33ac3262f9cb66"
   }
  }
 },
 "nbformat": 4,
 "nbformat_minor": 2
}
