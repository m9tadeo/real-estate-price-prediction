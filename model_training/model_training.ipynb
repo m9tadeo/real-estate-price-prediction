{
 "cells": [
  {
   "cell_type": "markdown",
   "metadata": {},
   "source": [
    "This is my model training cleaning and preprocessing notebook"
   ]
  },
  {
   "cell_type": "code",
   "execution_count": 11,
   "metadata": {},
   "outputs": [],
   "source": [
    "##Import Libraries\n",
    "import pandas as pd\n",
    "import numpy as np\n",
    "import matplotlib as mpl\n",
    "import matplotlib.pyplot as plt\n",
    "from math import radians\n",
    "from sklearn.preprocessing import OneHotEncoder\n",
    "from sklearn.model_selection import train_test_split\n",
    "from sklearn.linear_model import LinearRegression\n",
    "from sklearn.linear_model import LogisticRegression\n",
    "from sklearn.neighbors import KNeighborsRegressor"
   ]
  },
  {
   "cell_type": "code",
   "execution_count": 12,
   "metadata": {},
   "outputs": [],
   "source": [
    "##Load the dataset\n",
    "dataset = '../../data/properties_working.csv'\n",
    "df = pd.read_csv(dataset)"
   ]
  },
  {
   "cell_type": "code",
   "execution_count": 13,
   "metadata": {},
   "outputs": [],
   "source": [
    "##Drop columns that won't be used for modeling\n",
    "columns_to_drop = ['immowebCode', 'priceString', 'country', 'locality', 'street', 'availableDate', 'neighborhoodOrLocality', 'floor', 'numberOfFloors', 'outdoorParkingSpaces',\n",
    "'surroundingsType', 'livingRoomSurface', 'kitchenSurface', 'bedroom3Surface', 'bedroom4Surface', 'bedroom5Surface', 'basement', 'furnished', 'terraceSurface', 'elevator',\n",
    "'disabilityAccess', 'tvCable', 'visioPhone', 'swimmingPool', 'internet', 'EPCReportReference', 'CO2Emission', 'yearlyEnergyConsumption', 'doubleGlazing', 'thermicSolarPanels',\n",
    "'PVSolarPanels', 'planningPermission', 'subdivisionPermit', 'floodZoneType', 'landUseDesignation', 'cadastralIncome', 'tenementBuilding', 'streetFrontageWidth',\n",
    "'coveredParkingSpaces', 'basementSurface', 'monthlyCharges', 'diningRoom', 'showerRooms', 'intercom', 'armoredDoor', 'propertyName', 'laundryRoom', 'terraceOrientation',\n",
    "'caretaker', 'commonWaterHeater', 'livingRoom', 'terrace', 'attic', 'officeSurface', 'office', 'alarm', 'eLevel', 'heatPump', 'plotSurface', 'lotWidth', 'gasWaterElectric',\n",
    "'gardenSurface', 'gardenOrientation', 'dressingRoom', 'professionalSpace', 'sewerConnection', 'jacuzzi', 'sauna', 'buildingType', 'fireplaces', 'garden', 'airConditioning',\n",
    "'professionalSpaceSurface', 'atticSurface', 'isolated', 'streetFacing', 'woodedLand', 'rearPlot', 'flatLand']\n",
    "df_working = df.drop(columns_to_drop, axis=1)"
   ]
  },
  {
   "cell_type": "code",
   "execution_count": 14,
   "metadata": {},
   "outputs": [],
   "source": [
    "##Transform type column to binary\n",
    "df_working['type'] = df_working['type'].replace(['Apartment'], 0)\n",
    "df_working['type'] = df_working['type'].replace(['House'], 1)"
   ]
  },
  {
   "cell_type": "code",
   "execution_count": null,
   "metadata": {},
   "outputs": [],
   "source": [
    "##Transform postal code into string type\n",
    "df_working['postalCode'] = df_working['postalCode'].astype(int)\n",
    "df_working['postalCode'] = df_working['postalCode'].astype(str)"
   ]
  },
  {
   "cell_type": "code",
   "execution_count": 15,
   "metadata": {},
   "outputs": [],
   "source": [
    "##Filter out all empty values\n",
    "indexEmpty = df_working[(df_working['latitude'] == 99.0)|(df_working['constructionYear'] == 'None')|(df_working['buildingCondition'] == 0)|\n",
    "(df_working['numberOfFrontages'] == 'None')|(df_working['livingArea'] == 'None')|(df_working['kitchenType'] == 0)|(df_working['bedrooms'] == 'None')|\n",
    "(df_working['bedroom1Surface'] == 'None')|(df_working['bedroom2Surface'] == 'None')|(df_working['bathrooms'] == 'None')|(df_working['toilets'] == 'None')|\n",
    "(df_working['energyConsumption'] == 0.0)|(df_working['energyClass'] == 'None')|(df_working['heatingType'] == 'None')].index\n",
    "df_filtered = df_working.drop(indexEmpty)"
   ]
  },
  {
   "cell_type": "code",
   "execution_count": 16,
   "metadata": {},
   "outputs": [],
   "source": [
    "#Transform columns to integer type\n",
    "columns_int = ['constructionYear', 'numberOfFrontages', 'livingArea', 'bedrooms', 'bedroom1Surface', 'bedroom2Surface', 'bathrooms', 'toilets']\n",
    "df_filtered[columns_int] = df_filtered[columns_int].astype(int)"
   ]
  },
  {
   "cell_type": "code",
   "execution_count": 17,
   "metadata": {},
   "outputs": [],
   "source": [
    "##Transform energyClass column to ranked values\n",
    "df_filtered['energyClass'] = df_filtered['energyClass'].replace(['A'], 1)\n",
    "df_filtered['energyClass'] = df_filtered['energyClass'].replace(['B'], 2)\n",
    "df_filtered['energyClass'] = df_filtered['energyClass'].replace(['C'], 3)\n",
    "df_filtered['energyClass'] = df_filtered['energyClass'].replace(['D'], 4)\n",
    "df_filtered['energyClass'] = df_filtered['energyClass'].replace(['E'], 5)\n",
    "df_filtered['energyClass'] = df_filtered['energyClass'].replace(['F'], 6)\n",
    "df_filtered['energyClass'] = df_filtered['energyClass'].replace(['G'], 7)"
   ]
  },
  {
   "cell_type": "code",
   "execution_count": 18,
   "metadata": {},
   "outputs": [],
   "source": [
    "##Transform latitude and longitude to radians\n",
    "df_filtered['latitude'] = df_filtered['latitude'].apply(radians)\n",
    "df_filtered['longitude'] = df_filtered['longitude'].apply(radians)"
   ]
  },
  {
   "cell_type": "code",
   "execution_count": 19,
   "metadata": {},
   "outputs": [],
   "source": [
    "\"\"\"Save filtered dataframe to new csv\"\"\"\n",
    "filtered_dataset = '../../data/properties_filtered.csv'\n",
    "df_filtered.to_csv(filtered_dataset, index = False, header = True, escapechar = \"\\\\\")"
   ]
  },
  {
   "cell_type": "code",
   "execution_count": 21,
   "metadata": {},
   "outputs": [
    {
     "name": "stdout",
     "output_type": "stream",
     "text": [
      "(991, 20)\n"
     ]
    }
   ],
   "source": [
    "print(df_filtered.shape)"
   ]
  }
 ],
 "metadata": {
  "kernelspec": {
   "display_name": "Python 3.10.7 ('immo_eliza')",
   "language": "python",
   "name": "python3"
  },
  "language_info": {
   "codemirror_mode": {
    "name": "ipython",
    "version": 3
   },
   "file_extension": ".py",
   "mimetype": "text/x-python",
   "name": "python",
   "nbconvert_exporter": "python",
   "pygments_lexer": "ipython3",
   "version": "3.10.7"
  },
  "orig_nbformat": 4,
  "vscode": {
   "interpreter": {
    "hash": "a33f1ef1e9ec6c31820fe781c5813ed8dc5071af9cb6488d9d33ac3262f9cb66"
   }
  }
 },
 "nbformat": 4,
 "nbformat_minor": 2
}
