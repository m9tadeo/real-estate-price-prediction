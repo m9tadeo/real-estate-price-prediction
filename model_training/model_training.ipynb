{
 "cells": [
  {
   "cell_type": "code",
   "execution_count": 247,
   "metadata": {},
   "outputs": [
    {
     "data": {
      "text/plain": [
       "'This is my model training notebook'"
      ]
     },
     "execution_count": 247,
     "metadata": {},
     "output_type": "execute_result"
    }
   ],
   "source": [
    "\"\"\"This is my model training notebook\"\"\""
   ]
  },
  {
   "cell_type": "code",
   "execution_count": 248,
   "metadata": {},
   "outputs": [],
   "source": [
    "##Import Libraries\n",
    "import pandas as pd\n",
    "import numpy as np\n",
    "import matplotlib as mpl\n",
    "import matplotlib.pyplot as plt\n",
    "from math import radians\n",
    "from sklearn.preprocessing import OneHotEncoder\n",
    "from sklearn.model_selection import train_test_split\n",
    "from sklearn.linear_model import LinearRegression\n",
    "from sklearn.linear_model import LogisticRegression\n",
    "from sklearn.neighbors import KNeighborsRegressor"
   ]
  },
  {
   "cell_type": "code",
   "execution_count": 249,
   "metadata": {},
   "outputs": [
    {
     "data": {
      "text/plain": [
       "(3585, 99)"
      ]
     },
     "execution_count": 249,
     "metadata": {},
     "output_type": "execute_result"
    }
   ],
   "source": [
    "##Load the data\n",
    "dataset = '../../data/properties_working.csv'\n",
    "df = pd.read_csv(dataset)\n",
    "df.shape"
   ]
  },
  {
   "cell_type": "code",
   "execution_count": 250,
   "metadata": {},
   "outputs": [
    {
     "name": "stdout",
     "output_type": "stream",
     "text": [
      "Index(['type', 'price', 'province', 'district', 'postalCode', 'latitude',\n",
      "       'longitude', 'constructionYear', 'floor', 'numberOfFloors',\n",
      "       'buildingCondition', 'numberOfFrontages', 'outdoorParkingSpaces',\n",
      "       'surroundingsType', 'livingArea', 'livingRoomSurface', 'kitchenType',\n",
      "       'kitchenSurface', 'bedrooms', 'bedroom1Surface', 'bedroom2Surface',\n",
      "       'bathrooms', 'toilets', 'basement', 'furnished', 'terraceSurface',\n",
      "       'elevator', 'disabilityAccess', 'tvCable', 'visioPhone', 'swimmingPool',\n",
      "       'energyConsumption', 'energyClass', 'EPCReportReference', 'CO2Emission',\n",
      "       'yearlyEnergyConsumption', 'heatingType', 'thermicSolarPanels',\n",
      "       'doubleGlazing', 'planningPermission', 'subdivisionPermit',\n",
      "       'floodZoneType', 'landUseDesignation', 'cadastralIncome',\n",
      "       'tenementBuilding', 'streetFrontageWidth', 'coveredParkingSpaces',\n",
      "       'basementSurface', 'monthlyCharges', 'diningRoom', 'showerRooms',\n",
      "       'intercom', 'bedroom3Surface', 'armoredDoor', 'propertyName',\n",
      "       'laundryRoom', 'terraceOrientation', 'caretaker', 'commonWaterHeater',\n",
      "       'livingRoom', 'terrace', 'attic', 'bedroom4Surface', 'officeSurface',\n",
      "       'office', 'alarm', 'eLevel', 'heatPump', 'PVSolarPanels', 'plotSurface',\n",
      "       'lotWidth', 'gasWaterElectric', 'gardenSurface', 'gardenOrientation',\n",
      "       'dressingRoom', 'professionalSpace', 'sewerConnection', 'jacuzzi',\n",
      "       'sauna', 'buildingType', 'fireplaces', 'garden', 'airConditioning',\n",
      "       'professionalSpaceSurface', 'atticSurface', 'isolated',\n",
      "       'bedroom5Surface', 'streetFacing', 'woodedLand', 'rearPlot',\n",
      "       'flatLand'],\n",
      "      dtype='object')\n"
     ]
    }
   ],
   "source": [
    "##Drop columns that won't be used for modeling\n",
    "df_working = df.drop(['immowebCode', 'priceString', 'country', 'locality', 'street', 'availableDate', 'neighborhoodOrLocality', 'floor', 'internet'], axis=1)\n",
    "##Transform postal code into categorical data\n",
    "df_working['postalCode'] = df_working['postalCode'].astype(int)\n",
    "df_working['postalCode'] = df_working['postalCode'].astype(str)\n",
    "print(df_working.columns)"
   ]
  },
  {
   "cell_type": "code",
   "execution_count": 262,
   "metadata": {},
   "outputs": [
    {
     "data": {
      "text/plain": [
       "array(['7', 'None', '2', '3', '8', '6', '4', '17', '5', '13', '10', '12',\n",
       "       '9', '1', '11', '26', '15', '16', '14', '42', '19', '18'],\n",
       "      dtype=object)"
      ]
     },
     "execution_count": 262,
     "metadata": {},
     "output_type": "execute_result"
    }
   ],
   "source": [
    "df_working['numberOfFloors'].unique()"
   ]
  },
  {
   "cell_type": "code",
   "execution_count": 251,
   "metadata": {},
   "outputs": [],
   "source": [
    "##Run trial model\n",
    "df_subset = df_working.loc[df_working['constructionYear'] != 'None']\n",
    "X = df_subset[['constructionYear']].values\n",
    "y = df_subset['price'].values"
   ]
  },
  {
   "cell_type": "code",
   "execution_count": 252,
   "metadata": {},
   "outputs": [
    {
     "name": "stdout",
     "output_type": "stream",
     "text": [
      "[[0. 0. 0. ... 0. 0. 0.]\n",
      " [0. 0. 0. ... 0. 0. 0.]\n",
      " [0. 0. 0. ... 0. 0. 0.]\n",
      " ...\n",
      " [0. 0. 0. ... 0. 0. 0.]\n",
      " [0. 0. 0. ... 0. 0. 0.]\n",
      " [0. 0. 0. ... 0. 0. 0.]]\n"
     ]
    }
   ],
   "source": [
    "##Run One Hot Encoder\n",
    "ohe = OneHotEncoder()\n",
    "X = ohe.fit_transform(df_subset[['constructionYear']])\n",
    "print(X.toarray())"
   ]
  },
  {
   "cell_type": "code",
   "execution_count": 253,
   "metadata": {},
   "outputs": [],
   "source": [
    "##Split the dataset\n",
    "X_train, X_test, y_train, y_test = train_test_split(X, y, test_size=0.3, random_state=42)"
   ]
  },
  {
   "cell_type": "code",
   "execution_count": 254,
   "metadata": {},
   "outputs": [
    {
     "name": "stdout",
     "output_type": "stream",
     "text": [
      "0.12148726757757167\n"
     ]
    }
   ],
   "source": [
    "##Declare instance of model\n",
    "regressor = LinearRegression()\n",
    "##Fit the model\n",
    "regressor.fit(X_train, y_train)\n",
    "print(regressor.score(X_train, y_train))"
   ]
  },
  {
   "cell_type": "code",
   "execution_count": 255,
   "metadata": {},
   "outputs": [
    {
     "name": "stdout",
     "output_type": "stream",
     "text": [
      "-0.10015494490131926\n",
      "1.0\n"
     ]
    }
   ],
   "source": [
    "##Evaluate the model\n",
    "y_predict = regressor.predict(X_test)\n",
    "print(regressor.score(X_test, y_test))\n",
    "print(regressor.score(X_test, y_predict))"
   ]
  },
  {
   "cell_type": "code",
   "execution_count": 256,
   "metadata": {},
   "outputs": [
    {
     "name": "stderr",
     "output_type": "stream",
     "text": [
      "C:\\Users\\ARCH GLOBAL\\AppData\\Local\\Temp\\ipykernel_14648\\2782714157.py:4: SettingWithCopyWarning: \n",
      "A value is trying to be set on a copy of a slice from a DataFrame.\n",
      "Try using .loc[row_indexer,col_indexer] = value instead\n",
      "\n",
      "See the caveats in the documentation: https://pandas.pydata.org/pandas-docs/stable/user_guide/indexing.html#returning-a-view-versus-a-copy\n",
      "  df_lat_long['latitude'] = df_lat_long['latitude'].apply(radians)\n",
      "C:\\Users\\ARCH GLOBAL\\AppData\\Local\\Temp\\ipykernel_14648\\2782714157.py:5: SettingWithCopyWarning: \n",
      "A value is trying to be set on a copy of a slice from a DataFrame.\n",
      "Try using .loc[row_indexer,col_indexer] = value instead\n",
      "\n",
      "See the caveats in the documentation: https://pandas.pydata.org/pandas-docs/stable/user_guide/indexing.html#returning-a-view-versus-a-copy\n",
      "  df_lat_long['longitude'] = df_lat_long['longitude'].apply(radians)\n"
     ]
    }
   ],
   "source": [
    "##Run trial model (lat, long)\n",
    "df_lat_long = df_working.loc[df_working['latitude'] != 99.0]\n",
    "\n",
    "df_lat_long['latitude'] = df_lat_long['latitude'].apply(radians)\n",
    "df_lat_long['longitude'] = df_lat_long['longitude'].apply(radians)\n",
    "\n",
    "X = df_lat_long[['latitude', 'longitude']].values\n",
    "y = df_lat_long['price'].values"
   ]
  },
  {
   "cell_type": "code",
   "execution_count": 257,
   "metadata": {},
   "outputs": [],
   "source": [
    "##Split the dataset\n",
    "X_train, X_test, y_train, y_test = train_test_split(X, y, test_size=0.3, random_state=42)"
   ]
  },
  {
   "cell_type": "code",
   "execution_count": 258,
   "metadata": {},
   "outputs": [
    {
     "name": "stdout",
     "output_type": "stream",
     "text": [
      "0.3506687097317104\n",
      "0.2700067249120899\n",
      "1.0\n"
     ]
    }
   ],
   "source": [
    "##Declare instance of model\n",
    "nbrs = KNeighborsRegressor(weights='distance', metric='haversine')\n",
    "##Fit the model\n",
    "nbrs.fit(X_train, y_train)\n",
    "print(nbrs.score(X_train, y_train))\n",
    "##Evaluate the model\n",
    "y_pred = nbrs.predict(X_test)\n",
    "print(nbrs.score(X_test, y_test))\n",
    "print(nbrs.score(X_test, y_pred))"
   ]
  }
 ],
 "metadata": {
  "kernelspec": {
   "display_name": "Python 3.10.7 ('immo_eliza')",
   "language": "python",
   "name": "python3"
  },
  "language_info": {
   "codemirror_mode": {
    "name": "ipython",
    "version": 3
   },
   "file_extension": ".py",
   "mimetype": "text/x-python",
   "name": "python",
   "nbconvert_exporter": "python",
   "pygments_lexer": "ipython3",
   "version": "3.10.7"
  },
  "orig_nbformat": 4,
  "vscode": {
   "interpreter": {
    "hash": "a33f1ef1e9ec6c31820fe781c5813ed8dc5071af9cb6488d9d33ac3262f9cb66"
   }
  }
 },
 "nbformat": 4,
 "nbformat_minor": 2
}
