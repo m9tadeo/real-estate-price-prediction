{
 "cells": [
  {
   "cell_type": "markdown",
   "metadata": {},
   "source": [
    "This is my model training cleaning notebook"
   ]
  },
  {
   "cell_type": "code",
   "execution_count": 1,
   "metadata": {},
   "outputs": [],
   "source": [
    "\"\"\"Import Libraries\"\"\"\n",
    "\n",
    "import pandas as pd\n",
    "import numpy as np\n",
    "import matplotlib as mpl\n",
    "import matplotlib.pyplot as plt\n",
    "from math import radians\n",
    "from sklearn.preprocessing import OneHotEncoder\n",
    "from sklearn.model_selection import train_test_split\n",
    "from sklearn.linear_model import LinearRegression\n",
    "from sklearn.linear_model import LogisticRegression\n",
    "from sklearn.neighbors import KNeighborsRegressor"
   ]
  },
  {
   "cell_type": "code",
   "execution_count": 2,
   "metadata": {},
   "outputs": [],
   "source": [
    "\"\"\"Function to load the dataset\"\"\"\n",
    "\n",
    "def load_dataset():\n",
    "    dataset = '../../data/properties_working.csv'\n",
    "    df = pd.read_csv(dataset)\n",
    "    return df"
   ]
  },
  {
   "cell_type": "code",
   "execution_count": 3,
   "metadata": {},
   "outputs": [],
   "source": [
    "\"\"\"Function to drop columns that won't be used for modeling\"\"\"\n",
    "\n",
    "def drop_columns(df):\n",
    "    columns_to_drop = ['immowebCode', 'priceString', 'country', 'locality', 'street', 'availableDate', 'neighborhoodOrLocality', 'floor', 'numberOfFloors', 'outdoorParkingSpaces',\n",
    "'surroundingsType', 'livingRoomSurface', 'kitchenSurface', 'bedroom3Surface', 'bedroom4Surface', 'bedroom5Surface', 'basement', 'furnished', 'terraceSurface', 'elevator',\n",
    "'disabilityAccess', 'tvCable', 'visioPhone', 'swimmingPool', 'internet', 'EPCReportReference', 'CO2Emission', 'yearlyEnergyConsumption', 'doubleGlazing', 'thermicSolarPanels',\n",
    "'PVSolarPanels', 'planningPermission', 'subdivisionPermit', 'floodZoneType', 'landUseDesignation', 'cadastralIncome', 'tenementBuilding', 'streetFrontageWidth',\n",
    "'coveredParkingSpaces', 'basementSurface', 'monthlyCharges', 'diningRoom', 'showerRooms', 'intercom', 'armoredDoor', 'propertyName', 'laundryRoom', 'terraceOrientation',\n",
    "'caretaker', 'commonWaterHeater', 'livingRoom', 'terrace', 'attic', 'officeSurface', 'office', 'alarm', 'eLevel', 'heatPump', 'plotSurface', 'lotWidth', 'gasWaterElectric',\n",
    "'gardenSurface', 'gardenOrientation', 'dressingRoom', 'professionalSpace', 'sewerConnection', 'jacuzzi', 'sauna', 'buildingType', 'fireplaces', 'garden', 'airConditioning',\n",
    "'professionalSpaceSurface', 'atticSurface', 'isolated', 'streetFacing', 'woodedLand', 'rearPlot', 'flatLand']\n",
    "    df_working = df.drop(columns_to_drop, axis=1)\n",
    "    return df_working"
   ]
  },
  {
   "cell_type": "code",
   "execution_count": 4,
   "metadata": {},
   "outputs": [],
   "source": [
    "\"\"\"Function to transform type column to binary, transform postal code to string type and filter out all empty values\"\"\"\n",
    "\n",
    "def filter_dataset(df_working):\n",
    "    df_working['type'] = df_working['type'].replace(['Apartment'], 0)\n",
    "    df_working['type'] = df_working['type'].replace(['House'], 1)\n",
    "    df_working['postalCode'] = df_working['postalCode'].astype(int)\n",
    "    df_working['postalCode'] = df_working['postalCode'].astype(str)\n",
    "    indexEmpty = df_working[(df_working['latitude'] == 99.0)|(df_working['constructionYear'] == 'None')|(df_working['buildingCondition'] == 0)|\n",
    "    (df_working['numberOfFrontages'] == 'None')|(df_working['livingArea'] == 'None')|(df_working['kitchenType'] == 0)|(df_working['bedrooms'] == 'None')|\n",
    "    (df_working['bedroom1Surface'] == 'None')|(df_working['bedroom2Surface'] == 'None')|(df_working['bathrooms'] == 'None')|(df_working['toilets'] == 'None')|\n",
    "    (df_working['energyConsumption'] == 0.0)|(df_working['energyClass'] == 'None')|(df_working['heatingType'] == 'None')].index\n",
    "    df_filtered = df_working.drop(indexEmpty)\n",
    "    return df_filtered"
   ]
  },
  {
   "cell_type": "code",
   "execution_count": 5,
   "metadata": {},
   "outputs": [],
   "source": [
    "\"\"\"Function to transform certain columns to integer type, transform energy class to ranked numerical values and transform latitude and longitude to radians\"\"\"\n",
    "\n",
    "def transform_filtered(df_filtered):\n",
    "    columns_int = ['constructionYear', 'numberOfFrontages', 'livingArea', 'bedrooms', 'bedroom1Surface', 'bedroom2Surface', 'bathrooms', 'toilets']\n",
    "    df_filtered[columns_int] = df_filtered[columns_int].astype(int)\n",
    "    df_filtered['energyClass'] = df_filtered['energyClass'].replace(['A'], 1)\n",
    "    df_filtered['energyClass'] = df_filtered['energyClass'].replace(['B'], 2)\n",
    "    df_filtered['energyClass'] = df_filtered['energyClass'].replace(['C'], 3)\n",
    "    df_filtered['energyClass'] = df_filtered['energyClass'].replace(['D'], 4)\n",
    "    df_filtered['energyClass'] = df_filtered['energyClass'].replace(['E'], 5)\n",
    "    df_filtered['energyClass'] = df_filtered['energyClass'].replace(['F'], 6)\n",
    "    df_filtered['energyClass'] = df_filtered['energyClass'].replace(['G'], 7)\n",
    "    df_filtered['latitude'] = df_filtered['latitude'].apply(radians)\n",
    "    df_filtered['longitude'] = df_filtered['longitude'].apply(radians)\n",
    "    return df_filtered"
   ]
  },
  {
   "cell_type": "code",
   "execution_count": 6,
   "metadata": {},
   "outputs": [],
   "source": [
    "\"\"\"Function to save filtered dataframe to a new csv\"\"\"\n",
    "\n",
    "def save_filtered(df_filtered):\n",
    "    filtered_dataset = '../../data/properties_filtered.csv'\n",
    "    df_filtered.to_csv(filtered_dataset, index = False, header = True, escapechar = \"\\\\\")\n",
    "    print(df_filtered.shape, df_filtered.head())"
   ]
  },
  {
   "cell_type": "code",
   "execution_count": 7,
   "metadata": {},
   "outputs": [],
   "source": [
    "\"\"\"Function to run everything\"\"\"\n",
    "\n",
    "def model_training_cleaning():\n",
    "    df = load_dataset()\n",
    "    working = drop_columns(df)\n",
    "    filtered = filter_dataset(working)\n",
    "    final = transform_filtered(filtered)\n",
    "    save_filtered(final)"
   ]
  },
  {
   "cell_type": "code",
   "execution_count": 8,
   "metadata": {},
   "outputs": [
    {
     "name": "stdout",
     "output_type": "stream",
     "text": [
      "(991, 20)     type     price       province  district postalCode  latitude  longitude  \\\n",
      "0      0  375000.0  East Flanders      Gent       9000  0.890642   0.064926   \n",
      "1      0  195000.0        Antwerp   Antwerp       2610  0.893260   0.077144   \n",
      "5      0  339000.0  East Flanders      Gent       9000  0.890642   0.064926   \n",
      "7      0  208000.0  East Flanders      Gent       9000  0.890642   0.064926   \n",
      "10     0  395000.0       Brussels  Brussels       1050  0.887151   0.076271   \n",
      "\n",
      "    constructionYear  buildingCondition  numberOfFrontages  livingArea  \\\n",
      "0               2022                  1                  2          91   \n",
      "1               1958                  3                  2          90   \n",
      "5               2021                  1                  4         101   \n",
      "7               2004                  3                  3         105   \n",
      "10              2022                  1                  2         107   \n",
      "\n",
      "    kitchenType  bedrooms  bedroom1Surface  bedroom2Surface  bathrooms  \\\n",
      "0             7         2               16               10          1   \n",
      "1             3         2               17               10          1   \n",
      "5             7         2               16               10          1   \n",
      "7             4         2               14               14          1   \n",
      "10            8         3               14                9          1   \n",
      "\n",
      "    toilets  energyConsumption  energyClass heatingType  \n",
      "0         1                1.0            1           1  \n",
      "1         1              262.0            3           2  \n",
      "5         1                1.0            1           1  \n",
      "7         1              292.0            3           2  \n",
      "10        2               54.0            2           1  \n"
     ]
    }
   ],
   "source": [
    "model_training_cleaning()"
   ]
  }
 ],
 "metadata": {
  "kernelspec": {
   "display_name": "Python 3.10.7 ('immo_eliza')",
   "language": "python",
   "name": "python3"
  },
  "language_info": {
   "codemirror_mode": {
    "name": "ipython",
    "version": 3
   },
   "file_extension": ".py",
   "mimetype": "text/x-python",
   "name": "python",
   "nbconvert_exporter": "python",
   "pygments_lexer": "ipython3",
   "version": "3.10.7"
  },
  "orig_nbformat": 4,
  "vscode": {
   "interpreter": {
    "hash": "a33f1ef1e9ec6c31820fe781c5813ed8dc5071af9cb6488d9d33ac3262f9cb66"
   }
  }
 },
 "nbformat": 4,
 "nbformat_minor": 2
}
