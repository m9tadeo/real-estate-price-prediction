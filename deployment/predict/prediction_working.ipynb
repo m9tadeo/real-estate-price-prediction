{
 "cells": [
  {
   "cell_type": "code",
   "execution_count": 20,
   "metadata": {},
   "outputs": [],
   "source": [
    "\"\"\"Import libraries\"\"\"\n",
    "\n",
    "import pandas as pd\n",
    "import numpy as np\n",
    "from pandas.api.types import is_string_dtype\n",
    "import joblib\n",
    "from sklearn.preprocessing import OneHotEncoder\n",
    "from sklearn.model_selection import train_test_split\n",
    "from sklearn.preprocessing import MinMaxScaler\n",
    "from sklearn.ensemble import RandomForestRegressor"
   ]
  },
  {
   "cell_type": "code",
   "execution_count": 21,
   "metadata": {},
   "outputs": [],
   "source": [
    "\"\"\"Inititalize data\"\"\"\n",
    "\n",
    "output_data = {}\n",
    "\n",
    "input_data = '../../../data/sample_input.csv'   #sample only\n",
    "df_input_values = pd.read_csv(input_data)"
   ]
  },
  {
   "cell_type": "code",
   "execution_count": 22,
   "metadata": {},
   "outputs": [],
   "source": [
    "\"\"\"This is the prediction function\"\"\"\n",
    "\n",
    "def predict(df_input_values):\n",
    "    type_input = df_input_values['type'].values\n",
    "    ohe_column = df_input_values[[\"postalCode\"]].astype(str)\n",
    "    encoder = joblib.load('../model/encoder.joblib')\n",
    "    ohe_transform = encoder.transform(ohe_column).toarray()\n",
    "    ohe_input = np.column_stack((type_input, ohe_transform))\n",
    "    non_ohe_columns = [\"bedrooms\", \"buildingCondition\", \"kitchenType\", \"livingArea\", \"numberOfFrontages\"]\n",
    "    non_ohe_input = df_input_values[non_ohe_columns].values\n",
    "    X_input = np.column_stack((ohe_input, non_ohe_input))\n",
    "    scaler = joblib.load('../model/scaler.joblib')\n",
    "    X_scaled = scaler.transform(X_input)\n",
    "    model = joblib.load('../model/model.joblib')\n",
    "    prediction = model.predict(X_scaled)\n",
    "    output_data[\"prediction\"] = prediction[0]\n",
    "    output_data[\"status code\"] = 400\n",
    "    return output_data"
   ]
  },
  {
   "cell_type": "code",
   "execution_count": 23,
   "metadata": {},
   "outputs": [
    {
     "data": {
      "text/plain": [
       "{'prediction': 323575.0, 'status code': 400}"
      ]
     },
     "execution_count": 23,
     "metadata": {},
     "output_type": "execute_result"
    }
   ],
   "source": [
    "prediction = predict(df_input_values)\n",
    "\n",
    "prediction"
   ]
  }
 ],
 "metadata": {
  "kernelspec": {
   "display_name": "Python 3.10.7 ('immo_eliza')",
   "language": "python",
   "name": "python3"
  },
  "language_info": {
   "codemirror_mode": {
    "name": "ipython",
    "version": 3
   },
   "file_extension": ".py",
   "mimetype": "text/x-python",
   "name": "python",
   "nbconvert_exporter": "python",
   "pygments_lexer": "ipython3",
   "version": "3.10.7"
  },
  "orig_nbformat": 4,
  "vscode": {
   "interpreter": {
    "hash": "a33f1ef1e9ec6c31820fe781c5813ed8dc5071af9cb6488d9d33ac3262f9cb66"
   }
  }
 },
 "nbformat": 4,
 "nbformat_minor": 2
}
