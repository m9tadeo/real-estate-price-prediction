{
 "cells": [
  {
   "cell_type": "code",
   "execution_count": 62,
   "metadata": {},
   "outputs": [],
   "source": [
    "\"\"\"Import libraries\"\"\"\n",
    "\n",
    "import pandas as pd\n",
    "import numpy as np\n",
    "from pandas.api.types import is_string_dtype\n",
    "import joblib\n",
    "from sklearn.preprocessing import OneHotEncoder\n",
    "from sklearn.model_selection import train_test_split\n",
    "from sklearn.preprocessing import MinMaxScaler\n",
    "from sklearn.ensemble import RandomForestRegressor"
   ]
  },
  {
   "cell_type": "code",
   "execution_count": 72,
   "metadata": {},
   "outputs": [],
   "source": [
    "\"\"\"Initialize data\"\"\"\n",
    "\n",
    "input_data = {\n",
    "    \"area\": \"100\",\n",
    "    \"building-state\": \"JUST RENOVATED\",\n",
    "    \"equipped-kitchen\": \"True\",\n",
    "    \"facades-number\": \"2\",\n",
    "    \"full-address\": \"Sportstraat 166 9000 Ghent\",\n",
    "    \"furnished\": \"False\",\n",
    "    \"garden\": \"False\",\n",
    "    \"garden-area\": \"None\",\n",
    "    \"land-area\": \"None\",\n",
    "    \"open-fire\": \"False\",\n",
    "    \"property-type\": \"APARTMENT\",\n",
    "    \"rooms-number\": \"\",\n",
    "    \"swimming-pool\": \"False\",\n",
    "    \"terrace\": \"True\",\n",
    "    \"terrace-area\": \"2\",\n",
    "    \"zip-code\": \"9000\"\n",
    "}\n",
    "\n",
    "output_data = {}"
   ]
  },
  {
   "cell_type": "code",
   "execution_count": 73,
   "metadata": {},
   "outputs": [],
   "source": [
    "\"\"\"Function to load input dictionary into a dataframe\"\"\"\n",
    "\n",
    "def load_input(input_data):\n",
    "    df_input = pd.DataFrame(input_data, index=[0])\n",
    "    df_input = df_input.reindex(sorted(df_input.columns), axis=1)\n",
    "    return df_input"
   ]
  },
  {
   "cell_type": "code",
   "execution_count": 79,
   "metadata": {},
   "outputs": [],
   "source": [
    "\"\"\"Function to check if required information is not empty\"\"\"\n",
    "\n",
    "def check_required_missing(df_input):\n",
    "    switch = 0\n",
    "    while switch == 0:\n",
    "        if df_input.loc[0, \"area\"] == \"\":\n",
    "            output_data[\"error\"] = \"missing required information for 'area'\"\n",
    "            output_data[\"status code\"] = 400\n",
    "            return output_data\n",
    "        if df_input.loc[0, \"property-type\"] == \"\":\n",
    "            output_data[\"error\"] = \"missing required information for 'property-type'\"\n",
    "            output_data[\"status code\"] = 400\n",
    "            return output_data\n",
    "        if df_input.loc[0, \"rooms-number\"] == \"\":\n",
    "            output_data[\"error\"] = \"missing required information for 'rooms-number'\"\n",
    "            output_data[\"status code\"] = 400\n",
    "            return output_data\n",
    "        if df_input.loc[0, \"zip-code\"] == \"\":\n",
    "            output_data[\"error\"] = \"missing required information for 'zip-code'\"\n",
    "            output_data[\"status code\"] = 400\n",
    "            return output_data\n",
    "        switch =+ 1\n",
    "    return output_data"
   ]
  },
  {
   "cell_type": "code",
   "execution_count": 80,
   "metadata": {},
   "outputs": [
    {
     "data": {
      "text/plain": [
       "{'error': \"missing required information for 'rooms-number'\",\n",
       " 'status code': 400}"
      ]
     },
     "execution_count": 80,
     "metadata": {},
     "output_type": "execute_result"
    }
   ],
   "source": [
    "test = load_input(input_data)\n",
    "a = check_required_missing(test)\n",
    "\n",
    "a"
   ]
  },
  {
   "cell_type": "code",
   "execution_count": 66,
   "metadata": {},
   "outputs": [],
   "source": [
    "\"\"\"Function to check if required information is in correct format\"\"\"\n",
    "\n",
    "def check_required_string(df_input):\n",
    "    switch = 0\n",
    "    while switch == 0:\n",
    "        if is_string_dtype(df_input.loc[0, \"area\"]): \n",
    "            output_data[\"error\"] = \"'area' information must be an integer\"\n",
    "            output_data[\"status code\"] = 400\n",
    "            return output_data\n",
    "        if is_string_dtype(df_input.loc[0, \"rooms-number\"]):\n",
    "            output_data[\"error\"] = \"'rooms-number' information must be an integer\"\n",
    "            output_data[\"status code\"] = 400\n",
    "            return output_data\n",
    "        if is_string_dtype(df_input.loc[0, \"zip-code\"]):\n",
    "            output_data[\"error\"] = \"'zip-code' information must be an integer\"\n",
    "            output_data[\"status code\"] = 400\n",
    "            return output_data\n",
    "        switch =+ 1\n",
    "    return output_data"
   ]
  },
  {
   "cell_type": "code",
   "execution_count": 67,
   "metadata": {},
   "outputs": [],
   "source": [
    "\"\"\"Function to check if 'property-type' is in correct format\"\"\"\n",
    "\n",
    "def check_property_type(df_input):\n",
    "    if df_input.loc[0, \"property-type\"] == \"APARTMENT\" or df_input.loc[0, \"property-type\"] == \"HOUSE\":\n",
    "        return output_data\n",
    "    else:\n",
    "        output_data[\"error\"] = \"'property-type' information can only be 'APARTMENT' or 'HOUSE'\"\n",
    "        output_data[\"status code\"] = 400\n",
    "        return output_data"
   ]
  },
  {
   "cell_type": "code",
   "execution_count": 68,
   "metadata": {},
   "outputs": [],
   "source": [
    "\"\"\"Function to rename input features to match model training features and drop features that won't be used for modeling if all required information are available and in \n",
    "correct format\"\"\"\n",
    "\n",
    "def input_features(df_input):\n",
    "    df_input.rename(columns = {\"area\":\"livingArea\", \"property-type\":\"type\", \"rooms-number\":\"bedrooms\", \"zip-code\":\"postalCode\", \"equipped-kitchen\":\"kitchenType\", \n",
    "    \"facades-number\":\"numberOfFrontages\", \"building-state\":\"buildingCondition\"}, inplace=True)\n",
    "    df_input.drop(df_input.columns[12:15], inplace=True, axis=1)\n",
    "    df_input.drop(df_input.columns[4:10], inplace=True, axis=1)\n",
    "    df_input = df_input.reindex(sorted(df_input.columns), axis=1)\n",
    "    return df_input"
   ]
  },
  {
   "cell_type": "code",
   "execution_count": 69,
   "metadata": {},
   "outputs": [],
   "source": [
    "\"\"\"Function to transform input values\"\"\"\n",
    "\n",
    "def input_values(df_input_features):\n",
    "    if df_input_features.loc[0, \"type\"] == \"APARTMENT\":\n",
    "        df_input_features.loc[0, \"type\"] = 0\n",
    "    elif df_input_features.loc[0, \"type\"] == \"HOUSE\":\n",
    "        df_input_features.loc[0, \"type\"] = 1\n",
    "    df_input_features[\"type\"] = df_input_features[\"type\"].astype(int)\n",
    "\n",
    "    df_input_features[\"bedrooms\"] = df_input_features[\"bedrooms\"].astype(int)\n",
    "\n",
    "    df_input_features[\"livingArea\"] = df_input_features[\"livingArea\"].astype(int)\n",
    "\n",
    "    df_input_features[\"postalCode\"] = df_input_features[\"postalCode\"].astype(str)\n",
    "\n",
    "    if df_input_features.loc[0, \"kitchenType\"] == False:\n",
    "        df_input_features.loc[0, \"kitchenType\"] = 0\n",
    "    elif df_input_features.loc[0, \"kitchenType\"] == True:\n",
    "        df_input_features.loc[0, \"kitchenType\"] = 1\n",
    "    else:\n",
    "        df_input_features.loc[0, \"kitchenType\"] = 0\n",
    "    df_input_features[\"kitchenType\"] = df_input_features[\"kitchenType\"].astype(int)\n",
    "\n",
    "    if df_input_features.loc[0, \"buildingCondition\"] == \"NEW\":\n",
    "        df_input_features.loc[0, \"buildingCondition\"] = 1\n",
    "    elif df_input_features.loc[0, \"buildingCondition\"] == \"JUST RENOVATED\":\n",
    "        df_input_features.loc[0, \"buildingCondition\"] = 2\n",
    "    elif df_input_features.loc[0, \"buildingCondition\"] == \"GOOD\":\n",
    "        df_input_features.loc[0, \"buildingCondition\"] = 3\n",
    "    elif df_input_features.loc[0, \"buildingCondition\"] ==  \"TO RENOVATE\":\n",
    "        df_input_features.loc[0, \"buildingCondition\"] = 5\n",
    "    elif df_input_features.loc[0, \"buildingCondition\"] ==  \"TO REBUILD\":\n",
    "        df_input_features.loc[0, \"buildingCondition\"] = 6\n",
    "    else:\n",
    "        df_input_features.loc[0, \"buildingCondition\"] = 0\n",
    "    df_input_features[\"buildingCondition\"] = df_input_features[\"buildingCondition\"].astype(int)\n",
    "\n",
    "    if df_input_features[\"numberOfFrontages\"].isnull().values.any():\n",
    "        df_input_features.loc[0, \"numberOfFrontages\"] = 1\n",
    "    if is_string_dtype(df_input_features.loc[0, \"numberOfFrontages\"]):\n",
    "        df_input_features.loc[0, \"numberOfFrontages\"] = 1\n",
    "    df_input_features[\"numberOfFrontages\"] = df_input_features[\"numberOfFrontages\"].astype(int)\n",
    "\n",
    "    return df_input_features"
   ]
  },
  {
   "cell_type": "code",
   "execution_count": 70,
   "metadata": {},
   "outputs": [],
   "source": [
    "\"\"\"This is the preprocessing function\"\"\"\n",
    "\n",
    "def preprocess(input_data):\n",
    "    df_input = load_input(input_data)\n",
    "    output_missing = check_required_missing(df_input)\n",
    "    if len(output_missing) != 0:\n",
    "        return output_missing\n",
    "    output_string = check_required_string(df_input)\n",
    "    if len(output_string) != 0:\n",
    "        return output_string\n",
    "    output_type = check_property_type(df_input)\n",
    "    if len(output_type) != 0:\n",
    "        return output_type\n",
    "    df_input_features = input_features(df_input)\n",
    "    df_input_values = input_values(df_input_features)\n",
    "    return df_input_values"
   ]
  },
  {
   "cell_type": "code",
   "execution_count": 71,
   "metadata": {},
   "outputs": [],
   "source": [
    "for_prediction = preprocess(input_data)\n",
    "\n",
    "sample_input = '../../../data/sample_input.csv'\n",
    "\n",
    "for_prediction.to_csv(sample_input, index=False, header=True)"
   ]
  }
 ],
 "metadata": {
  "kernelspec": {
   "display_name": "Python 3.10.7 ('immo_eliza')",
   "language": "python",
   "name": "python3"
  },
  "language_info": {
   "codemirror_mode": {
    "name": "ipython",
    "version": 3
   },
   "file_extension": ".py",
   "mimetype": "text/x-python",
   "name": "python",
   "nbconvert_exporter": "python",
   "pygments_lexer": "ipython3",
   "version": "3.10.7"
  },
  "orig_nbformat": 4,
  "vscode": {
   "interpreter": {
    "hash": "a33f1ef1e9ec6c31820fe781c5813ed8dc5071af9cb6488d9d33ac3262f9cb66"
   }
  }
 },
 "nbformat": 4,
 "nbformat_minor": 2
}
