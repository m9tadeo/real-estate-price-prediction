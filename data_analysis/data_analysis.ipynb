{
 "cells": [
  {
   "cell_type": "code",
   "execution_count": 59,
   "metadata": {},
   "outputs": [
    {
     "data": {
      "text/plain": [
       "'This is my data analysis notebook'"
      ]
     },
     "execution_count": 59,
     "metadata": {},
     "output_type": "execute_result"
    }
   ],
   "source": [
    "\"\"\"This is my data analysis notebook\"\"\""
   ]
  },
  {
   "cell_type": "code",
   "execution_count": 60,
   "metadata": {},
   "outputs": [],
   "source": [
    "\"\"\"Imports\"\"\"\n",
    "import pandas as pd\n",
    "import numpy as np"
   ]
  },
  {
   "cell_type": "code",
   "execution_count": 100,
   "metadata": {},
   "outputs": [
    {
     "name": "stderr",
     "output_type": "stream",
     "text": [
      "C:\\Users\\ARCH GLOBAL\\AppData\\Local\\Temp\\ipykernel_15416\\1113565266.py:1: DtypeWarning: Columns (21,116,123,124,125,133,134,135,137,138,139,140,141,144,145,146,149,150,151,152,153,154,155,156,157,162,164,168,169,170,174,175,176,177,179,184,185,186,187,188,189,192,193,204,205,207,217,218,219,227,230,240,241,242,243,244,245,247,248,249,250) have mixed types. Specify dtype option on import or set low_memory=False.\n",
      "  df = pd.read_csv('properties.csv')\n"
     ]
    }
   ],
   "source": [
    "df = pd.read_csv('properties.csv')"
   ]
  },
  {
   "cell_type": "code",
   "execution_count": 101,
   "metadata": {},
   "outputs": [],
   "source": [
    "\"\"\"This is a section to add 'type' column to dataFrame\"\"\"\n",
    "df[\"type\"] = \"Apartment\"   ##add column 'Type' and assign value 'Apartment'\n",
    "df.loc[df.index[2280:4560], \"type\"] = \"House\"   ##assign value 'House' on 2nd half of data to column 'Type'\n",
    "move = df.pop(\"type\")\n",
    "df.insert(1, \"type\", move)   ##move 'type' column"
   ]
  },
  {
   "cell_type": "code",
   "execution_count": 102,
   "metadata": {},
   "outputs": [],
   "source": [
    "\"\"\"This is a section to remove duplicate rows and extraneous columns\"\"\"\n",
    "df.drop_duplicates('Immoweb code', inplace = True)\n",
    "df.drop(df.columns[217:252], inplace=True, axis=1)\n",
    "df.drop(df.columns[145:213], inplace=True, axis=1)\n",
    "df.drop(df.columns[121:143], inplace=True, axis=1)\n",
    "df.drop(df.columns[115:119], inplace=True, axis=1)\n",
    "df.drop(df.columns[110:113], inplace=True, axis=1)\n",
    "df.drop(df.columns[101], inplace=True, axis=1)\n",
    "df.drop(df.columns[86], inplace=True, axis=1)\n",
    "df.drop(df.columns[77], inplace=True, axis=1)\n",
    "df.drop(df.columns[69:74], inplace=True, axis=1)\n",
    "df.drop(df.columns[62:65], inplace=True, axis=1)\n",
    "df.drop(df.columns[59], inplace=True, axis=1)\n",
    "df.drop(df.columns[55:57], inplace=True, axis=1)\n",
    "df.drop(df.columns[49], inplace=True, axis=1)\n",
    "df.drop(df.columns[17], inplace=True, axis=1)\n",
    "df.drop(df.columns[11:15], inplace=True, axis=1)\n",
    "df.drop(df.columns[5], inplace=True, axis=1)"
   ]
  },
  {
   "cell_type": "code",
   "execution_count": 119,
   "metadata": {},
   "outputs": [
    {
     "ename": "KeyError",
     "evalue": "'Price_2'",
     "output_type": "error",
     "traceback": [
      "\u001b[1;31m---------------------------------------------------------------------------\u001b[0m",
      "\u001b[1;31mKeyError\u001b[0m                                  Traceback (most recent call last)",
      "File \u001b[1;32mc:\\Users\\ARCH GLOBAL\\Desktop\\becode_projects\\immo_eliza\\immo_eliza\\lib\\site-packages\\pandas\\core\\indexes\\base.py:3800\u001b[0m, in \u001b[0;36mIndex.get_loc\u001b[1;34m(self, key, method, tolerance)\u001b[0m\n\u001b[0;32m   3799\u001b[0m \u001b[39mtry\u001b[39;00m:\n\u001b[1;32m-> 3800\u001b[0m     \u001b[39mreturn\u001b[39;00m \u001b[39mself\u001b[39;49m\u001b[39m.\u001b[39;49m_engine\u001b[39m.\u001b[39;49mget_loc(casted_key)\n\u001b[0;32m   3801\u001b[0m \u001b[39mexcept\u001b[39;00m \u001b[39mKeyError\u001b[39;00m \u001b[39mas\u001b[39;00m err:\n",
      "File \u001b[1;32mc:\\Users\\ARCH GLOBAL\\Desktop\\becode_projects\\immo_eliza\\immo_eliza\\lib\\site-packages\\pandas\\_libs\\index.pyx:138\u001b[0m, in \u001b[0;36mpandas._libs.index.IndexEngine.get_loc\u001b[1;34m()\u001b[0m\n",
      "File \u001b[1;32mc:\\Users\\ARCH GLOBAL\\Desktop\\becode_projects\\immo_eliza\\immo_eliza\\lib\\site-packages\\pandas\\_libs\\index.pyx:165\u001b[0m, in \u001b[0;36mpandas._libs.index.IndexEngine.get_loc\u001b[1;34m()\u001b[0m\n",
      "File \u001b[1;32mpandas\\_libs\\hashtable_class_helper.pxi:5745\u001b[0m, in \u001b[0;36mpandas._libs.hashtable.PyObjectHashTable.get_item\u001b[1;34m()\u001b[0m\n",
      "File \u001b[1;32mpandas\\_libs\\hashtable_class_helper.pxi:5753\u001b[0m, in \u001b[0;36mpandas._libs.hashtable.PyObjectHashTable.get_item\u001b[1;34m()\u001b[0m\n",
      "\u001b[1;31mKeyError\u001b[0m: 'Price_2'",
      "\nThe above exception was the direct cause of the following exception:\n",
      "\u001b[1;31mKeyError\u001b[0m                                  Traceback (most recent call last)",
      "Cell \u001b[1;32mIn [119], line 16\u001b[0m\n\u001b[0;32m     14\u001b[0m df \u001b[39m=\u001b[39m df\u001b[39m.\u001b[39mreplace(\u001b[39mr\u001b[39m\u001b[39m\"\u001b[39m\u001b[39m\\\\\u001b[39;00m\u001b[39m\\\\\u001b[39;00m\u001b[39mu00b0\u001b[39m\u001b[39m\"\u001b[39m, \u001b[39mr\u001b[39m\u001b[39m\"\u001b[39m\u001b[39mo\u001b[39m\u001b[39m\"\u001b[39m, regex\u001b[39m=\u001b[39m\u001b[39mTrue\u001b[39;00m)   \u001b[39m##remove special characters\u001b[39;00m\n\u001b[0;32m     15\u001b[0m df \u001b[39m=\u001b[39m df\u001b[39m.\u001b[39mreplace(\u001b[39mr\u001b[39m\u001b[39m\"\u001b[39m\u001b[39m\\\\\u001b[39;00m\u001b[39m\\\\\u001b[39;00m\u001b[39m\"\u001b[39m, \u001b[39mr\u001b[39m\u001b[39m\"\u001b[39m\u001b[39m\"\u001b[39m, regex\u001b[39m=\u001b[39m\u001b[39mTrue\u001b[39;00m)   \u001b[39m##remove special characters\u001b[39;00m\n\u001b[1;32m---> 16\u001b[0m df[\u001b[39m\"\u001b[39m\u001b[39mPrice_2\u001b[39m\u001b[39m\"\u001b[39m] \u001b[39m=\u001b[39m df\u001b[39m.\u001b[39mapply(\u001b[39mlambda\u001b[39;00m c: c[\u001b[39m\"\u001b[39m\u001b[39mPrice_1\u001b[39m\u001b[39m\"\u001b[39m]   \u001b[39m##copy Price 1 value to Price 2 where Price 2 is equivalent to 'month'\u001b[39;00m\n\u001b[0;32m     17\u001b[0m    \u001b[39mif\u001b[39;00m c[\u001b[39m\"\u001b[39m\u001b[39mPrice_2\u001b[39m\u001b[39m\"\u001b[39m] \u001b[39m==\u001b[39m \u001b[39m\"\u001b[39m\u001b[39mmonth\u001b[39m\u001b[39m\"\u001b[39m\n\u001b[0;32m     18\u001b[0m    \u001b[39melse\u001b[39;00m c[\u001b[39m\"\u001b[39m\u001b[39mPrice_2\u001b[39m\u001b[39m\"\u001b[39m], axis \u001b[39m=\u001b[39m \u001b[39m1\u001b[39m)\n\u001b[0;32m     19\u001b[0m df[\u001b[39m\"\u001b[39m\u001b[39mPrice_2\u001b[39m\u001b[39m\"\u001b[39m] \u001b[39m=\u001b[39m df[\u001b[39m\"\u001b[39m\u001b[39mPrice_2\u001b[39m\u001b[39m\"\u001b[39m]\u001b[39m.\u001b[39mstr\u001b[39m.\u001b[39mreplace(\u001b[39mr\u001b[39m\u001b[39m\"\u001b[39m\u001b[39m€\u001b[39m\u001b[39m\"\u001b[39m, \u001b[39m\"\u001b[39m\u001b[39m\"\u001b[39m)   \u001b[39m###remove Euro symbol from 'Price_2' values\u001b[39;00m\n\u001b[0;32m     20\u001b[0m df[\u001b[39m\"\u001b[39m\u001b[39mPrice_2\u001b[39m\u001b[39m\"\u001b[39m] \u001b[39m=\u001b[39m df[\u001b[39m\"\u001b[39m\u001b[39mPrice_2\u001b[39m\u001b[39m\"\u001b[39m]\u001b[39m.\u001b[39mstr\u001b[39m.\u001b[39mreplace(\u001b[39mr\u001b[39m\u001b[39m\"\u001b[39m\u001b[39m,\u001b[39m\u001b[39m\"\u001b[39m, \u001b[39m\"\u001b[39m\u001b[39m\"\u001b[39m)   \u001b[39m###remove commas from 'Price_2' values\u001b[39;00m\n",
      "File \u001b[1;32mc:\\Users\\ARCH GLOBAL\\Desktop\\becode_projects\\immo_eliza\\immo_eliza\\lib\\site-packages\\pandas\\core\\frame.py:9558\u001b[0m, in \u001b[0;36mDataFrame.apply\u001b[1;34m(self, func, axis, raw, result_type, args, **kwargs)\u001b[0m\n\u001b[0;32m   9547\u001b[0m \u001b[39mfrom\u001b[39;00m \u001b[39mpandas\u001b[39;00m\u001b[39m.\u001b[39;00m\u001b[39mcore\u001b[39;00m\u001b[39m.\u001b[39;00m\u001b[39mapply\u001b[39;00m \u001b[39mimport\u001b[39;00m frame_apply\n\u001b[0;32m   9549\u001b[0m op \u001b[39m=\u001b[39m frame_apply(\n\u001b[0;32m   9550\u001b[0m     \u001b[39mself\u001b[39m,\n\u001b[0;32m   9551\u001b[0m     func\u001b[39m=\u001b[39mfunc,\n\u001b[1;32m   (...)\u001b[0m\n\u001b[0;32m   9556\u001b[0m     kwargs\u001b[39m=\u001b[39mkwargs,\n\u001b[0;32m   9557\u001b[0m )\n\u001b[1;32m-> 9558\u001b[0m \u001b[39mreturn\u001b[39;00m op\u001b[39m.\u001b[39;49mapply()\u001b[39m.\u001b[39m__finalize__(\u001b[39mself\u001b[39m, method\u001b[39m=\u001b[39m\u001b[39m\"\u001b[39m\u001b[39mapply\u001b[39m\u001b[39m\"\u001b[39m)\n",
      "File \u001b[1;32mc:\\Users\\ARCH GLOBAL\\Desktop\\becode_projects\\immo_eliza\\immo_eliza\\lib\\site-packages\\pandas\\core\\apply.py:741\u001b[0m, in \u001b[0;36mFrameApply.apply\u001b[1;34m(self)\u001b[0m\n\u001b[0;32m    738\u001b[0m \u001b[39melif\u001b[39;00m \u001b[39mself\u001b[39m\u001b[39m.\u001b[39mraw:\n\u001b[0;32m    739\u001b[0m     \u001b[39mreturn\u001b[39;00m \u001b[39mself\u001b[39m\u001b[39m.\u001b[39mapply_raw()\n\u001b[1;32m--> 741\u001b[0m \u001b[39mreturn\u001b[39;00m \u001b[39mself\u001b[39;49m\u001b[39m.\u001b[39;49mapply_standard()\n",
      "File \u001b[1;32mc:\\Users\\ARCH GLOBAL\\Desktop\\becode_projects\\immo_eliza\\immo_eliza\\lib\\site-packages\\pandas\\core\\apply.py:868\u001b[0m, in \u001b[0;36mFrameApply.apply_standard\u001b[1;34m(self)\u001b[0m\n\u001b[0;32m    867\u001b[0m \u001b[39mdef\u001b[39;00m \u001b[39mapply_standard\u001b[39m(\u001b[39mself\u001b[39m):\n\u001b[1;32m--> 868\u001b[0m     results, res_index \u001b[39m=\u001b[39m \u001b[39mself\u001b[39;49m\u001b[39m.\u001b[39;49mapply_series_generator()\n\u001b[0;32m    870\u001b[0m     \u001b[39m# wrap results\u001b[39;00m\n\u001b[0;32m    871\u001b[0m     \u001b[39mreturn\u001b[39;00m \u001b[39mself\u001b[39m\u001b[39m.\u001b[39mwrap_results(results, res_index)\n",
      "File \u001b[1;32mc:\\Users\\ARCH GLOBAL\\Desktop\\becode_projects\\immo_eliza\\immo_eliza\\lib\\site-packages\\pandas\\core\\apply.py:884\u001b[0m, in \u001b[0;36mFrameApply.apply_series_generator\u001b[1;34m(self)\u001b[0m\n\u001b[0;32m    881\u001b[0m \u001b[39mwith\u001b[39;00m option_context(\u001b[39m\"\u001b[39m\u001b[39mmode.chained_assignment\u001b[39m\u001b[39m\"\u001b[39m, \u001b[39mNone\u001b[39;00m):\n\u001b[0;32m    882\u001b[0m     \u001b[39mfor\u001b[39;00m i, v \u001b[39min\u001b[39;00m \u001b[39menumerate\u001b[39m(series_gen):\n\u001b[0;32m    883\u001b[0m         \u001b[39m# ignore SettingWithCopy here in case the user mutates\u001b[39;00m\n\u001b[1;32m--> 884\u001b[0m         results[i] \u001b[39m=\u001b[39m \u001b[39mself\u001b[39;49m\u001b[39m.\u001b[39;49mf(v)\n\u001b[0;32m    885\u001b[0m         \u001b[39mif\u001b[39;00m \u001b[39misinstance\u001b[39m(results[i], ABCSeries):\n\u001b[0;32m    886\u001b[0m             \u001b[39m# If we have a view on v, we need to make a copy because\u001b[39;00m\n\u001b[0;32m    887\u001b[0m             \u001b[39m#  series_generator will swap out the underlying data\u001b[39;00m\n\u001b[0;32m    888\u001b[0m             results[i] \u001b[39m=\u001b[39m results[i]\u001b[39m.\u001b[39mcopy(deep\u001b[39m=\u001b[39m\u001b[39mFalse\u001b[39;00m)\n",
      "Cell \u001b[1;32mIn [119], line 17\u001b[0m, in \u001b[0;36m<lambda>\u001b[1;34m(c)\u001b[0m\n\u001b[0;32m     14\u001b[0m df \u001b[39m=\u001b[39m df\u001b[39m.\u001b[39mreplace(\u001b[39mr\u001b[39m\u001b[39m\"\u001b[39m\u001b[39m\\\\\u001b[39;00m\u001b[39m\\\\\u001b[39;00m\u001b[39mu00b0\u001b[39m\u001b[39m\"\u001b[39m, \u001b[39mr\u001b[39m\u001b[39m\"\u001b[39m\u001b[39mo\u001b[39m\u001b[39m\"\u001b[39m, regex\u001b[39m=\u001b[39m\u001b[39mTrue\u001b[39;00m)   \u001b[39m##remove special characters\u001b[39;00m\n\u001b[0;32m     15\u001b[0m df \u001b[39m=\u001b[39m df\u001b[39m.\u001b[39mreplace(\u001b[39mr\u001b[39m\u001b[39m\"\u001b[39m\u001b[39m\\\\\u001b[39;00m\u001b[39m\\\\\u001b[39;00m\u001b[39m\"\u001b[39m, \u001b[39mr\u001b[39m\u001b[39m\"\u001b[39m\u001b[39m\"\u001b[39m, regex\u001b[39m=\u001b[39m\u001b[39mTrue\u001b[39;00m)   \u001b[39m##remove special characters\u001b[39;00m\n\u001b[0;32m     16\u001b[0m df[\u001b[39m\"\u001b[39m\u001b[39mPrice_2\u001b[39m\u001b[39m\"\u001b[39m] \u001b[39m=\u001b[39m df\u001b[39m.\u001b[39mapply(\u001b[39mlambda\u001b[39;00m c: c[\u001b[39m\"\u001b[39m\u001b[39mPrice_1\u001b[39m\u001b[39m\"\u001b[39m]   \u001b[39m##copy Price 1 value to Price 2 where Price 2 is equivalent to 'month'\u001b[39;00m\n\u001b[1;32m---> 17\u001b[0m    \u001b[39mif\u001b[39;00m c[\u001b[39m\"\u001b[39;49m\u001b[39mPrice_2\u001b[39;49m\u001b[39m\"\u001b[39;49m] \u001b[39m==\u001b[39m \u001b[39m\"\u001b[39m\u001b[39mmonth\u001b[39m\u001b[39m\"\u001b[39m\n\u001b[0;32m     18\u001b[0m    \u001b[39melse\u001b[39;00m c[\u001b[39m\"\u001b[39m\u001b[39mPrice_2\u001b[39m\u001b[39m\"\u001b[39m], axis \u001b[39m=\u001b[39m \u001b[39m1\u001b[39m)\n\u001b[0;32m     19\u001b[0m df[\u001b[39m\"\u001b[39m\u001b[39mPrice_2\u001b[39m\u001b[39m\"\u001b[39m] \u001b[39m=\u001b[39m df[\u001b[39m\"\u001b[39m\u001b[39mPrice_2\u001b[39m\u001b[39m\"\u001b[39m]\u001b[39m.\u001b[39mstr\u001b[39m.\u001b[39mreplace(\u001b[39mr\u001b[39m\u001b[39m\"\u001b[39m\u001b[39m€\u001b[39m\u001b[39m\"\u001b[39m, \u001b[39m\"\u001b[39m\u001b[39m\"\u001b[39m)   \u001b[39m###remove Euro symbol from 'Price_2' values\u001b[39;00m\n\u001b[0;32m     20\u001b[0m df[\u001b[39m\"\u001b[39m\u001b[39mPrice_2\u001b[39m\u001b[39m\"\u001b[39m] \u001b[39m=\u001b[39m df[\u001b[39m\"\u001b[39m\u001b[39mPrice_2\u001b[39m\u001b[39m\"\u001b[39m]\u001b[39m.\u001b[39mstr\u001b[39m.\u001b[39mreplace(\u001b[39mr\u001b[39m\u001b[39m\"\u001b[39m\u001b[39m,\u001b[39m\u001b[39m\"\u001b[39m, \u001b[39m\"\u001b[39m\u001b[39m\"\u001b[39m)   \u001b[39m###remove commas from 'Price_2' values\u001b[39;00m\n",
      "File \u001b[1;32mc:\\Users\\ARCH GLOBAL\\Desktop\\becode_projects\\immo_eliza\\immo_eliza\\lib\\site-packages\\pandas\\core\\series.py:982\u001b[0m, in \u001b[0;36mSeries.__getitem__\u001b[1;34m(self, key)\u001b[0m\n\u001b[0;32m    979\u001b[0m     \u001b[39mreturn\u001b[39;00m \u001b[39mself\u001b[39m\u001b[39m.\u001b[39m_values[key]\n\u001b[0;32m    981\u001b[0m \u001b[39melif\u001b[39;00m key_is_scalar:\n\u001b[1;32m--> 982\u001b[0m     \u001b[39mreturn\u001b[39;00m \u001b[39mself\u001b[39;49m\u001b[39m.\u001b[39;49m_get_value(key)\n\u001b[0;32m    984\u001b[0m \u001b[39mif\u001b[39;00m is_hashable(key):\n\u001b[0;32m    985\u001b[0m     \u001b[39m# Otherwise index.get_value will raise InvalidIndexError\u001b[39;00m\n\u001b[0;32m    986\u001b[0m     \u001b[39mtry\u001b[39;00m:\n\u001b[0;32m    987\u001b[0m         \u001b[39m# For labels that don't resolve as scalars like tuples and frozensets\u001b[39;00m\n",
      "File \u001b[1;32mc:\\Users\\ARCH GLOBAL\\Desktop\\becode_projects\\immo_eliza\\immo_eliza\\lib\\site-packages\\pandas\\core\\series.py:1092\u001b[0m, in \u001b[0;36mSeries._get_value\u001b[1;34m(self, label, takeable)\u001b[0m\n\u001b[0;32m   1089\u001b[0m     \u001b[39mreturn\u001b[39;00m \u001b[39mself\u001b[39m\u001b[39m.\u001b[39m_values[label]\n\u001b[0;32m   1091\u001b[0m \u001b[39m# Similar to Index.get_value, but we do not fall back to positional\u001b[39;00m\n\u001b[1;32m-> 1092\u001b[0m loc \u001b[39m=\u001b[39m \u001b[39mself\u001b[39;49m\u001b[39m.\u001b[39;49mindex\u001b[39m.\u001b[39;49mget_loc(label)\n\u001b[0;32m   1093\u001b[0m \u001b[39mreturn\u001b[39;00m \u001b[39mself\u001b[39m\u001b[39m.\u001b[39mindex\u001b[39m.\u001b[39m_get_values_for_loc(\u001b[39mself\u001b[39m, loc, label)\n",
      "File \u001b[1;32mc:\\Users\\ARCH GLOBAL\\Desktop\\becode_projects\\immo_eliza\\immo_eliza\\lib\\site-packages\\pandas\\core\\indexes\\base.py:3802\u001b[0m, in \u001b[0;36mIndex.get_loc\u001b[1;34m(self, key, method, tolerance)\u001b[0m\n\u001b[0;32m   3800\u001b[0m     \u001b[39mreturn\u001b[39;00m \u001b[39mself\u001b[39m\u001b[39m.\u001b[39m_engine\u001b[39m.\u001b[39mget_loc(casted_key)\n\u001b[0;32m   3801\u001b[0m \u001b[39mexcept\u001b[39;00m \u001b[39mKeyError\u001b[39;00m \u001b[39mas\u001b[39;00m err:\n\u001b[1;32m-> 3802\u001b[0m     \u001b[39mraise\u001b[39;00m \u001b[39mKeyError\u001b[39;00m(key) \u001b[39mfrom\u001b[39;00m \u001b[39merr\u001b[39;00m\n\u001b[0;32m   3803\u001b[0m \u001b[39mexcept\u001b[39;00m \u001b[39mTypeError\u001b[39;00m:\n\u001b[0;32m   3804\u001b[0m     \u001b[39m# If we have a listlike key, _check_indexing_error will raise\u001b[39;00m\n\u001b[0;32m   3805\u001b[0m     \u001b[39m#  InvalidIndexError. Otherwise we fall through and re-raise\u001b[39;00m\n\u001b[0;32m   3806\u001b[0m     \u001b[39m#  the TypeError.\u001b[39;00m\n\u001b[0;32m   3807\u001b[0m     \u001b[39mself\u001b[39m\u001b[39m.\u001b[39m_check_indexing_error(key)\n",
      "\u001b[1;31mKeyError\u001b[0m: 'Price_2'"
     ]
    }
   ],
   "source": [
    "\"\"\"This is the data cleansing section\"\"\"\n",
    "df = df.replace(r\"^ +| +$\", r\"\", regex=True)   ##remove leading and trailing spaces\n",
    "df = df.replace(r\"\\\\\\\\u00e8\", r\"e\", regex=True)   ##remove special characters\n",
    "df = df.replace(r\"\\\\\\\\u00e2\", r\"a\", regex=True)   ##remove special characters\n",
    "df = df.replace(r\"\\\\\\\\u00e0\", r\"a\", regex=True)   ##remove special characters\n",
    "df = df.replace(r\"\\\\\\\\u00e9\", r\"e\", regex=True)   ##remove special characters\n",
    "df = df.replace(r\"\\\\\\\\u00fc\", r\"u\", regex=True)   ##remove special characters\n",
    "df = df.replace(r\"\\\\\\\\u2019\", r\"'\", regex=True)   ##remove special characters\n",
    "df = df.replace(r\"\\\\\\\\u00ee\", r\"i\", regex=True)   ##remove special characters\n",
    "df = df.replace(r\"\\\\\\\\u00eb\", r\"e\", regex=True)   ##remove special characters\n",
    "df = df.replace(r\"\\\\\\\\u00ea\", r\"e\", regex=True)   ##remove special characters\n",
    "df = df.replace(r\"\\\\\\\\u00e7\", r\"c\", regex=True)   ##remove special characters\n",
    "df = df.replace(r\"\\\\\\\\u00df\", r\"ss\", regex=True)   ##remove special characters\n",
    "df = df.replace(r\"\\\\\\\\u00b0\", r\"o\", regex=True)   ##remove special characters\n",
    "df = df.replace(r\"\\\\\\\\\", r\"\", regex=True)   ##remove special characters\n",
    "df[\"Price_2\"] = df.apply(lambda c: c[\"Price_1\"]   ##copy Price 1 value to Price 2 where Price 2 is equivalent to 'month'\n",
    "   if c[\"Price_2\"] == \"month\"\n",
    "   else c[\"Price_2\"], axis = 1)\n",
    "df[\"Price_2\"] = df[\"Price_2\"].str.replace(r\"€\", \"\")   ###remove Euro symbol from 'Price_2' values\n",
    "df[\"Price_2\"] = df[\"Price_2\"].str.replace(r\",\", \"\")   ###remove commas from 'Price_2' values\n",
    "df[\"Price_2\"] = df[\"Price_2\"].astype(float)   ##convert Price_2 to float\n",
    "df.rename(columns = {\"Immoweb code\":\"immowebCode\", \"Price_1\":\"priceString\", \"Price_2\":\"price\"}, inplace = True)   ##rename some columns\n",
    "df.rename(columns = {\"Available date\":\"availableDate\", \"Neighbourhood or locality\":\"neighborhoodOrLocality\", \"Construction year\":\"constructionYear\"}, inplace = True)\n",
    "df.rename(columns = {\"Floor\":\"floor\", \"Number of floors\":\"numberOfFloors\", \"Building condition\":\"buildingCondition\", \"Number of frontages\":\"numberOfFrontages\"}, inplace = True)\n",
    "df.rename(columns = {\"Outdoor parking spaces\":\"outdoorParkingSpaces\", \"Surroundings type\":\"surroundingsType\", \"Living area\":\"livingArea\"}, inplace = True)\n",
    "df.rename(columns = {\"Living room surface\":\"livingRoomSurface\", \"Kitchen type\":\"kitchenType\", \"Kitchen surface\":\"kitchenSurface\", \"Bedrooms\":\"bedrooms\"}, inplace = True)\n",
    "df.rename(columns = {\"Bedroom 1 surface\":\"bedroom1Surface\", \"Bedroom 2 surface\":\"bedroom2Surface\", \"Bathrooms\":\"bathrooms\", \"Toilets\":\"toilets\"}, inplace = True)\n",
    "df.rename(columns = {\"Basement\":\"basement\", \"Furnished\":\"furnished\", \"Terrace surface\":\"terraceSurface\", \"Elevator\":\"elevator\"}, inplace = True)\n",
    "df.rename(columns = {\"Accessible for disabled people\":\"disabilityAccess\", \"TV cable\":\"tvCable\", \"Visio phone\":\"visioPhone\", \"Swimming pool\":\"swimmingPool\"}, inplace = True)\n",
    "df.rename(columns = {\"Primary energy consumption\":\"energyConsumption\", \"Energy class\":\"energyClass\", \"Reference number of the EPC report\":\"EPCReportReference\"}, inplace = True)\n",
    "df.rename(columns = {\"CO₂ emission\":\"CO2Emission\", \"Yearly theoretical total energy consumption\":\"yearlyEnergyConsumption\", \"Property name\":\"propertyName\"}, inplace = True)\n",
    "df.rename(columns = {\"Heating type\":\"heatingType\", \"Thermic solar panels\":\"thermicSolarPanels\", \"Double glazing\":\"doubleGlazing\"}, inplace = True)\n",
    "df.rename(columns = {\"Planning permission obtained\":\"planningPermission\", \"Subdivision permit\":\"subdivisionPermit\", \"Flood zone type\":\"floodZoneType\"}, inplace = True)\n",
    "df.rename(columns = {\"Latest land use designation\":\"landUseDesignation\", \"Cadastral income\":\"cadastralIncome\", \"Tenement building\":\"tenementBuilding\"}, inplace = True)\n",
    "df.rename(columns = {\"Street frontage width\":\"streetFrontageWidth\", \"Covered parking spaces\":\"coveredParkingSpaces\", \"Basement surface\":\"basementSurface\"}, inplace = True)\n",
    "df.rename(columns = {\"Monthly charges\":\"monthlyCharges\", \"Dining room\":\"diningRoom\", \"Shower rooms\":\"showerRooms\", \"Intercom\":\"intercom\"}, inplace = True)\n",
    "df.rename(columns = {\"Bedroom 3 surface\":\"bedroom3Surface\", \"Armored door\":\"armoredDoor\", \"Laundry room\":\"laundryRoom\", \"Terrace orientation\":\"terraceOrientation\"}, inplace = True)\n",
    "df.rename(columns = {\"Caretaker\":\"caretaker\", \"Common water heater\":\"commonWaterHeater\", \"Living room\":\"livingRoom\", \"Attic\":\"attic\"}, inplace = True)\n",
    "df.rename(columns = {\"Bedroom 4 surface\":\"bedroom4Surface\", \"Office\":\"office\", \"Office surface\":\"officeSurface\", \"Secure access / alarm\":\"alarm\"}, inplace = True)\n",
    "df.rename(columns = {\"E-level (overall energy performance)\":\"E-level\", \"Heat pump\":\"heatPump\", \"Photovoltaic solar panels\":\"PVSolarPanels\"}, inplace = True)\n",
    "df.rename(columns = {\"Width of the lot on the street\":\"lotWidth\", \"Garden orientation\":\"gardenOrientation\", \"Dressing room\":\"dressingRoom\"}, inplace = True)\n",
    "df.rename(columns = {\"Professional space\":\"professionalSpace\", \"Connection to sewer network\":\"sewerConnection\", \"Jacuzzi\":\"jacuzzi\", \"Sauna\":\"sauna\"}, inplace = True)\n",
    "df.rename(columns = {\"Surface of the plot\":\"plotSurface\", \"Type of building\":\"buildingType\", \"How many fireplaces?\":\"fireplaces\"}, inplace = True)\n",
    "df.rename(columns = {\"Air conditioning\":\"airConditioning\", \"Internet\":\"internet\", \"Professional space surface\":\"professionalSpaceSurface\"}, inplace = True)\n",
    "df.rename(columns = {\"Attic surface\":\"atticSurface\", \"Bedroom 5 surface\":\"bedroom5Surface\", \"Land is facing street\":\"streetFacing\", \"Wooded land\":\"woodedLand\"}, inplace = True)\n",
    "df.rename(columns = {\"Plot at rear\":\"rearPlot\", \"Flat land\":\"flatLand\", \"Garden surface\":\"gardenSurface\", \"Garden\":\"garden\", \"Terrace\":\"terrace\"}, inplace = True)\n",
    "df.rename(columns = {\"Gas, water & electricity\":\"gasWaterElectric\", \"Isolated\":\"isolated\"}, inplace = True)\n",
    "df.drop([235], axis=0, inplace=True)   ##remove Luxembourg property (1 row)\n",
    "df.dropna(subset = [\"country\"], inplace=True)   ##remove properties with null addresses (71 rows)\n",
    "df.loc[3620, \"country\"] = \"Belgium\"   ##change erroneous Luxembourg country value to Belgium\n",
    "df.loc[599, \"locality\"] = \"Auderghem\"   ##replace nan value in locality\n",
    "df[\"postalCode\"] = df[\"postalCode\"].astype(int)   ##convert postalCode to integer\n",
    "df[\"latitude\"] = df[\"latitude\"].fillna(99)   ##replace empty latitude values with 99\n",
    "df[\"longitude\"] = df[\"longitude\"].fillna(999)   ##replace empty longitude values with 999\n",
    "df.availableDate = df.availableDate.fillna(\"None\")\n",
    "df[\"availableDate\"] = df[\"availableDate\"].replace([\"Bruxelles Est\", \"1964\", \"1961\", \"1970\", \"Bruxelles (19 communes)\", \"Est de Bruxelles + VL\", \"1967\", \"2014\"], \"None\")\n",
    "df[\"availableDate\"] = df[\"availableDate\"].replace([\"Link to the virtual visit\", \"Bruxelles\", \"65kWh/m²kilowatt hour per square meters\"], \"None\")\n",
    "df[\"availableDate\"] = df[\"availableDate\"].replace([\"100kWh/m²kilowatt hour per square meters\", \"1960\", \"1963\", \"1958\", \"Les Woluwes\", \"27\", \"1965\", \"Brabant Wallon\"], \"None\")\n",
    "df[\"availableDate\"] = df[\"availableDate\"].replace([\"1959\", \"74kWh/m²kilowatt hour per square meters\", \"30kWh/m²kilowatt hour per square meters\", \"1900\"], \"None\")\n",
    "df[\"availableDate\"] = df[\"availableDate\"].replace([\"1957\", \"Est de Bruxelles\", \"1954\", \"Namurois\", \"1909\", \"1910\", \"1952\", \"1968\", \"1989\", \"1912\", \"Omgeving Kraainem\"], \"None\")\n",
    "df[\"availableDate\"] = df[\"availableDate\"].replace([\"Bruxelles Sud\", \"1975\", \"1974\", \"1920\", \"1899\", \"Kraainem\", \"1930\", \"1918\", \"1860\", \"Woluwe-Saint-Pierre\"], \"None\")\n",
    "df[\"availableDate\"] = df[\"availableDate\"].replace([\"1996\", \"2002\", \"Quartier Montgomery\", \"BEYNE HEUSAY/BELAIRE/QUEUE DU BOIS\", \"1932\", \"1914\", \"Brabant Flamand Est\"], \"None\")\n",
    "df[\"availableDate\"] = df[\"availableDate\"].replace([\"As new\", \"1\", \"4\", \"2\", \"Good\", \"2004\", \"1907\", \"1925\"], \"None\")\n",
    "df.neighborhoodOrLocality = df.neighborhoodOrLocality.fillna(\"None\")\n",
    "df[\"neighborhoodOrLocality\"] = df[\"neighborhoodOrLocality\"].replace([\"1968\", \"1992\", \"1978\", \"1990\", \"1956\", \"1964\", \"1980\", \"1959\", \"1936\", \"1975\", \"1920\", \"1983\"], \"None\")\n",
    "df[\"neighborhoodOrLocality\"] = df[\"neighborhoodOrLocality\"].replace([\"1965\", \"1937\", \"1958\", \"1939\", \"12\", \"1969\", \"37\", \"1\", \"1962\", \"1974\", \"1940\", \"1971\", \"1960\"], \"None\")\n",
    "df[\"neighborhoodOrLocality\"] = df[\"neighborhoodOrLocality\"].replace([\"2000\", \"1997\", \"1993\", \"1957\", \"2008\", \"2013\", \"1991\", \"1999\", \"1950\", \"1979\", \"1973\", \"1963\"], \"None\")\n",
    "df[\"neighborhoodOrLocality\"] = df[\"neighborhoodOrLocality\"].replace([\"1970\", \"22\", \"2001\", \"1930\", \"2019\", \"2022\", \"1982\", \"1967\", \"1910\", \"1977\", \"2010\", \"1984\"], \"None\")\n",
    "df[\"neighborhoodOrLocality\"] = df[\"neighborhoodOrLocality\"].replace([\"1961\", \"2002\", \"2003\", \"2004\", \"2018\", \"2011\", \"2006\", \"2021\", \"-\", \"1938\", \"1934\", \"2014\"], \"None\")\n",
    "df[\"neighborhoodOrLocality\"] = df[\"neighborhoodOrLocality\"].replace([\"1981\", \"2005\", \"1911\", \"1994\", \"1913\", \"1933\", \"1931\", \"1881\", \"1927\", \"1935\", \"1928\", \"1912\"], \"None\")\n",
    "df[\"neighborhoodOrLocality\"] = df[\"neighborhoodOrLocality\"].replace([\"1907\", \"1900\", \"1989\", \"1955\", \"1875\", \"1886\", \"1932\", \"1954\", \"1966\", \"1949\", \"1995\", \"1899\"], \"None\")\n",
    "df[\"neighborhoodOrLocality\"] = df[\"neighborhoodOrLocality\"].replace([\"1925\", \"2024\", \"2016\", \"1850\", \"To be done up\", \"1919\", \"2020\", \"1890\", \"1988\", \"1972\", \"1945\"], \"None\")\n",
    "df[\"neighborhoodOrLocality\"] = df[\"neighborhoodOrLocality\"].replace([\"To renovate\", \"1897\", \"2012\", \"2017\"], \"None\")\n",
    "df.constructionYear = df.constructionYear.fillna(\"None\")\n",
    "df[\"constructionYear\"] = df[\"constructionYear\"].replace([\"2\", \"5\", \"3\", \"1\", \"4\", \"7\", \"14\", \"6\", \"8\", \"11\", \"10\", \"9\", \"13\", \"12\", \"Good\", \"To renovate\"], \"None\")\n",
    "df[\"constructionYear\"] = df[\"constructionYear\"].replace([\"To be done up\", \"Just renovated\", \"5.45 m\", \"10 m\", \"11 m\", \"To restore\", \"2 m\", \"As new\"], \"None\")\n",
    "df.floor = df.floor.fillna(\"None\")\n",
    "df[\"floor\"] = df[\"floor\"].replace([\"999\", \"Just renovated\", \"As new\", \"Good\"], \"None\")\n",
    "df.numberOfFloors = df.numberOfFloors.fillna(\"None\")\n",
    "df[\"numberOfFloors\"] = df[\"numberOfFloors\"].replace([\"Good\", \"As new\", \"To be done up\", \"Just renovated\", \"To renovate\", \"To restore\", \"117m²square meters\"], \"None\")\n",
    "df.livingArea = df.livingArea.fillna(\"None\")\n",
    "df[\"livingArea\"] = df[\"livingArea\"].replace(r\"m²square meters\", r\"\", regex=True)"
   ]
  },
  {
   "cell_type": "code",
   "execution_count": 139,
   "metadata": {},
   "outputs": [
    {
     "data": {
      "text/plain": [
       "array(['91', '90', '25', 'None', '101', '151', '105', '42', '107', '137',\n",
       "       '63', '96', '99', '92', '60', '106', '98', '175', '62', '160',\n",
       "       '163', '271', '100', '260', '85', '28', '30', 'Installed', '110',\n",
       "       '55', '67', '74', '80', '119', '70', '120', '94', '150', '139',\n",
       "       '180', '104', '43', '230', '77', '128', '38', '130', '140', '34',\n",
       "       '79', '116', '117', '95', '78', '82', '76', '75', '33', '97',\n",
       "       '112', '111', '115', '126', '165', '146', '148', '134', '203',\n",
       "       '22', '118', 'USA hyper equipped', '277', '81', '127', '40', '46',\n",
       "       '108', '123', '1', '66', '20', '190', 'Yes', '88', '32', '57',\n",
       "       '93', '109', '122', '103', '36', 'Semi equipped', '228', '87',\n",
       "       '121', '65', '48', '71', '114', '124', '125', '132', '186', '169',\n",
       "       '257', '166', '161', '274', '153', '179', '72', '69', '83', '267',\n",
       "       '300', 'Hyper equipped', 'USA installed', '24', '154', '53', '29',\n",
       "       '16', '68', '39', '35', '50', '18', '45', '86', '113', '84', '102',\n",
       "       '23', '52', '56', '64', '37', '131', '141', '26', '135', '41',\n",
       "       '145', '216', '470', '225', '51', '44', '89', '188', '155', '172',\n",
       "       '350', '198', '61', '255', '192', '210', '185', '213', '58', '142',\n",
       "       '220', '235', '249', '280', '233', '181', '2', '3', '157', '278',\n",
       "       '218', '195', '560', '59', '27', '31', '152', '136', '156', '170',\n",
       "       '133', '211', '222', '174', '197', '288', '226', '240', '167',\n",
       "       '73', '184', '149', '158', '258', '305', '178', '292', '164',\n",
       "       '301', '229', '200', '275', '320', '500', '15', '282', '17', '215',\n",
       "       '159', '49', '212', '144', '187', '147', '286', '247', '54', '129',\n",
       "       '234', 'Not installed', '182', '176', '265', '290', '354', '312',\n",
       "       '270', '525', '520', '700', '283', '414', '242', '800', '540',\n",
       "       '306', '1010', '208', '550', '207', '420', '285', '680', '138',\n",
       "       '191', '196', '194', '252', '168', '237', '183', '788', '302',\n",
       "       '223', '239', '173', '390', '330', '430', '19', '370', '304',\n",
       "       '921', '325', '475', '450', '424', '1120', '570', '577', '276',\n",
       "       '250', '238', '221', '219', '256', '380', '505', '266', '209',\n",
       "       '355', '600', '162', '321', '310', '384', '318', '21', '193',\n",
       "       '224', '244', '313', '358', '403', '205', '480', '468', '348',\n",
       "       '400', '568', '307', '457', '509', '263', '764', '1350', '530',\n",
       "       '171', '526', '231', '297', '308', '236', '269', '406', '1173',\n",
       "       '387', '362', '143', '201', '202', '264', '415', '298', '296',\n",
       "       '440', '673', '253', '423', '419', '346', '394', '375', '340',\n",
       "       '514', '376', '189', '322', '361', '357', '177', '299', '417',\n",
       "       '227', '261', '262', '251', '294', '323', '336', '329', '588',\n",
       "       '447', '445', '432', '579', '455', 'No', '319', '217', '245',\n",
       "       '739', '5', '363', '293', '702', '395', '365', '1458', '343',\n",
       "       '335', '268', '740', '289', '199', '14', '371', '408', '422',\n",
       "       '333', '405', '459', '360', '567', '254', '671', '458', '625',\n",
       "       '353', '442', '404', '598', '623', '206', '273', '324', '344',\n",
       "       '214', '412', '552', '564', '385', '548', '528', '554', '13',\n",
       "       '389', '580', '657', '7', '453', '295', '284', 'USA semi equipped',\n",
       "       '4', '464', '373', '379', '1457', '311', '1600', '1000', '584',\n",
       "       '454', '452', '272'], dtype=object)"
      ]
     },
     "execution_count": 139,
     "metadata": {},
     "output_type": "execute_result"
    }
   ],
   "source": [
    "##df.head(3)\n",
    "df.livingArea.unique()\n",
    "##df.loc[df[\"longitude\"].isnull()]\n",
    "##df[\"longitude\"] = df[\"longitude\"].fillna(999)\n",
    "##df.to_csv(r\"properties_working.csv\", index = False, header = True, escapechar = \"\\\\\")\n",
    "##df.shape\n",
    "##df[\"type\"].value_counts()\n",
    "##df[\"livingArea\"] = df[\"livingArea\"].replace([\"m²square meters\"], \"\")"
   ]
  }
 ],
 "metadata": {
  "kernelspec": {
   "display_name": "Python 3.10.7 ('immo_eliza')",
   "language": "python",
   "name": "python3"
  },
  "language_info": {
   "codemirror_mode": {
    "name": "ipython",
    "version": 3
   },
   "file_extension": ".py",
   "mimetype": "text/x-python",
   "name": "python",
   "nbconvert_exporter": "python",
   "pygments_lexer": "ipython3",
   "version": "3.10.7"
  },
  "orig_nbformat": 4,
  "vscode": {
   "interpreter": {
    "hash": "a33f1ef1e9ec6c31820fe781c5813ed8dc5071af9cb6488d9d33ac3262f9cb66"
   }
  }
 },
 "nbformat": 4,
 "nbformat_minor": 2
}
