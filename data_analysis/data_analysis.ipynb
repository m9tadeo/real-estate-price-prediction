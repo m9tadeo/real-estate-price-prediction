{
 "cells": [
  {
   "cell_type": "code",
   "execution_count": 32,
   "metadata": {},
   "outputs": [
    {
     "data": {
      "text/plain": [
       "'This is my data analysis notebook'"
      ]
     },
     "execution_count": 32,
     "metadata": {},
     "output_type": "execute_result"
    }
   ],
   "source": [
    "\"\"\"This is my data analysis notebook\"\"\""
   ]
  },
  {
   "cell_type": "code",
   "execution_count": 33,
   "metadata": {},
   "outputs": [],
   "source": [
    "\"\"\"Imports\"\"\"\n",
    "import pandas as pd\n",
    "import numpy as np"
   ]
  },
  {
   "cell_type": "code",
   "execution_count": 287,
   "metadata": {},
   "outputs": [
    {
     "name": "stderr",
     "output_type": "stream",
     "text": [
      "C:\\Users\\ARCH GLOBAL\\AppData\\Local\\Temp\\ipykernel_19356\\1113565266.py:1: DtypeWarning: Columns (21,116,123,124,125,133,134,135,137,138,139,140,141,144,145,146,149,150,151,152,153,154,155,156,157,162,164,168,169,170,174,175,176,177,179,184,185,186,187,188,189,192,193,204,205,207,217,218,219,227,230,240,241,242,243,244,245,247,248,249,250) have mixed types. Specify dtype option on import or set low_memory=False.\n",
      "  df = pd.read_csv('properties.csv')\n"
     ]
    }
   ],
   "source": [
    "df = pd.read_csv('properties.csv')"
   ]
  },
  {
   "cell_type": "code",
   "execution_count": 288,
   "metadata": {},
   "outputs": [],
   "source": [
    "\"\"\"This is a section to add 'type' column to dataFrame\"\"\"\n",
    "df[\"type\"] = \"Apartment\"   ##add column 'Type' and assign value 'Apartment'\n",
    "df.loc[df.index[2280:4560], \"type\"] = \"House\"   ##assign value 'House' on 2nd half of data to column 'Type'\n",
    "move = df.pop(\"type\")\n",
    "df.insert(1, \"type\", move)   ##move 'type' column"
   ]
  },
  {
   "cell_type": "code",
   "execution_count": 289,
   "metadata": {},
   "outputs": [],
   "source": [
    "\"\"\"This is a section to remove duplicate rows and extraneous columns\"\"\"\n",
    "df.drop_duplicates('Immoweb code', inplace = True)\n",
    "df.drop(df.columns[217:252], inplace=True, axis=1)\n",
    "df.drop(df.columns[145:213], inplace=True, axis=1)\n",
    "df.drop(df.columns[121:143], inplace=True, axis=1)\n",
    "df.drop(df.columns[115:119], inplace=True, axis=1)\n",
    "df.drop(df.columns[110:113], inplace=True, axis=1)\n",
    "df.drop(df.columns[101], inplace=True, axis=1)\n",
    "df.drop(df.columns[86], inplace=True, axis=1)\n",
    "df.drop(df.columns[77], inplace=True, axis=1)\n",
    "df.drop(df.columns[69:74], inplace=True, axis=1)\n",
    "df.drop(df.columns[62:65], inplace=True, axis=1)\n",
    "df.drop(df.columns[59], inplace=True, axis=1)\n",
    "df.drop(df.columns[55:57], inplace=True, axis=1)\n",
    "df.drop(df.columns[49], inplace=True, axis=1)\n",
    "df.drop(df.columns[17], inplace=True, axis=1)\n",
    "df.drop(df.columns[11:15], inplace=True, axis=1)\n",
    "df.drop(df.columns[5], inplace=True, axis=1)"
   ]
  },
  {
   "cell_type": "code",
   "execution_count": 290,
   "metadata": {},
   "outputs": [],
   "source": [
    "\"\"\"This is the section to start cleansing the data\"\"\"\n",
    "df = df.replace(r\"^ +| +$\", r\"\", regex=True)   ##remove leading and trailing spaces\n",
    "df = df.replace(r\"\\\\\\\\u00e8\", r\"e\", regex=True)   ##remove special characters\n",
    "df = df.replace(r\"\\\\\\\\u00e2\", r\"a\", regex=True)   ##remove special characters\n",
    "df = df.replace(r\"\\\\\\\\u00e0\", r\"a\", regex=True)   ##remove special characters\n",
    "df = df.replace(r\"\\\\\\\\u00e9\", r\"e\", regex=True)   ##remove special characters\n",
    "df = df.replace(r\"\\\\\\\\u00fc\", r\"u\", regex=True)   ##remove special characters\n",
    "df = df.replace(r\"\\\\\\\\u2019\", r\"'\", regex=True)   ##remove special characters\n",
    "df = df.replace(r\"\\\\\\\\u00ee\", r\"i\", regex=True)   ##remove special characters\n",
    "df = df.replace(r\"\\\\\\\\u00eb\", r\"e\", regex=True)   ##remove special characters\n",
    "df = df.replace(r\"\\\\\\\\u00ea\", r\"e\", regex=True)   ##remove special characters\n",
    "df = df.replace(r\"\\\\\\\\u00e7\", r\"c\", regex=True)   ##remove special characters\n",
    "df = df.replace(r\"\\\\\\\\u00df\", r\"ss\", regex=True)   ##remove special characters\n",
    "df = df.replace(r\"\\\\\\\\u00b0\", r\"o\", regex=True)   ##remove special characters\n",
    "df = df.replace(r\"\\\\\\\\\", r\"\", regex=True)   ##remove special characters\n",
    "df[\"Price_2\"] = df.apply(lambda c: c[\"Price_1\"]   ##copy Price 1 value to Price 2 where Price 2 is equivalent to 'month'\n",
    "   if c[\"Price_2\"] == \"month\"\n",
    "   else c[\"Price_2\"], axis = 1)\n",
    "df[\"Price_2\"] = df[\"Price_2\"].str.replace(r\"€\", \"\")   ###remove Euro symbol from 'Price_2' values\n",
    "df[\"Price_2\"] = df[\"Price_2\"].str.replace(r\",\", \"\")   ###remove commas from 'Price_2' values\n",
    "df[\"Price_2\"] = df[\"Price_2\"].astype(float)   ##convert Price_2 to float"
   ]
  },
  {
   "cell_type": "code",
   "execution_count": 291,
   "metadata": {},
   "outputs": [],
   "source": [
    "\"\"\"Data cleansing section continuation\"\"\"\n",
    "df.rename(columns = {\"Immoweb code\":\"immowebCode\", \"Price_1\":\"priceString\", \"Price_2\":\"price\"}, inplace = True)   ##rename some columns\n",
    "df.rename(columns = {\"Available date\":\"availableDate\", \"Neighbourhood or locality\":\"neighborhoodOrLocality\", \"Construction year\":\"constructionYear\"}, inplace = True)\n",
    "df.rename(columns = {\"Floor\":\"floor\", \"Number of floors\":\"numberOfFloors\", \"Building condition\":\"buildingCondition\", \"Number of frontages\":\"numberOfFrontages\"}, inplace = True)\n",
    "df.rename(columns = {\"Outdoor parking spaces\":\"outdoorParkingSpaces\", \"Surroundings type\":\"surroundingsType\", \"Living area\":\"livingArea\"}, inplace = True)\n",
    "df.rename(columns = {\"Living room surface\":\"livingRoomSurface\", \"Kitchen type\":\"kitchenType\", \"Kitchen surface\":\"kitchenSurface\", \"Bedrooms\":\"bedrooms\"}, inplace = True)\n",
    "df.rename(columns = {\"Bedroom 1 surface\":\"bedroom1Surface\", \"Bedroom 2 surface\":\"bedroom2Surface\", \"Bathrooms\":\"bathrooms\", \"Toilets\":\"toilets\"}, inplace = True)\n",
    "df.rename(columns = {\"Basement\":\"basement\", \"Furnished\":\"furnished\", \"Terrace surface\":\"terraceSurface\", \"Elevator\":\"elevator\"}, inplace = True)\n",
    "df.rename(columns = {\"Accessible for disabled people\":\"disabilityAccess\", \"TV cable\":\"tvCable\", \"Visio phone\":\"visioPhone\", \"Swimming pool\":\"swimmingPool\"}, inplace = True)\n",
    "df.rename(columns = {\"Primary energy consumption\":\"energyConsumption\", \"Energy class\":\"energyClass\", \"Reference number of the EPC report\":\"EPCReportReference\"}, inplace = True)\n",
    "df.rename(columns = {\"CO₂ emission\":\"CO2Emission\", \"Yearly theoretical total energy consumption\":\"yearlyEnergyConsumption\", \"Property name\":\"propertyName\"}, inplace = True)\n",
    "df.rename(columns = {\"Heating type\":\"heatingType\", \"Thermic solar panels\":\"thermicSolarPanels\", \"Double glazing\":\"doubleGlazing\"}, inplace = True)\n",
    "df.rename(columns = {\"Planning permission obtained\":\"planningPermission\", \"Subdivision permit\":\"subdivisionPermit\", \"Flood zone type\":\"floodZoneType\"}, inplace = True)\n",
    "df.rename(columns = {\"Latest land use designation\":\"landUseDesignation\", \"Cadastral income\":\"cadastralIncome\", \"Tenement building\":\"tenementBuilding\"}, inplace = True)\n",
    "df.rename(columns = {\"Street frontage width\":\"streetFrontageWidth\", \"Covered parking spaces\":\"coveredParkingSpaces\", \"Basement surface\":\"basementSurface\"}, inplace = True)\n",
    "df.rename(columns = {\"Monthly charges\":\"monthlyCharges\", \"Dining room\":\"diningRoom\", \"Shower rooms\":\"showerRooms\", \"Intercom\":\"intercom\"}, inplace = True)\n",
    "df.rename(columns = {\"Bedroom 3 surface\":\"bedroom3Surface\", \"Armored door\":\"armoredDoor\", \"Laundry room\":\"laundryRoom\"}, inplace = True)\n",
    "df.rename(columns = {\"Caretaker\":\"caretaker\", \"Common water heater\":\"commonWaterHeater\", \"Living room\":\"livingRoom\", \"Attic\":\"attic\"}, inplace = True)\n",
    "df.rename(columns = {\"Bedroom 4 surface\":\"bedroom4Surface\", \"Office\":\"office\", \"Office surface\":\"officeSurface\", \"Secure access / alarm\":\"alarm\"}, inplace = True)\n",
    "df.rename(columns = {\"E-level (overall energy performance)\":\"E-level\", \"Heat pump\":\"heatPump\", \"Photovoltaic solar panels\":\"PVSolarPanels\"}, inplace = True)\n",
    "df.rename(columns = {\"Width of the lot on the street\":\"lotWidth\", \"Garden orientation\":\"gardenOrientation\", \"Dressing room\":\"dressingRoom\"}, inplace = True)\n",
    "df.rename(columns = {\"Professional space\":\"professionalSpace\", \"Connection to sewer network\":\"sewerConnection\", \"Jacuzzi\":\"jacuzzi\", \"Sauna\":\"sauna\"}, inplace = True)\n",
    "df.rename(columns = {\"Surface of the plot\":\"plotSurface\", \"Type of building\":\"buildingType\", \"How many fireplaces?\":\"fireplaces\"}, inplace = True)\n",
    "df.rename(columns = {\"Air conditioning\":\"airConditioning\", \"Internet\":\"internet\", \"Professional space surface\":\"professionalSpaceSurface\"}, inplace = True)\n",
    "df.rename(columns = {\"Attic surface\":\"atticSurface\", \"Bedroom 5 surface\":\"bedroom5Surface\", \"Land is facing street\":\"streetFacing\", \"Wooded land\":\"woodedLand\"}, inplace = True)\n",
    "df.rename(columns = {\"Plot at rear\":\"rearPlot\", \"Flat land\":\"flatLand\", \"Garden surface\":\"gardenSurface\", \"Garden\":\"garden\", \"Terrace\":\"terrace\"}, inplace = True)\n",
    "df.rename(columns = {\"Gas, water & electricity\":\"gasWaterElectric\", \"Isolated\":\"isolated\", \"Terrace orientation\":\"terraceOrientation\"}, inplace = True)\n",
    "df.drop([235], axis=0, inplace=True)   ##remove Luxembourg property (1 row)\n",
    "df.dropna(subset = [\"country\"], inplace=True)   ##remove properties with null addresses (71 rows)\n",
    "df.loc[3620, \"country\"] = \"Belgium\"   ##change erroneous Luxembourg country value to Belgium\n",
    "df.loc[599, \"locality\"] = \"Auderghem\"   ##replace nan value in locality\n",
    "df[\"postalCode\"] = df[\"postalCode\"].astype(int)   ##convert postalCode to integer\n",
    "df[\"latitude\"] = df[\"latitude\"].fillna(99)   ##replace empty latitude values with 99\n",
    "df[\"longitude\"] = df[\"longitude\"].fillna(999)   ##replace empty longitude values with 999"
   ]
  },
  {
   "cell_type": "code",
   "execution_count": 292,
   "metadata": {},
   "outputs": [],
   "source": [
    "\"\"\"Data cleansing section continuation\"\"\"\n",
    "df.availableDate = df.availableDate.fillna(\"None\")   ##cleanse 'availableDate' column\n",
    "df[\"availableDate\"] = df[\"availableDate\"].replace([\"Bruxelles Est\", \"1964\", \"1961\", \"1970\", \"Bruxelles (19 communes)\", \"Est de Bruxelles + VL\", \"1967\", \"2014\"], \"None\")\n",
    "df[\"availableDate\"] = df[\"availableDate\"].replace([\"Link to the virtual visit\", \"Bruxelles\", \"65kWh/m²kilowatt hour per square meters\"], \"None\")\n",
    "df[\"availableDate\"] = df[\"availableDate\"].replace([\"100kWh/m²kilowatt hour per square meters\", \"1960\", \"1963\", \"1958\", \"Les Woluwes\", \"27\", \"1965\", \"Brabant Wallon\"], \"None\")\n",
    "df[\"availableDate\"] = df[\"availableDate\"].replace([\"1959\", \"74kWh/m²kilowatt hour per square meters\", \"30kWh/m²kilowatt hour per square meters\", \"1900\"], \"None\")\n",
    "df[\"availableDate\"] = df[\"availableDate\"].replace([\"1957\", \"Est de Bruxelles\", \"1954\", \"Namurois\", \"1909\", \"1910\", \"1952\", \"1968\", \"1989\", \"1912\", \"Omgeving Kraainem\"], \"None\")\n",
    "df[\"availableDate\"] = df[\"availableDate\"].replace([\"Bruxelles Sud\", \"1975\", \"1974\", \"1920\", \"1899\", \"Kraainem\", \"1930\", \"1918\", \"1860\", \"Woluwe-Saint-Pierre\"], \"None\")\n",
    "df[\"availableDate\"] = df[\"availableDate\"].replace([\"1996\", \"2002\", \"Quartier Montgomery\", \"BEYNE HEUSAY/BELAIRE/QUEUE DU BOIS\", \"1932\", \"1914\", \"Brabant Flamand Est\"], \"None\")\n",
    "df[\"availableDate\"] = df[\"availableDate\"].replace([\"As new\", \"1\", \"4\", \"2\", \"Good\", \"2004\", \"1907\", \"1925\"], \"None\")\n",
    "df.neighborhoodOrLocality = df.neighborhoodOrLocality.fillna(\"None\")   ##cleanse 'neighborhoodOrLocality' column\n",
    "df[\"neighborhoodOrLocality\"] = df[\"neighborhoodOrLocality\"].replace([\"1968\", \"1992\", \"1978\", \"1990\", \"1956\", \"1964\", \"1980\", \"1959\", \"1936\", \"1975\", \"1920\", \"1983\"], \"None\")\n",
    "df[\"neighborhoodOrLocality\"] = df[\"neighborhoodOrLocality\"].replace([\"1965\", \"1937\", \"1958\", \"1939\", \"12\", \"1969\", \"37\", \"1\", \"1962\", \"1974\", \"1940\", \"1971\", \"1960\"], \"None\")\n",
    "df[\"neighborhoodOrLocality\"] = df[\"neighborhoodOrLocality\"].replace([\"2000\", \"1997\", \"1993\", \"1957\", \"2008\", \"2013\", \"1991\", \"1999\", \"1950\", \"1979\", \"1973\", \"1963\"], \"None\")\n",
    "df[\"neighborhoodOrLocality\"] = df[\"neighborhoodOrLocality\"].replace([\"1970\", \"22\", \"2001\", \"1930\", \"2019\", \"2022\", \"1982\", \"1967\", \"1910\", \"1977\", \"2010\", \"1984\"], \"None\")\n",
    "df[\"neighborhoodOrLocality\"] = df[\"neighborhoodOrLocality\"].replace([\"1961\", \"2002\", \"2003\", \"2004\", \"2018\", \"2011\", \"2006\", \"2021\", \"-\", \"1938\", \"1934\", \"2014\"], \"None\")\n",
    "df[\"neighborhoodOrLocality\"] = df[\"neighborhoodOrLocality\"].replace([\"1981\", \"2005\", \"1911\", \"1994\", \"1913\", \"1933\", \"1931\", \"1881\", \"1927\", \"1935\", \"1928\", \"1912\"], \"None\")\n",
    "df[\"neighborhoodOrLocality\"] = df[\"neighborhoodOrLocality\"].replace([\"1907\", \"1900\", \"1989\", \"1955\", \"1875\", \"1886\", \"1932\", \"1954\", \"1966\", \"1949\", \"1995\", \"1899\"], \"None\")\n",
    "df[\"neighborhoodOrLocality\"] = df[\"neighborhoodOrLocality\"].replace([\"1925\", \"2024\", \"2016\", \"1850\", \"To be done up\", \"1919\", \"2020\", \"1890\", \"1988\", \"1972\", \"1945\"], \"None\")\n",
    "df[\"neighborhoodOrLocality\"] = df[\"neighborhoodOrLocality\"].replace([\"To renovate\", \"1897\", \"2012\", \"2017\"], \"None\")"
   ]
  },
  {
   "cell_type": "code",
   "execution_count": 293,
   "metadata": {},
   "outputs": [],
   "source": [
    "\"\"\"Data cleansing section continuation\"\"\"\n",
    "df.constructionYear = df.constructionYear.fillna(\"None\")   ##cleanse 'constructionYear' column\n",
    "df[\"constructionYear\"] = df[\"constructionYear\"].replace([\"2\", \"5\", \"3\", \"1\", \"4\", \"7\", \"14\", \"6\", \"8\", \"11\", \"10\", \"9\", \"13\", \"12\", \"Good\", \"To renovate\"], \"None\")\n",
    "df[\"constructionYear\"] = df[\"constructionYear\"].replace([\"To be done up\", \"Just renovated\", \"5.45 m\", \"10 m\", \"11 m\", \"To restore\", \"2 m\", \"As new\"], \"None\")\n",
    "df.floor = df.floor.fillna(\"None\")   ##cleanse 'floor' column\n",
    "df[\"floor\"] = df[\"floor\"].replace([\"999\", \"Just renovated\", \"As new\", \"Good\"], \"None\")\n",
    "df.numberOfFloors = df.numberOfFloors.fillna(\"None\")   ##cleanse 'numberOfFloors' column\n",
    "df[\"numberOfFloors\"] = df[\"numberOfFloors\"].replace([\"Good\", \"As new\", \"To be done up\", \"Just renovated\", \"To renovate\", \"To restore\", \"117m²square meters\"], \"None\")"
   ]
  },
  {
   "cell_type": "code",
   "execution_count": 294,
   "metadata": {},
   "outputs": [],
   "source": [
    "\"\"\"Data cleansing section continuation\"\"\"\n",
    "df.livingArea = df.livingArea.fillna(\"None\")   ##cleanse 'livingArea' column\n",
    "df[\"livingArea\"] = df[\"livingArea\"].replace(r\"m²square meters\", r\"\", regex=True)\n",
    "df[\"livingArea\"] = df[\"livingArea\"].replace([\"Installed\", \"USA hyper equipped\", \"Yes\", \"Semi equipped\", \"Hyper equipped\", \"USA installed\", \"Not installed\"], \"None\")\n",
    "df[\"livingArea\"] = df[\"livingArea\"].replace([\"USA semi equipped\", \"No\"], \"None\")\n",
    "df.livingRoomSurface = df.livingRoomSurface.fillna(\"None\")   ##cleanse 'livingRoomSurface' column\n",
    "df[\"livingRoomSurface\"] = df[\"livingRoomSurface\"].replace([\"Yes\", \"Installed\", \"Semi equipped\", \"Hyper equipped\", \"USA hyper equipped\", \"USA semi equipped\"], \"None\")\n",
    "df[\"livingRoomSurface\"] = df[\"livingRoomSurface\"].replace([\"Not installed\", \"3\", \"USA installed\"], \"None\")\n",
    "df[\"livingRoomSurface\"] = df[\"livingRoomSurface\"].replace(r\"m²square meters\", r\"\", regex=True)\n",
    "df.kitchenSurface = df.kitchenSurface.fillna(\"None\")   ##cleanse 'kitchenSurface' column\n",
    "df[\"kitchenSurface\"] = df[\"kitchenSurface\"].replace([\"3\", \"1\", \"4\", \"5\", \"8\", \"6\", \"7\", \"9\"], \"None\")\n",
    "df[\"kitchenSurface\"] = df[\"kitchenSurface\"].replace(r\"m²square meters\", r\"\", regex=True)\n",
    "df[\"kitchenSurface\"] = df[\"kitchenSurface\"].replace(r\"m²square meter\", r\"\", regex=True)\n",
    "df.bedrooms = df.bedrooms.fillna(\"None\")   ##cleanse 'bedrooms' column\n",
    "df[\"bedrooms\"] = df[\"bedrooms\"].replace([\"No\", \"Not specified\"], \"None\")\n",
    "df[\"bedrooms\"] = df[\"bedrooms\"].replace(r\"^\\d+?m²square meters\", r\"None\", regex=True)\n",
    "df.bedroom1Surface = df.bedroom1Surface.fillna(\"None\")   ##cleanse 'bedroom1Surface' column\n",
    "df[\"bedroom1Surface\"] = df[\"bedroom1Surface\"].replace([\"1\", \"4\"], \"None\")\n",
    "df[\"bedroom1Surface\"] = df[\"bedroom1Surface\"].replace(r\"m²square meters\", r\"\", regex=True)\n",
    "df[\"bedroom1Surface\"] = df[\"bedroom1Surface\"].replace(r\"m²square meter\", r\"\", regex=True)\n",
    "df.bedroom2Surface = df.bedroom2Surface.fillna(\"None\")   ##cleanse 'bedroom2Surface' column\n",
    "df[\"bedroom2Surface\"] = df[\"bedroom2Surface\"].replace([\"1\", \"2\", \"3\"], \"None\")\n",
    "df[\"bedroom2Surface\"] = df[\"bedroom2Surface\"].replace(r\"m²square meters\", r\"\", regex=True)\n",
    "df.bedroom3Surface = df.bedroom3Surface.fillna(\"None\")   ##cleanse 'bedroom3Surface' column\n",
    "df[\"bedroom3Surface\"] = df[\"bedroom3Surface\"].replace([\"2\", \"3\", \"1\", \"Yes\"], \"None\")\n",
    "df[\"bedroom3Surface\"] = df[\"bedroom3Surface\"].replace(r\"m²square meters\", r\"\", regex=True)\n",
    "df.bathrooms = df.bathrooms.fillna(\"None\")   ##cleanse 'bathrooms' column\n",
    "df[\"bathrooms\"] = df[\"bathrooms\"].replace([\"390kWh/m²kilowatt hour per square meters\", \"No\", \"Yes\"], \"None\")\n",
    "df[\"bathrooms\"] = df[\"bathrooms\"].replace(r\"^\\d+?m²square meters\", r\"None\", regex=True)\n",
    "df.toilets = df.toilets.fillna(\"None\")   ##cleanse 'toilets' column\n",
    "df[\"toilets\"] = df[\"toilets\"].replace([\"295kWh/m²kilowatt hour per square meters\", \"329kWh/m²kilowatt hour per square meters\", \"No\", \"Yes\"], \"None\")\n",
    "df[\"toilets\"] = df[\"toilets\"].replace(r\"^\\d+?m²square meters\", r\"None\", regex=True)"
   ]
  },
  {
   "cell_type": "code",
   "execution_count": 295,
   "metadata": {},
   "outputs": [],
   "source": [
    "\"\"\"Data cleansing section continuation\"\"\"\n",
    "df.basement = df.basement.fillna(\"0\")   ##cleanse 'basement' column\n",
    "df[\"basement\"] = df[\"basement\"].replace([\"No\"], \"1\")\n",
    "df[\"basement\"] = df[\"basement\"].replace([\"Yes\"], \"2\")\n",
    "df[\"basement\"] = df[\"basement\"].replace([\"Not specified\", \"Connected\"], \"0\")\n",
    "df[\"basement\"] = df[\"basement\"].replace(r\"^\\d+?m²square meters\", r\"0\", regex=True)\n",
    "df.basementSurface = df.basementSurface.fillna(\"None\")   ##cleanse 'basementSurface' column\n",
    "df[\"basementSurface\"] = df[\"basementSurface\"].replace([\"Yes\", \"No\"], \"None\")\n",
    "df[\"basementSurface\"] = df[\"basementSurface\"].replace(r\"m²square meters\", r\"\", regex=True)\n",
    "df[\"basementSurface\"] = df[\"basementSurface\"].replace(r\"m²square meter\", r\"\", regex=True)\n",
    "df.terrace = df.terrace.fillna(\"0\")   ##cleanse 'terrace' column\n",
    "df[\"terrace\"] = df[\"terrace\"].replace([\"No\"], \"1\")\n",
    "df[\"terrace\"] = df[\"terrace\"].replace([\"Yes\"], \"2\")\n",
    "df[\"terrace\"] = df[\"terrace\"].replace([\"Not specified\", \"South\"], \"0\")\n",
    "df[\"terrace\"] = df[\"terrace\"].replace(r\"^\\d+?kWh/m²kilowatt hour per square meters\", r\"0\", regex=True)\n",
    "df.terraceSurface = df.terraceSurface.fillna(\"None\")   ##cleanse 'terraceSurface' column\n",
    "df[\"terraceSurface\"] = df[\"terraceSurface\"].replace([\"Yes\", \"No\", \"1m²square meter\", \"South\", \"West\", \"South West\", \"Not specified\"], \"None\")\n",
    "df[\"terraceSurface\"] = df[\"terraceSurface\"].replace(r\"m²square meters\", r\"\", regex=True)\n",
    "df[\"terraceSurface\"] = df[\"terraceSurface\"].replace(r\"^\\d+?kWh/m²kilowatt hour per square meters\", r\"None\", regex=True)\n",
    "df[\"terraceSurface\"] = df[\"terraceSurface\"].replace([\"76.88kWh/m²kilowatt hour per square meters\"], \"None\")\n",
    "df.terraceOrientation = df.terraceOrientation.fillna(\"0\")   ##cleanse 'terraceOrientation' column\n",
    "df[\"terraceOrientation\"] = df[\"terraceOrientation\"].replace([\"Yes\", \"No\"], \"0\")\n",
    "df[\"terraceOrientation\"] = df[\"terraceOrientation\"].replace([\"North\"], \"360\")\n",
    "df[\"terraceOrientation\"] = df[\"terraceOrientation\"].replace([\"North East\"], \"45\")\n",
    "df[\"terraceOrientation\"] = df[\"terraceOrientation\"].replace([\"East\"], \"90\")\n",
    "df[\"terraceOrientation\"] = df[\"terraceOrientation\"].replace([\"South East\"], \"135\")\n",
    "df[\"terraceOrientation\"] = df[\"terraceOrientation\"].replace([\"South\"], \"180\")\n",
    "df[\"terraceOrientation\"] = df[\"terraceOrientation\"].replace([\"South West\"], \"225\")\n",
    "df[\"terraceOrientation\"] = df[\"terraceOrientation\"].replace([\"West\"], \"270\")\n",
    "df[\"terraceOrientation\"] = df[\"terraceOrientation\"].replace([\"North West\"], \"315\")"
   ]
  },
  {
   "cell_type": "code",
   "execution_count": null,
   "metadata": {},
   "outputs": [],
   "source": [
    "df.elevator = df.elevator.fillna(\"0\")   ##cleanse 'elevator' column\n",
    "df[\"elevator\"] = df[\"elevator\"].replace([\"No\"], \"1\")\n",
    "df[\"elevator\"] = df[\"elevator\"].replace([\"Yes\"], \"2\")\n",
    "df[\"elevator\"] = df[\"elevator\"].replace(r\"^\\d+?kWh/m²kilowatt hour per square meters\", r\"0\", regex=True)\n",
    "df[\"elevator\"] = df[\"elevator\"].replace([\"Not specified\"], \"0\")\n",
    "df.disabilityAccess = df.disabilityAccess.fillna(\"0\")   ##cleanse 'disabilityAccess' column\n",
    "df[\"disabilityAccess\"] = df[\"disabilityAccess\"].replace([\"No\"], \"1\")\n",
    "df[\"disabilityAccess\"] = df[\"disabilityAccess\"].replace([\"Yes\"], \"2\")\n",
    "df[\"disabilityAccess\"] = df[\"disabilityAccess\"].replace(r\"^\\d+?kWh/m²kilowatt hour per square meters\", r\"0\", regex=True)\n",
    "df.armoredDoor = df.armoredDoor.fillna(\"0\")   ##cleanse 'armoredDoor' column\n",
    "df[\"armoredDoor\"] = df[\"armoredDoor\"].replace(r\"^\\d+?m²square meters|^\\d+?kWh/m²kilowatt hour per square meters\", r\"0\", regex=True)\n",
    "df[\"armoredDoor\"] = df[\"armoredDoor\"].replace([\"No\"], \"1\")\n",
    "df[\"armoredDoor\"] = df[\"armoredDoor\"].replace([\"Yes\"], \"2\")"
   ]
  },
  {
   "cell_type": "code",
   "execution_count": 296,
   "metadata": {},
   "outputs": [],
   "source": [
    "\"\"\"Data cleansing section continuation\"\"\"\n",
    "df.furnished = df.furnished.fillna(\"0\")   ##cleanse 'furnished' column\n",
    "df[\"furnished\"] = df[\"furnished\"].replace([\"No\"], \"1\")\n",
    "df[\"furnished\"] = df[\"furnished\"].replace([\"Yes\"], \"2\")\n",
    "df[\"furnished\"] = df[\"furnished\"].replace([\"847kWh/m²kilowatt hour per square meters\", \"1181kWh/m²kilowatt hour per square meters\", \"Connected\"], \"0\")\n",
    "df[\"furnished\"] = df[\"furnished\"].replace(r\"^\\d+?m²square meters\", r\"0\", regex=True)\n",
    "df.tvCable = df.tvCable.fillna(\"0\")   ##cleanse 'tvCable' column\n",
    "df[\"tvCable\"] = df[\"tvCable\"].replace([\"No\"], \"1\")\n",
    "df[\"tvCable\"] = df[\"tvCable\"].replace([\"Yes\"], \"2\")\n",
    "df[\"tvCable\"] = df[\"tvCable\"].replace(r\"^\\d+?kWh/m²kilowatt hour per square meters\", r\"0\", regex=True)\n",
    "df.visioPhone = df.visioPhone.fillna(\"0\")   ##cleanse 'visioPhone' column\n",
    "df[\"visioPhone\"] = df[\"visioPhone\"].replace([\"No\"], \"1\")\n",
    "df[\"visioPhone\"] = df[\"visioPhone\"].replace([\"Yes\"], \"2\")\n",
    "df[\"visioPhone\"] = df[\"visioPhone\"].replace(r\"^\\d+?kWh/m²kilowatt hour per square meters\", r\"0\", regex=True)\n",
    "df[\"visioPhone\"] = df[\"visioPhone\"].replace([\"Not specified\"], \"0\")\n",
    "df.intercom = df.intercom.fillna(\"0\")   ##cleanse 'intercom' column\n",
    "df[\"intercom\"] = df[\"intercom\"].replace([\"No\"], \"1\")\n",
    "df[\"intercom\"] = df[\"intercom\"].replace([\"Yes\"], \"2\")\n",
    "df[\"intercom\"] = df[\"intercom\"].replace([\"Not specified\"], \"0\")\n",
    "df.swimmingPool = df.swimmingPool.fillna(\"0\")   ##cleanse 'swimmingPool' column\n",
    "df[\"swimmingPool\"] = df[\"swimmingPool\"].replace([\"No\"], \"1\")\n",
    "df[\"swimmingPool\"] = df[\"swimmingPool\"].replace([\"Yes\"], \"2\")\n",
    "df[\"swimmingPool\"] = df[\"swimmingPool\"].replace(r\"^\\d+?kWh/m²kilowatt hour per square meters\", r\"0\", regex=True)\n",
    "df[\"swimmingPool\"] = df[\"swimmingPool\"].replace([\"Not specified\"], \"0\")"
   ]
  },
  {
   "cell_type": "code",
   "execution_count": 297,
   "metadata": {},
   "outputs": [],
   "source": [
    "\"\"\"Data cleansing section continuation\"\"\"\n",
    "df[\"energyConsumption\"] = df[\"energyConsumption\"].replace(r\"kWh/m²kilowatt hour per square meters\", r\"\", regex=True)   ##cleanse 'energyConsumption' column\n",
    "df[\"energyConsumption\"] = df[\"energyConsumption\"].replace([\"Not specified\", \"A\", \"B\", \"C\", \"D\", \"E\", \"F\", \"G\"], \"None\")\n",
    "df[\"energyClass\"] = df[\"energyClass\"].replace([\"A+\"], \"A\")   ##cleanse 'energyClass' column\n",
    "df[\"energyClass\"] = df[\"energyClass\"].replace([\"Classe A ou B en fonction des appartements\"], \"B\")\n",
    "df[\"energyClass\"] = df[\"energyClass\"].replace([\"Not specified\", \"Provisoire\", \"1\"], \"U\")\n",
    "df[\"energyClass\"] = df[\"energyClass\"].replace(r\"^..+$\", r\"U\", regex=True)\n",
    "df[\"CO2Emission\"] = df[\"CO2Emission\"].replace([\"Not specified\"], \"None\")   ##cleanse 'CO2Emission' column\n",
    "df[\"CO2Emission\"] = df[\"CO2Emission\"].replace(r\"^\\d+?\\skWh/year\", r\"None\", regex=True)\n",
    "df[\"CO2Emission\"] = df[\"CO2Emission\"].replace(r\"\\skg CO₂/m²$\", r\"\", regex=True)\n",
    "##cleanse 'yearlyEnergyConsumption' column\n",
    "df[\"yearlyEnergyConsumption\"] = df[\"yearlyEnergyConsumption\"].replace([\"Not specified\", \"Gas\", \"Fuel oil\", \"No\", \"Yes\", \"Electric\"], \"None\")\n",
    "df[\"yearlyEnergyConsumption\"] = df[\"yearlyEnergyConsumption\"].replace([\"Yes, conform\", \"Non flood zone\"], \"None\")\n",
    "df[\"yearlyEnergyConsumption\"] = df[\"yearlyEnergyConsumption\"].replace(r\"^€\\s.+\\s€$|^\\d+?m²square meters\", r\"None\", regex=True)\n",
    "df[\"yearlyEnergyConsumption\"] = df[\"yearlyEnergyConsumption\"].replace(r\"\\skWh/year$\", r\"\", regex=True)"
   ]
  },
  {
   "cell_type": "code",
   "execution_count": 298,
   "metadata": {},
   "outputs": [],
   "source": [
    "\"\"\"Data cleansing section continuation\"\"\"\n",
    "df.heatingType = df.heatingType.fillna(\"0\")   ##cleanse 'heatingType' column\n",
    "df[\"heatingType\"] = df[\"heatingType\"].replace([\"Living area (residential, urban or rural)\", \"Non flood zone\", \"No\", \"Yes\"], \"0\")\n",
    "df[\"heatingType\"] = df[\"heatingType\"].replace(r\"^€\\s.+\\s€$|^\\d+?m²square meters|^M.+\\s€$\", r\"0\", regex=True)\n",
    "df[\"heatingType\"] = df[\"heatingType\"].replace([\"Gas\"], \"1\")\n",
    "df[\"heatingType\"] = df[\"heatingType\"].replace([\"Electric\"], \"2\")\n",
    "df[\"heatingType\"] = df[\"heatingType\"].replace([\"Fuel oil\"], \"3\")\n",
    "df[\"heatingType\"] = df[\"heatingType\"].replace([\"Pellet\"], \"4\")\n",
    "df[\"heatingType\"] = df[\"heatingType\"].replace([\"Wood\"], \"5\")\n",
    "df[\"heatingType\"] = df[\"heatingType\"].replace([\"Carbon\"], \"6\")\n",
    "df.thermicSolarPanels = df.thermicSolarPanels.fillna(\"0\")   ##cleanse 'thermicSolarPanels' column\n",
    "df[\"thermicSolarPanels\"] = df[\"thermicSolarPanels\"].replace([\"No\"], \"1\")\n",
    "df[\"thermicSolarPanels\"] = df[\"thermicSolarPanels\"].replace([\"Yes\"], \"2\")\n",
    "df.doubleGlazing = df.doubleGlazing.fillna(\"0\")   ##cleanse 'doubleGlazing' column\n",
    "df[\"doubleGlazing\"] = df[\"doubleGlazing\"].replace([\"Living area (residential, urban or rural)\", \"Non flood zone\", \"Recognized flood zone\", \"Bungalow\"], \"0\")\n",
    "df[\"doubleGlazing\"] = df[\"doubleGlazing\"].replace(r\"^€\\s.+\\s€$|^\\d+?m²square meters|^M.+\\s€$\", r\"0\", regex=True)\n",
    "df[\"doubleGlazing\"] = df[\"doubleGlazing\"].replace([\"No\"], \"1\")\n",
    "df[\"doubleGlazing\"] = df[\"doubleGlazing\"].replace([\"Yes\"], \"2\")"
   ]
  },
  {
   "cell_type": "code",
   "execution_count": 299,
   "metadata": {},
   "outputs": [],
   "source": [
    "\"\"\"Data cleansing section continuation\"\"\"\n",
    "df.floodZoneType = df.floodZoneType.fillna(\"0\")   ##cleanse 'floodZoneType' column\n",
    "df[\"floodZoneType\"] = df[\"floodZoneType\"].replace([\"Living area (residential, urban or rural)\", \"Residential area with cultural historical aesthetic value\"], \"0\")\n",
    "df[\"floodZoneType\"] = df[\"floodZoneType\"].replace([\"No\", \"Residential park\", \"Another type of area\", \"Farming area\", \"Residential recreation area\", \"Industrial area\"], \"0\")\n",
    "df[\"floodZoneType\"] = df[\"floodZoneType\"].replace(r\"^€\\s.+\\s€$|^M.+\\s€$\", r\"0\", regex=True)\n",
    "df[\"floodZoneType\"] = df[\"floodZoneType\"].replace([\"Non flood zone\"], \"1\")\n",
    "df[\"floodZoneType\"] = df[\"floodZoneType\"].replace([\"Possible flood zone\"], \"2\")\n",
    "df[\"floodZoneType\"] = df[\"floodZoneType\"].replace([\"Property partially or completely located in a possible flood zone and located in a circumscribed waterside zone\"], \"2\")\n",
    "df[\"floodZoneType\"] = df[\"floodZoneType\"].replace([\"Recognized flood zone\", \"Property partially or completely located in a circumscribed and recognized flood zone\"], \"3\")\n",
    "df[\"floodZoneType\"] = df[\"floodZoneType\"].replace([\"Circumscribed zone\", \"Property partially or completely located in a circumscribed flood zone\"], \"4\")\n",
    "df.landUseDesignation = df.landUseDesignation.fillna(\"None\")   ##cleanse 'landUseDesignation' column\n",
    "df[\"landUseDesignation\"] = df[\"landUseDesignation\"].replace(r\"^€\\s.+\\s€$|^M.+\\s€$\", r\"None\", regex=True)\n",
    "df.tenementBuilding = df.tenementBuilding.fillna(\"0\")   ##cleanse 'tenementBuilding' column\n",
    "df[\"tenementBuilding\"] = df[\"tenementBuilding\"].replace([\"No\"], \"1\")\n",
    "df[\"tenementBuilding\"] = df[\"tenementBuilding\"].replace([\"Yes\"], \"2\")\n",
    "df[\"tenementBuilding\"] = df[\"tenementBuilding\"].replace(r\"^..+$\", r\"0\", regex=True)\n",
    "df.streetFrontageWidth = df.streetFrontageWidth.fillna(\"None\")   ##cleanse 'streetFrontageWidth' column\n",
    "df[\"streetFrontageWidth\"] = df[\"streetFrontageWidth\"].replace([\"Urban\", \"166m²square meters\"], \"None\")\n",
    "df[\"streetFrontageWidth\"] = df[\"streetFrontageWidth\"].replace(r\"\\sm$\", r\"\", regex=True)\n",
    "df.coveredParkingSpaces = df.coveredParkingSpaces.fillna(\"None\")   ##cleanse 'coveredParkingSpaces' column\n",
    "df[\"coveredParkingSpaces\"] = df[\"coveredParkingSpaces\"].replace(r\"^\\d+?m²square meters\", r\"None\", regex=True)\n",
    "df[\"coveredParkingSpaces\"] = df[\"coveredParkingSpaces\"].replace([\"Urban\", \"Landscape\", \"Isolated\", \"Not specified\", \"Countryside\"], \"None\")\n",
    "df[\"coveredParkingSpaces\"] = df[\"coveredParkingSpaces\"].replace([\"Living area (residential, urban or rural)\", \"Link to the virtual visit\"], \"None\")"
   ]
  },
  {
   "cell_type": "code",
   "execution_count": 310,
   "metadata": {},
   "outputs": [],
   "source": [
    "\"\"\"Data cleansing section continuation\"\"\"\n"
   ]
  },
  {
   "cell_type": "code",
   "execution_count": 312,
   "metadata": {},
   "outputs": [
    {
     "data": {
      "text/plain": [
       "0    3155\n",
       "2     351\n",
       "1      79\n",
       "Name: armoredDoor, dtype: int64"
      ]
     },
     "execution_count": 312,
     "metadata": {},
     "output_type": "execute_result"
    }
   ],
   "source": [
    "\n",
    "##df.head(3)\n",
    "##df.armoredDoor.unique()\n",
    "##df.to_csv(r\"properties_working.csv\", index = False, header = True, escapechar = \"\\\\\")\n",
    "##df.shape\n",
    "df[\"armoredDoor\"].value_counts()"
   ]
  }
 ],
 "metadata": {
  "kernelspec": {
   "display_name": "Python 3.10.7 ('immo_eliza')",
   "language": "python",
   "name": "python3"
  },
  "language_info": {
   "codemirror_mode": {
    "name": "ipython",
    "version": 3
   },
   "file_extension": ".py",
   "mimetype": "text/x-python",
   "name": "python",
   "nbconvert_exporter": "python",
   "pygments_lexer": "ipython3",
   "version": "3.10.7"
  },
  "orig_nbformat": 4,
  "vscode": {
   "interpreter": {
    "hash": "a33f1ef1e9ec6c31820fe781c5813ed8dc5071af9cb6488d9d33ac3262f9cb66"
   }
  }
 },
 "nbformat": 4,
 "nbformat_minor": 2
}
